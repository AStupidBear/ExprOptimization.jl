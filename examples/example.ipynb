{
 "cells": [
  {
   "cell_type": "markdown",
   "metadata": {},
   "source": [
    "# ExprOptimization.jl\n",
    "\n",
    "ExprOptimization.jl is a Julia package for optimizing Julia expressions.  The package implements algorithms to optimize expression trees derived from a grammar to optimize a user-defined objective function.\n",
    "\n",
    "## Installation\n",
    "\n",
    "To install the package:\n",
    "\n",
    "    Pkg.add(\"ExprOptimization\")\n",
    "\n",
    "## Usage\n",
    "\n",
    "To start using the package:"
   ]
  },
  {
   "cell_type": "code",
   "execution_count": 16,
   "metadata": {
    "collapsed": true
   },
   "outputs": [],
   "source": [
    "using ExprOptimization"
   ]
  },
  {
   "cell_type": "markdown",
   "metadata": {},
   "source": [
    "\n",
    "## Example -- Approximation of π\n",
    "\n",
    "We consider the example of finding an algebraic expression that approximates pi using only functions from a four function calculator.\n",
    "\n",
    "First, we define a grammar:"
   ]
  },
  {
   "cell_type": "code",
   "execution_count": 17,
   "metadata": {},
   "outputs": [
    {
     "data": {
      "text/plain": [
       "ExprRules.Grammar(Any[1, 2, 3, 4, 5, 6, 7, 8, 9, :(R + R), :(R - R), :(R * R), :(R / R)], Symbol[:R, :R, :R, :R, :R, :R, :R, :R, :R, :R, :R, :R, :R], Bool[true, true, true, true, true, true, true, true, true, false, false, false, false], Bool[false, false, false, false, false, false, false, false, false, false, false, false, false], Dict(:R=>[1, 2, 3, 4, 5, 6, 7, 8, 9, 10, 11, 12, 13]), Array{Symbol,1}[Symbol[], Symbol[], Symbol[], Symbol[], Symbol[], Symbol[], Symbol[], Symbol[], Symbol[], Symbol[:R, :R], Symbol[:R, :R], Symbol[:R, :R], Symbol[:R, :R]])"
      ]
     },
     "execution_count": 17,
     "metadata": {},
     "output_type": "execute_result"
    }
   ],
   "source": [
    "grammar = @grammar begin\n",
    "    R = |(1:9)\n",
    "    R = R + R\n",
    "    R = R - R\n",
    "    R = R * R\n",
    "    R = R / R\n",
    "end"
   ]
  },
  {
   "cell_type": "markdown",
   "metadata": {},
   "source": [
    "Next, we define the loss function by overloading the `loss` function in ExprOptimization.  The loss function returns the real-valued loss of a given expression tree.  The loss is minimized."
   ]
  },
  {
   "cell_type": "code",
   "execution_count": 18,
   "metadata": {
    "collapsed": true
   },
   "outputs": [],
   "source": [
    "function ExprOptimization.loss(tree::RuleNode)\n",
    "    value = eval(tree, grammar)\n",
    "    if isinf(value) || isnan(value)\n",
    "        return Inf\n",
    "    end\n",
    "    Δ = abs(value - π)\n",
    "    return log(Δ) + length(tree) / 1e4\n",
    "end"
   ]
  },
  {
   "cell_type": "markdown",
   "metadata": {},
   "source": [
    "Once these are defined, we can use any of the implemented algorithms to perform the actual optimization.\n",
    "\n",
    "### Monte Carlo\n",
    "\n",
    "Monte Carlo draws a number of random expression trees from the grammar and returns the one with the best loss."
   ]
  },
  {
   "cell_type": "code",
   "execution_count": 19,
   "metadata": {},
   "outputs": [
    {
     "name": "stdout",
     "output_type": "stream",
     "text": [
      "search: \u001b[1mM\u001b[22m\u001b[1mo\u001b[22m\u001b[1mn\u001b[22m\u001b[1mt\u001b[22m\u001b[1me\u001b[22m\u001b[1mC\u001b[22m\u001b[1ma\u001b[22m\u001b[1mr\u001b[22m\u001b[1ml\u001b[22m\u001b[1mo\u001b[22m\u001b[1mP\u001b[22m\u001b[1ma\u001b[22m\u001b[1mr\u001b[22m\u001b[1ma\u001b[22m\u001b[1mm\u001b[22m\u001b[1ms\u001b[22m\n",
      "\n"
     ]
    },
    {
     "data": {
      "text/markdown": [
       "```\n",
       "MonteCarloParams\n",
       "```\n",
       "\n",
       "Parameters for Monte Carlo.\n",
       "\n",
       "# Arguments:\n",
       "\n",
       "  * `num_samples::Int`: number of samples\n",
       "  * `max_depth::Int`: maximum depth of derivation tree\n"
      ],
      "text/plain": [
       "```\n",
       "MonteCarloParams\n",
       "```\n",
       "\n",
       "Parameters for Monte Carlo.\n",
       "\n",
       "# Arguments:\n",
       "\n",
       "  * `num_samples::Int`: number of samples\n",
       "  * `max_depth::Int`: maximum depth of derivation tree\n"
      ]
     },
     "execution_count": 19,
     "metadata": {},
     "output_type": "execute_result"
    }
   ],
   "source": [
    "?MonteCarloParams"
   ]
  },
  {
   "cell_type": "code",
   "execution_count": 20,
   "metadata": {},
   "outputs": [
    {
     "data": {
      "text/plain": [
       "(:(4 - (4 / 9) * ((1 * ((6 - ((4 * 1) * 1) / 3) + 5)) / 5)), 3.140740740740741, 0.0008519128490522831)"
      ]
     },
     "execution_count": 20,
     "metadata": {},
     "output_type": "execute_result"
    }
   ],
   "source": [
    "srand(2)\n",
    "p = MonteCarloParams(500000, 15)\n",
    "results_mc = optimize(p, grammar, :R)\n",
    "(expr, val, err) = (results_mc.expr, eval(results_mc.expr), abs(eval(results_mc.expr)-π))"
   ]
  },
  {
   "cell_type": "code",
   "execution_count": 21,
   "metadata": {},
   "outputs": [
    {
     "data": {
      "image/svg+xml": [
       "<?xml version=\"1.0\" encoding=\"UTF-8\"?>\n",
       "<svg xmlns=\"http://www.w3.org/2000/svg\" xmlns:xlink=\"http://www.w3.org/1999/xlink\" width=\"96.911pt\" height=\"266.561pt\" viewBox=\"0 0 96.911 266.561\" version=\"1.1\">\n",
       "<defs>\n",
       "<g>\n",
       "<symbol overflow=\"visible\" id=\"glyph-1506981941267959-0-0\">\n",
       "<path style=\"stroke:none;\" d=\"\"/>\n",
       "</symbol>\n",
       "<symbol overflow=\"visible\" id=\"glyph-1506981941267959-0-1\">\n",
       "<path style=\"stroke:none;\" d=\"M 4.671875 -3.046875 C 4.671875 -3.40625 4.3125 -3.40625 4.203125 -3.40625 L 1.03125 -3.40625 C 0.90625 -3.40625 0.5625 -3.40625 0.5625 -3.046875 C 0.5625 -2.703125 0.90625 -2.703125 1.03125 -2.703125 L 4.203125 -2.703125 C 4.3125 -2.703125 4.671875 -2.703125 4.671875 -3.046875 Z M 4.671875 -3.046875 \"/>\n",
       "</symbol>\n",
       "<symbol overflow=\"visible\" id=\"glyph-1506981941267959-0-2\">\n",
       "<path style=\"stroke:none;\" d=\"M 4.9375 -1.984375 C 4.9375 -2.296875 4.6875 -2.296875 4.53125 -2.296875 L 3.765625 -2.296875 L 3.765625 -5.796875 C 3.765625 -6.125 3.6875 -6.203125 3.34375 -6.203125 L 3.078125 -6.203125 C 2.828125 -6.203125 2.78125 -6.203125 2.65625 -6 L 0.375 -2.4375 C 0.296875 -2.296875 0.296875 -2.28125 0.296875 -2.078125 C 0.296875 -1.75 0.375 -1.6875 0.6875 -1.6875 L 3.203125 -1.6875 L 3.203125 -0.609375 L 2.578125 -0.609375 C 2.421875 -0.609375 2.1875 -0.609375 2.1875 -0.296875 C 2.1875 0 2.4375 0 2.578125 0 L 4.375 0 C 4.53125 0 4.78125 0 4.78125 -0.296875 C 4.78125 -0.609375 4.53125 -0.609375 4.375 -0.609375 L 3.765625 -0.609375 L 3.765625 -1.6875 L 4.53125 -1.6875 C 4.6875 -1.6875 4.9375 -1.6875 4.9375 -1.984375 Z M 3.203125 -2.296875 L 0.984375 -2.296875 L 3.203125 -5.765625 Z M 3.203125 -2.296875 \"/>\n",
       "</symbol>\n",
       "<symbol overflow=\"visible\" id=\"glyph-1506981941267959-0-3\">\n",
       "<path style=\"stroke:none;\" d=\"M 4.546875 -2.140625 C 4.546875 -2.296875 4.421875 -2.390625 4.40625 -2.40625 C 4.15625 -2.578125 3.484375 -2.90625 3.21875 -3.046875 L 4.296875 -3.625 C 4.421875 -3.703125 4.546875 -3.765625 4.546875 -3.953125 C 4.546875 -4 4.546875 -4.28125 4.140625 -4.28125 L 2.90625 -3.5625 C 2.9375 -3.828125 2.9375 -4.484375 2.9375 -4.78125 C 2.9375 -4.859375 2.9375 -5.1875 2.609375 -5.1875 C 2.28125 -5.1875 2.28125 -4.859375 2.28125 -4.78125 C 2.28125 -4.484375 2.296875 -3.828125 2.3125 -3.5625 L 1.234375 -4.203125 C 1.09375 -4.28125 1.078125 -4.28125 1 -4.28125 C 0.8125 -4.28125 0.671875 -4.109375 0.671875 -3.953125 C 0.671875 -3.765625 0.78125 -3.703125 0.921875 -3.640625 L 2 -3.046875 L 0.921875 -2.46875 C 0.8125 -2.390625 0.671875 -2.328125 0.671875 -2.140625 C 0.671875 -2.09375 0.671875 -1.796875 1.078125 -1.796875 L 2.3125 -2.515625 C 2.296875 -2.265625 2.28125 -1.609375 2.28125 -1.3125 C 2.28125 -1.21875 2.28125 -0.890625 2.609375 -0.890625 C 2.9375 -0.890625 2.9375 -1.21875 2.9375 -1.3125 C 2.9375 -1.609375 2.9375 -2.265625 2.90625 -2.515625 C 3.515625 -2.1875 3.15625 -2.375 3.84375 -1.96875 C 4.109375 -1.796875 4.140625 -1.796875 4.21875 -1.796875 C 4.421875 -1.796875 4.546875 -1.984375 4.546875 -2.140625 Z M 4.546875 -2.140625 \"/>\n",
       "</symbol>\n",
       "<symbol overflow=\"visible\" id=\"glyph-1506981941267959-0-4\">\n",
       "<path style=\"stroke:none;\" d=\"M 4.640625 -6.5625 C 4.640625 -6.75 4.5 -6.921875 4.296875 -6.921875 C 4.078125 -6.921875 4 -6.765625 3.953125 -6.640625 L 0.65625 0.234375 C 0.59375 0.40625 0.578125 0.40625 0.578125 0.484375 C 0.578125 0.65625 0.734375 0.828125 0.921875 0.828125 C 1.140625 0.828125 1.21875 0.671875 1.28125 0.546875 L 4.5625 -6.328125 C 4.640625 -6.484375 4.640625 -6.484375 4.640625 -6.5625 Z M 4.640625 -6.5625 \"/>\n",
       "</symbol>\n",
       "<symbol overflow=\"visible\" id=\"glyph-1506981941267959-0-5\">\n",
       "<path style=\"stroke:none;\" d=\"M 4.6875 -3.109375 C 4.6875 -5.515625 3.59375 -6.203125 2.640625 -6.203125 C 1.53125 -6.203125 0.53125 -5.375 0.53125 -4.171875 C 0.53125 -3.03125 1.40625 -2.140625 2.5 -2.140625 C 3.015625 -2.140625 3.53125 -2.3125 3.984375 -2.71875 C 3.890625 -1.484375 3.109375 -0.5 2.15625 -0.5 C 2.0625 -0.5 1.703125 -0.515625 1.5 -0.671875 C 1.53125 -0.71875 1.578125 -0.78125 1.578125 -0.953125 C 1.578125 -1.1875 1.40625 -1.390625 1.140625 -1.390625 C 0.890625 -1.390625 0.703125 -1.21875 0.703125 -0.921875 C 0.703125 -0.59375 0.875 0.109375 2.15625 0.109375 C 3.46875 0.109375 4.6875 -1.140625 4.6875 -3.109375 Z M 3.921875 -3.875 C 3.921875 -3.328125 3.375 -2.765625 2.546875 -2.765625 C 1.75 -2.765625 1.21875 -3.421875 1.21875 -4.171875 C 1.21875 -5.03125 1.921875 -5.59375 2.640625 -5.59375 C 3.078125 -5.59375 3.34375 -5.359375 3.515625 -5.15625 C 3.828125 -4.78125 3.921875 -4.578125 3.921875 -3.875 Z M 3.921875 -3.875 \"/>\n",
       "</symbol>\n",
       "<symbol overflow=\"visible\" id=\"glyph-1506981941267959-0-6\">\n",
       "<path style=\"stroke:none;\" d=\"M 4.40625 -0.296875 C 4.40625 -0.609375 4.171875 -0.609375 4 -0.609375 L 3.09375 -0.609375 L 3.09375 -5.796875 C 3.09375 -5.953125 3.09375 -6.203125 2.796875 -6.203125 C 2.609375 -6.203125 2.546875 -6.078125 2.5 -5.96875 C 2.125 -5.109375 1.609375 -5 1.421875 -4.984375 C 1.25 -4.96875 1.046875 -4.953125 1.046875 -4.671875 C 1.046875 -4.421875 1.21875 -4.375 1.375 -4.375 C 1.5625 -4.375 1.96875 -4.4375 2.40625 -4.8125 L 2.40625 -0.609375 L 1.5 -0.609375 C 1.34375 -0.609375 1.109375 -0.609375 1.109375 -0.296875 C 1.109375 0 1.359375 0 1.5 0 L 4 0 C 4.15625 0 4.40625 0 4.40625 -0.296875 Z M 4.40625 -0.296875 \"/>\n",
       "</symbol>\n",
       "<symbol overflow=\"visible\" id=\"glyph-1506981941267959-0-7\">\n",
       "<path style=\"stroke:none;\" d=\"M 4.84375 -3.046875 C 4.84375 -3.40625 4.5 -3.40625 4.375 -3.40625 L 2.953125 -3.40625 L 2.953125 -4.828125 C 2.953125 -4.9375 2.953125 -5.296875 2.609375 -5.296875 C 2.265625 -5.296875 2.265625 -4.9375 2.265625 -4.828125 L 2.265625 -3.40625 L 0.84375 -3.40625 C 0.734375 -3.40625 0.375 -3.40625 0.375 -3.046875 C 0.375 -2.703125 0.734375 -2.703125 0.84375 -2.703125 L 2.265625 -2.703125 L 2.265625 -1.28125 C 2.265625 -1.15625 2.265625 -0.8125 2.609375 -0.8125 C 2.953125 -0.8125 2.953125 -1.15625 2.953125 -1.28125 L 2.953125 -2.703125 L 4.375 -2.703125 C 4.5 -2.703125 4.84375 -2.703125 4.84375 -3.046875 Z M 4.84375 -3.046875 \"/>\n",
       "</symbol>\n",
       "<symbol overflow=\"visible\" id=\"glyph-1506981941267959-0-8\">\n",
       "<path style=\"stroke:none;\" d=\"M 4.6875 -1.921875 C 4.6875 -3.0625 3.8125 -3.953125 2.71875 -3.953125 C 2.203125 -3.953125 1.6875 -3.78125 1.234375 -3.375 C 1.375 -4.78125 2.3125 -5.59375 3.1875 -5.59375 C 3.53125 -5.59375 3.6875 -5.484375 3.734375 -5.4375 C 3.6875 -5.390625 3.640625 -5.328125 3.640625 -5.140625 C 3.640625 -4.90625 3.8125 -4.703125 4.078125 -4.703125 C 4.328125 -4.703125 4.53125 -4.875 4.53125 -5.171875 C 4.53125 -5.65625 4.171875 -6.203125 3.203125 -6.203125 C 1.859375 -6.203125 0.53125 -5 0.53125 -2.984375 C 0.53125 -0.625 1.640625 0.109375 2.625 0.109375 C 3.71875 0.109375 4.6875 -0.734375 4.6875 -1.921875 Z M 4 -1.921875 C 4 -1.0625 3.34375 -0.5 2.625 -0.5 C 1.984375 -0.5 1.59375 -0.984375 1.390625 -1.59375 C 1.296875 -1.828125 1.3125 -2.078125 1.3125 -2.21875 C 1.3125 -2.828125 1.90625 -3.328125 2.671875 -3.328125 C 3.484375 -3.328125 4 -2.65625 4 -1.921875 Z M 4 -1.921875 \"/>\n",
       "</symbol>\n",
       "<symbol overflow=\"visible\" id=\"glyph-1506981941267959-0-9\">\n",
       "<path style=\"stroke:none;\" d=\"M 4.78125 -1.734375 C 4.78125 -2.4375 4.3125 -3.03125 3.65625 -3.328125 C 4.21875 -3.6875 4.5 -4.25 4.5 -4.796875 C 4.5 -5.53125 3.765625 -6.203125 2.625 -6.203125 C 1.421875 -6.203125 0.734375 -5.71875 0.734375 -5.03125 C 0.734375 -4.703125 0.984375 -4.5625 1.171875 -4.5625 C 1.390625 -4.5625 1.609375 -4.734375 1.609375 -5.015625 C 1.609375 -5.15625 1.5625 -5.25 1.53125 -5.28125 C 1.828125 -5.59375 2.546875 -5.59375 2.625 -5.59375 C 3.3125 -5.59375 3.8125 -5.234375 3.8125 -4.78125 C 3.8125 -4.484375 3.65625 -4.140625 3.390625 -3.921875 C 3.078125 -3.65625 2.828125 -3.640625 2.46875 -3.625 C 1.890625 -3.578125 1.75 -3.578125 1.75 -3.296875 C 1.75 -2.984375 1.984375 -2.984375 2.140625 -2.984375 L 2.609375 -2.984375 C 3.59375 -2.984375 4.09375 -2.3125 4.09375 -1.734375 C 4.09375 -1.125 3.53125 -0.5 2.625 -0.5 C 2.234375 -0.5 1.46875 -0.609375 1.203125 -1.078125 C 1.25 -1.125 1.328125 -1.1875 1.328125 -1.390625 C 1.328125 -1.625 1.140625 -1.828125 0.890625 -1.828125 C 0.65625 -1.828125 0.4375 -1.671875 0.4375 -1.359375 C 0.4375 -0.46875 1.40625 0.109375 2.625 0.109375 C 3.9375 0.109375 4.78125 -0.8125 4.78125 -1.734375 Z M 4.78125 -1.734375 \"/>\n",
       "</symbol>\n",
       "<symbol overflow=\"visible\" id=\"glyph-1506981941267959-0-10\">\n",
       "<path style=\"stroke:none;\" d=\"M 4.703125 -1.890625 C 4.703125 -2.90625 3.9375 -3.875 2.765625 -3.875 C 2.40625 -3.875 1.96875 -3.8125 1.5625 -3.59375 L 1.5625 -5.484375 L 3.953125 -5.484375 C 4.109375 -5.484375 4.359375 -5.484375 4.359375 -5.78125 C 4.359375 -6.09375 4.109375 -6.09375 3.953125 -6.09375 L 1.28125 -6.09375 C 0.953125 -6.09375 0.875 -6 0.875 -5.6875 L 0.875 -3.03125 C 0.875 -2.84375 0.875 -2.625 1.203125 -2.625 C 1.375 -2.625 1.421875 -2.671875 1.5 -2.765625 C 1.765625 -3.09375 2.171875 -3.265625 2.75 -3.265625 C 3.5625 -3.265625 4.015625 -2.546875 4.015625 -1.890625 C 4.015625 -1.09375 3.3125 -0.5 2.46875 -0.5 C 2.1875 -0.5 1.5625 -0.578125 1.28125 -1.125 C 1.328125 -1.171875 1.40625 -1.25 1.40625 -1.453125 C 1.40625 -1.734375 1.171875 -1.890625 0.96875 -1.890625 C 0.8125 -1.890625 0.515625 -1.796875 0.515625 -1.421875 C 0.515625 -0.59375 1.359375 0.109375 2.46875 0.109375 C 3.71875 0.109375 4.703125 -0.78125 4.703125 -1.890625 Z M 4.703125 -1.890625 \"/>\n",
       "</symbol>\n",
       "</g>\n",
       "</defs>\n",
       "<g id=\"surface1\">\n",
       "<path style=\"fill:none;stroke-width:0.3985;stroke-linecap:butt;stroke-linejoin:miter;stroke:rgb(0%,0%,0%);stroke-opacity:1;stroke-miterlimit:10;\" d=\"M -2.610125 -5.219281 L -10.657 -21.313031 \" transform=\"matrix(1,0,0,-1,34.282,5.019)\"/>\n",
       "<path style=\"fill:none;stroke-width:0.31879;stroke-linecap:round;stroke-linejoin:round;stroke:rgb(0%,0%,0%);stroke-opacity:1;stroke-miterlimit:10;\" d=\"M -1.195417 1.594574 C -1.097598 0.997113 0.00122216 0.100904 0.29995 0.00132176 C 0.00121857 -0.0999964 -1.095887 -0.997913 -1.195474 -1.593624 \" transform=\"matrix(-0.44719,0.89442,0.89442,0.44719,23.62514,26.33269)\"/>\n",
       "<path style=\"fill:none;stroke-width:0.3985;stroke-linecap:butt;stroke-linejoin:miter;stroke:rgb(0%,0%,0%);stroke-opacity:1;stroke-miterlimit:10;\" d=\"M 2.608625 -5.219281 L 10.909406 -21.820844 \" transform=\"matrix(1,0,0,-1,34.282,5.019)\"/>\n",
       "<path style=\"fill:none;stroke-width:0.31879;stroke-linecap:round;stroke-linejoin:round;stroke:rgb(0%,0%,0%);stroke-opacity:1;stroke-miterlimit:10;\" d=\"M -1.195087 1.592891 C -1.097631 0.996073 -0.00140692 0.100002 0.301356 0.000829891 C -0.00140158 -0.100098 -1.097578 -0.996228 -1.196742 -1.594791 \" transform=\"matrix(0.44897,0.898,0.898,-0.44897,45.19208,26.83913)\"/>\n",
       "<path style=\"fill:none;stroke-width:0.3985;stroke-linecap:butt;stroke-linejoin:miter;stroke:rgb(0%,0%,0%);stroke-opacity:1;stroke-miterlimit:10;\" d=\"M 11.116437 -34.461469 L 3.901594 -48.895063 \" transform=\"matrix(1,0,0,-1,34.282,5.019)\"/>\n",
       "<path style=\"fill:none;stroke-width:0.31879;stroke-linecap:round;stroke-linejoin:round;stroke:rgb(0%,0%,0%);stroke-opacity:1;stroke-miterlimit:10;\" d=\"M -1.195818 1.591743 C -1.094481 0.996047 0.000861043 0.0981601 0.299587 -0.00140627 C -0.000880579 -0.0992418 -1.094428 -0.99544 -1.19748 -1.592889 \" transform=\"matrix(-0.44724,0.89442,0.89442,0.44724,38.18212,53.91236)\"/>\n",
       "<path style=\"fill:none;stroke-width:0.3985;stroke-linecap:butt;stroke-linejoin:miter;stroke:rgb(0%,0%,0%);stroke-opacity:1;stroke-miterlimit:10;\" d=\"M 17.229719 -34.461469 L 24.448469 -48.895063 \" transform=\"matrix(1,0,0,-1,34.282,5.019)\"/>\n",
       "<path style=\"fill:none;stroke-width:0.31879;stroke-linecap:round;stroke-linejoin:round;stroke:rgb(0%,0%,0%);stroke-opacity:1;stroke-miterlimit:10;\" d=\"M -1.196016 1.595816 C -1.094711 0.994874 -0.00116401 0.0986749 0.299303 0.000839434 C 0.000577607 -0.0987269 -1.094765 -0.996614 -1.196102 -1.59231 \" transform=\"matrix(0.44724,0.89442,0.89442,-0.44724,58.72867,53.91236)\"/>\n",
       "<path style=\"fill:none;stroke-width:0.3985;stroke-linecap:butt;stroke-linejoin:miter;stroke:rgb(0%,0%,0%);stroke-opacity:1;stroke-miterlimit:10;\" d=\"M -6.133563 -62.828656 L -21.887469 -78.582563 \" transform=\"matrix(1,0,0,-1,34.282,5.019)\"/>\n",
       "<path style=\"fill:none;stroke-width:0.31879;stroke-linecap:round;stroke-linejoin:round;stroke:rgb(0%,0%,0%);stroke-opacity:1;stroke-miterlimit:10;\" d=\"M -1.195313 1.59483 C -1.095878 0.998198 0.000701642 0.100481 0.299017 0.00104 C 0.000700235 -0.0983964 -1.095892 -0.996098 -1.195335 -1.592728 \" transform=\"matrix(-0.70709,0.7071,0.7071,0.70709,12.39429,83.60033)\"/>\n",
       "<path style=\"fill:none;stroke-width:0.3985;stroke-linecap:butt;stroke-linejoin:miter;stroke:rgb(0%,0%,0%);stroke-opacity:1;stroke-miterlimit:10;\" d=\"M -0.00075 -64.082563 L -0.00075 -77.910688 \" transform=\"matrix(1,0,0,-1,34.282,5.019)\"/>\n",
       "<path style=\"fill:none;stroke-width:0.31879;stroke-linecap:round;stroke-linejoin:round;stroke:rgb(0%,0%,0%);stroke-opacity:1;stroke-miterlimit:10;\" d=\"M -1.193725 1.593 C -1.096069 0.995344 0.0015875 0.100812 0.298463 -0.00075 C 0.0015875 -0.0984063 -1.096069 -0.996844 -1.193725 -1.5945 \" transform=\"matrix(0,1,1,0,34.282,82.9281)\"/>\n",
       "<path style=\"fill:none;stroke-width:0.3985;stroke-linecap:butt;stroke-linejoin:miter;stroke:rgb(0%,0%,0%);stroke-opacity:1;stroke-miterlimit:10;\" d=\"M 28.346906 -64.082563 L 28.346906 -78.465375 \" transform=\"matrix(1,0,0,-1,34.282,5.019)\"/>\n",
       "<path style=\"fill:none;stroke-width:0.31879;stroke-linecap:round;stroke-linejoin:round;stroke:rgb(0%,0%,0%);stroke-opacity:1;stroke-miterlimit:10;\" d=\"M -1.196947 1.593856 C -1.095385 0.9962 -0.001635 0.0977625 0.299146 0.00010625 C -0.001635 -0.101456 -1.095385 -0.995988 -1.196947 -1.593644 \" transform=\"matrix(0,1,1,0,62.6288,83.48601)\"/>\n",
       "<path style=\"fill:none;stroke-width:0.3985;stroke-linecap:butt;stroke-linejoin:miter;stroke:rgb(0%,0%,0%);stroke-opacity:1;stroke-miterlimit:10;\" d=\"M 34.483625 -62.828656 L 50.233625 -78.582563 \" transform=\"matrix(1,0,0,-1,34.282,5.019)\"/>\n",
       "<path style=\"fill:none;stroke-width:0.31879;stroke-linecap:round;stroke-linejoin:round;stroke:rgb(0%,0%,0%);stroke-opacity:1;stroke-miterlimit:10;\" d=\"M -1.195769 1.592266 C -1.096326 0.995636 0.000266245 0.0979342 0.298583 -0.00150228 C 0.000267651 -0.100943 -1.09355 -0.995898 -1.195747 -1.595292 \" transform=\"matrix(0.70709,0.7071,0.7071,-0.70709,84.5165,83.60031)\"/>\n",
       "<path style=\"fill:none;stroke-width:0.3985;stroke-linecap:butt;stroke-linejoin:miter;stroke:rgb(0%,0%,0%);stroke-opacity:1;stroke-miterlimit:10;\" d=\"M 25.288312 -91.156781 L 17.68675 -106.359906 \" transform=\"matrix(1,0,0,-1,34.282,5.019)\"/>\n",
       "<path style=\"fill:none;stroke-width:0.31879;stroke-linecap:round;stroke-linejoin:round;stroke:rgb(0%,0%,0%);stroke-opacity:1;stroke-miterlimit:10;\" d=\"M -1.193879 1.594617 C -1.096035 0.997173 -0.000693046 0.0992865 0.298033 -0.000279895 C -0.000687656 -0.101609 -1.095982 -0.994314 -1.193793 -1.59351 \" transform=\"matrix(-0.44724,0.89442,0.89442,0.44724,51.96948,111.37809)\"/>\n",
       "<path style=\"fill:none;stroke-width:0.3985;stroke-linecap:butt;stroke-linejoin:miter;stroke:rgb(0%,0%,0%);stroke-opacity:1;stroke-miterlimit:10;\" d=\"M 31.4055 -91.156781 L 39.233625 -106.813031 \" transform=\"matrix(1,0,0,-1,34.282,5.019)\"/>\n",
       "<path style=\"fill:none;stroke-width:0.31879;stroke-linecap:round;stroke-linejoin:round;stroke:rgb(0%,0%,0%);stroke-opacity:1;stroke-miterlimit:10;\" d=\"M -1.193912 1.593686 C -1.0961 0.994491 -0.000806162 0.101786 0.297914 0.000456547 C -0.000811553 -0.0991098 -1.096154 -0.996997 -1.193997 -1.59444 \" transform=\"matrix(0.44724,0.89442,0.89442,-0.44724,73.51479,111.8314)\"/>\n",
       "<path style=\"fill:none;stroke-width:0.3985;stroke-linecap:butt;stroke-linejoin:miter;stroke:rgb(0%,0%,0%);stroke-opacity:1;stroke-miterlimit:10;\" d=\"M 39.43675 -119.551313 L 31.159406 -136.106 \" transform=\"matrix(1,0,0,-1,34.282,5.019)\"/>\n",
       "<path style=\"fill:none;stroke-width:0.31879;stroke-linecap:round;stroke-linejoin:round;stroke:rgb(0%,0%,0%);stroke-opacity:1;stroke-miterlimit:10;\" d=\"M -1.193927 1.593627 C -1.096084 0.996183 -0.000741654 0.0982964 0.297984 -0.00126991 C 0.00101051 -0.0973584 -1.09603 -0.995304 -1.193842 -1.5945 \" transform=\"matrix(-0.44724,0.89442,0.89442,0.44724,65.443,141.12467)\"/>\n",
       "<path style=\"fill:none;stroke-width:0.3985;stroke-linecap:butt;stroke-linejoin:miter;stroke:rgb(0%,0%,0%);stroke-opacity:1;stroke-miterlimit:10;\" d=\"M 45.600812 -119.551313 L 53.178937 -134.703656 \" transform=\"matrix(1,0,0,-1,34.282,5.019)\"/>\n",
       "<path style=\"fill:none;stroke-width:0.31879;stroke-linecap:round;stroke-linejoin:round;stroke:rgb(0%,0%,0%);stroke-opacity:1;stroke-miterlimit:10;\" d=\"M -1.195788 1.594296 C -1.094869 0.995743 0.00131682 0.0996548 0.298853 -0.00126392 C 0.00131682 -0.100443 -1.094869 -0.996531 -1.194048 -1.595084 \" transform=\"matrix(0.449,0.898,0.898,-0.449,87.4607,139.72325)\"/>\n",
       "<path style=\"fill:none;stroke-width:0.3985;stroke-linecap:butt;stroke-linejoin:miter;stroke:rgb(0%,0%,0%);stroke-opacity:1;stroke-miterlimit:10;\" d=\"M 25.737531 -146.953656 L 17.714094 -162.996625 \" transform=\"matrix(1,0,0,-1,34.282,5.019)\"/>\n",
       "<path style=\"fill:none;stroke-width:0.31879;stroke-linecap:round;stroke-linejoin:round;stroke:rgb(0%,0%,0%);stroke-opacity:1;stroke-miterlimit:10;\" d=\"M -1.195715 1.593685 C -1.097881 0.996234 0.000948319 0.100067 0.299675 0.000494058 C 0.000950116 -0.100831 -1.097864 -0.995271 -1.195687 -1.59447 \" transform=\"matrix(-0.44722,0.89442,0.89442,0.44722,51.99686,168.0169)\"/>\n",
       "<path style=\"fill:none;stroke-width:0.3985;stroke-linecap:butt;stroke-linejoin:miter;stroke:rgb(0%,0%,0%);stroke-opacity:1;stroke-miterlimit:10;\" d=\"M 30.956281 -146.953656 L 38.620344 -162.277875 \" transform=\"matrix(1,0,0,-1,34.282,5.019)\"/>\n",
       "<path style=\"fill:none;stroke-width:0.31879;stroke-linecap:round;stroke-linejoin:round;stroke:rgb(0%,0%,0%);stroke-opacity:1;stroke-miterlimit:10;\" d=\"M -1.195907 1.595235 C -1.094971 0.996678 0.00125345 0.100607 0.298796 -0.000305493 C 0.0012588 -0.0994935 -1.094918 -0.995623 -1.194082 -1.594186 \" transform=\"matrix(0.44897,0.898,0.898,-0.44897,72.90128,167.29795)\"/>\n",
       "<path style=\"fill:none;stroke-width:0.3985;stroke-linecap:butt;stroke-linejoin:miter;stroke:rgb(0%,0%,0%);stroke-opacity:1;stroke-miterlimit:10;\" d=\"M 38.823469 -177.469281 L 31.608625 -191.902875 \" transform=\"matrix(1,0,0,-1,34.282,5.019)\"/>\n",
       "<path style=\"fill:none;stroke-width:0.31879;stroke-linecap:round;stroke-linejoin:round;stroke:rgb(0%,0%,0%);stroke-opacity:1;stroke-miterlimit:10;\" d=\"M -1.194401 1.594406 C -1.096557 0.996963 -0.00121516 0.0990757 0.297511 -0.000490657 C 0.00228402 -0.100073 -1.096504 -0.994525 -1.194315 -1.593721 \" transform=\"matrix(-0.44724,0.89442,0.89442,0.44724,65.89131,196.92162)\"/>\n",
       "<path style=\"fill:none;stroke-width:0.3985;stroke-linecap:butt;stroke-linejoin:miter;stroke:rgb(0%,0%,0%);stroke-opacity:1;stroke-miterlimit:10;\" d=\"M 46.214094 -177.469281 L 53.151594 -191.344281 \" transform=\"matrix(1,0,0,-1,34.282,5.019)\"/>\n",
       "<path style=\"fill:none;stroke-width:0.31879;stroke-linecap:round;stroke-linejoin:round;stroke:rgb(0%,0%,0%);stroke-opacity:1;stroke-miterlimit:10;\" d=\"M -1.194222 1.593491 C -1.096766 0.996673 -0.000541671 0.100602 0.297001 -0.000309995 C -0.000536323 -0.099498 -1.096713 -0.995628 -1.195877 -1.594191 \" transform=\"matrix(0.44897,0.898,0.898,-0.44897,87.43334,196.36206)\"/>\n",
       "<path style=\"fill:none;stroke-width:0.3985;stroke-linecap:butt;stroke-linejoin:miter;stroke:rgb(0%,0%,0%);stroke-opacity:1;stroke-miterlimit:10;\" d=\"M 25.288312 -204.5435 L 17.43675 -220.250531 \" transform=\"matrix(1,0,0,-1,34.282,5.019)\"/>\n",
       "<path style=\"fill:none;stroke-width:0.31879;stroke-linecap:round;stroke-linejoin:round;stroke:rgb(0%,0%,0%);stroke-opacity:1;stroke-miterlimit:10;\" d=\"M -1.197793 1.594442 C -1.094718 0.995244 -0.00112956 0.100824 0.297597 0.00125095 C -0.00112776 -0.100074 -1.094701 -0.996261 -1.197764 -1.593713 \" transform=\"matrix(-0.44722,0.89442,0.89442,0.44722,51.71791,225.26842)\"/>\n",
       "<path style=\"fill:none;stroke-width:0.3985;stroke-linecap:butt;stroke-linejoin:miter;stroke:rgb(0%,0%,0%);stroke-opacity:1;stroke-miterlimit:10;\" d=\"M 31.4055 -204.5435 L 39.007062 -219.746625 \" transform=\"matrix(1,0,0,-1,34.282,5.019)\"/>\n",
       "<path style=\"fill:none;stroke-width:0.31879;stroke-linecap:round;stroke-linejoin:round;stroke:rgb(0%,0%,0%);stroke-opacity:1;stroke-miterlimit:10;\" d=\"M -1.194137 1.59392 C -1.096326 0.994724 0.00246179 0.100272 0.297688 0.000689662 C -0.00103739 -0.0988767 -1.09638 -0.996764 -1.194223 -1.594207 \" transform=\"matrix(0.44724,0.89442,0.89442,-0.44724,73.28812,224.7653)\"/>\n",
       "<path style=\"fill:none;stroke-width:0.3985;stroke-linecap:butt;stroke-linejoin:miter;stroke:rgb(0%,0%,0%);stroke-opacity:1;stroke-miterlimit:10;\" d=\"M 11.116437 -232.891156 L 3.514875 -248.086469 \" transform=\"matrix(1,0,0,-1,34.282,5.019)\"/>\n",
       "<path style=\"fill:none;stroke-width:0.31879;stroke-linecap:round;stroke-linejoin:round;stroke:rgb(0%,0%,0%);stroke-opacity:1;stroke-miterlimit:10;\" d=\"M -1.19565 1.592753 C -1.094337 0.997038 0.000989572 0.0990824 0.299718 -0.000499541 C -0.000760917 -0.0983238 -1.097866 -0.99624 -1.195707 -1.595445 \" transform=\"matrix(-0.44719,0.89442,0.89442,0.44719,37.79854,253.10715)\"/>\n",
       "<path style=\"fill:none;stroke-width:0.3985;stroke-linecap:butt;stroke-linejoin:miter;stroke:rgb(0%,0%,0%);stroke-opacity:1;stroke-miterlimit:10;\" d=\"M 17.229719 -232.891156 L 24.831281 -248.094281 \" transform=\"matrix(1,0,0,-1,34.282,5.019)\"/>\n",
       "<path style=\"fill:none;stroke-width:0.31879;stroke-linecap:round;stroke-linejoin:round;stroke:rgb(0%,0%,0%);stroke-opacity:1;stroke-miterlimit:10;\" d=\"M -1.197953 1.593154 C -1.094901 0.995705 -0.0013535 0.0995062 0.299114 0.00167069 C 0.000388124 -0.0978957 -1.094954 -0.995782 -1.196291 -1.591479 \" transform=\"matrix(0.44724,0.89442,0.89442,-0.44724,59.11473,253.11212)\"/>\n",
       "<g style=\"fill:rgb(0%,0%,0%);fill-opacity:1;\">\n",
       "  <use xlink:href=\"#glyph-1506981941267959-0-1\" x=\"31.667\" y=\"6.718\"/>\n",
       "</g>\n",
       "<g style=\"fill:rgb(0%,0%,0%);fill-opacity:1;\">\n",
       "  <use xlink:href=\"#glyph-1506981941267959-0-2\" x=\"17.494\" y=\"36.469\"/>\n",
       "</g>\n",
       "<g style=\"fill:rgb(0%,0%,0%);fill-opacity:1;\">\n",
       "  <use xlink:href=\"#glyph-1506981941267959-0-3\" x=\"45.84\" y=\"35.961\"/>\n",
       "</g>\n",
       "<g style=\"fill:rgb(0%,0%,0%);fill-opacity:1;\">\n",
       "  <use xlink:href=\"#glyph-1506981941267959-0-4\" x=\"31.667\" y=\"64.756\"/>\n",
       "</g>\n",
       "<g style=\"fill:rgb(0%,0%,0%);fill-opacity:1;\">\n",
       "  <use xlink:href=\"#glyph-1506981941267959-0-2\" x=\"3.321\" y=\"93.162\"/>\n",
       "</g>\n",
       "<g style=\"fill:rgb(0%,0%,0%);fill-opacity:1;\">\n",
       "  <use xlink:href=\"#glyph-1506981941267959-0-5\" x=\"31.667\" y=\"93.102\"/>\n",
       "</g>\n",
       "<g style=\"fill:rgb(0%,0%,0%);fill-opacity:1;\">\n",
       "  <use xlink:href=\"#glyph-1506981941267959-0-4\" x=\"60.013\" y=\"64.756\"/>\n",
       "</g>\n",
       "<g style=\"fill:rgb(0%,0%,0%);fill-opacity:1;\">\n",
       "  <use xlink:href=\"#glyph-1506981941267959-0-3\" x=\"60.013\" y=\"92.654\"/>\n",
       "</g>\n",
       "<g style=\"fill:rgb(0%,0%,0%);fill-opacity:1;\">\n",
       "  <use xlink:href=\"#glyph-1506981941267959-0-6\" x=\"45.84\" y=\"121.503\"/>\n",
       "</g>\n",
       "<g style=\"fill:rgb(0%,0%,0%);fill-opacity:1;\">\n",
       "  <use xlink:href=\"#glyph-1506981941267959-0-7\" x=\"74.187\" y=\"121.05\"/>\n",
       "</g>\n",
       "<g style=\"fill:rgb(0%,0%,0%);fill-opacity:1;\">\n",
       "  <use xlink:href=\"#glyph-1506981941267959-0-1\" x=\"60.013\" y=\"148.45\"/>\n",
       "</g>\n",
       "<g style=\"fill:rgb(0%,0%,0%);fill-opacity:1;\">\n",
       "  <use xlink:href=\"#glyph-1506981941267959-0-8\" x=\"45.84\" y=\"178.141\"/>\n",
       "</g>\n",
       "<g style=\"fill:rgb(0%,0%,0%);fill-opacity:1;\">\n",
       "  <use xlink:href=\"#glyph-1506981941267959-0-4\" x=\"74.187\" y=\"178.141\"/>\n",
       "</g>\n",
       "<g style=\"fill:rgb(0%,0%,0%);fill-opacity:1;\">\n",
       "  <use xlink:href=\"#glyph-1506981941267959-0-3\" x=\"60.013\" y=\"206.039\"/>\n",
       "</g>\n",
       "<g style=\"fill:rgb(0%,0%,0%);fill-opacity:1;\">\n",
       "  <use xlink:href=\"#glyph-1506981941267959-0-3\" x=\"45.84\" y=\"234.386\"/>\n",
       "</g>\n",
       "<g style=\"fill:rgb(0%,0%,0%);fill-opacity:1;\">\n",
       "  <use xlink:href=\"#glyph-1506981941267959-0-2\" x=\"31.667\" y=\"263.24\"/>\n",
       "</g>\n",
       "<g style=\"fill:rgb(0%,0%,0%);fill-opacity:1;\">\n",
       "  <use xlink:href=\"#glyph-1506981941267959-0-6\" x=\"60.013\" y=\"263.235\"/>\n",
       "</g>\n",
       "<g style=\"fill:rgb(0%,0%,0%);fill-opacity:1;\">\n",
       "  <use xlink:href=\"#glyph-1506981941267959-0-6\" x=\"74.187\" y=\"234.889\"/>\n",
       "</g>\n",
       "<g style=\"fill:rgb(0%,0%,0%);fill-opacity:1;\">\n",
       "  <use xlink:href=\"#glyph-1506981941267959-0-9\" x=\"88.36\" y=\"206.488\"/>\n",
       "</g>\n",
       "<g style=\"fill:rgb(0%,0%,0%);fill-opacity:1;\">\n",
       "  <use xlink:href=\"#glyph-1506981941267959-0-10\" x=\"88.36\" y=\"149.74\"/>\n",
       "</g>\n",
       "<g style=\"fill:rgb(0%,0%,0%);fill-opacity:1;\">\n",
       "  <use xlink:href=\"#glyph-1506981941267959-0-10\" x=\"88.36\" y=\"93.047\"/>\n",
       "</g>\n",
       "</g>\n",
       "</svg>\n",
       "\n"
      ],
      "text/plain": [
       "TreeView.LabelledTree({21, 20} directed simple Int64 graph, Any[:-, 4, :*, :/, 4, 9, :/, :*, 1, :+  …  6, :/, :*, :*, 4, 1, 1, 3, 5, 5])"
      ]
     },
     "execution_count": 21,
     "metadata": {},
     "output_type": "execute_result"
    }
   ],
   "source": [
    "display(results_mc.tree, grammar)"
   ]
  },
  {
   "cell_type": "markdown",
   "metadata": {},
   "source": [
    "## Genetic Programming\n",
    "\n",
    "Genetic programming is an evolutionary algorithm for trees.\n",
    "\n",
    "See: Koza, \"Genetic Programming: On the Programming of Computers by Means of Natural Selection\", MIT Press, 1992."
   ]
  },
  {
   "cell_type": "code",
   "execution_count": 22,
   "metadata": {},
   "outputs": [
    {
     "name": "stdout",
     "output_type": "stream",
     "text": [
      "search: \u001b[1mG\u001b[22m\u001b[1me\u001b[22m\u001b[1mn\u001b[22m\u001b[1me\u001b[22m\u001b[1mt\u001b[22m\u001b[1mi\u001b[22m\u001b[1mc\u001b[22m\u001b[1mP\u001b[22m\u001b[1mr\u001b[22m\u001b[1mo\u001b[22m\u001b[1mg\u001b[22m\u001b[1mr\u001b[22m\u001b[1ma\u001b[22m\u001b[1mm\u001b[22m\u001b[1mP\u001b[22m\u001b[1ma\u001b[22m\u001b[1mr\u001b[22m\u001b[1ma\u001b[22m\u001b[1mm\u001b[22m\u001b[1ms\u001b[22m \u001b[1mG\u001b[22m\u001b[1me\u001b[22m\u001b[1mn\u001b[22m\u001b[1me\u001b[22m\u001b[1mt\u001b[22m\u001b[1mi\u001b[22m\u001b[1mc\u001b[22m\u001b[1mP\u001b[22m\u001b[1mr\u001b[22m\u001b[1mo\u001b[22m\u001b[1mg\u001b[22m\u001b[1mr\u001b[22m\u001b[1ma\u001b[22m\u001b[1mm\u001b[22m\n",
      "\n"
     ]
    },
    {
     "data": {
      "text/markdown": [
       "```\n",
       "GeneticProgramParams\n",
       "```\n",
       "\n",
       "Parameters for Genetic Programming.\n",
       "\n",
       "# Arguments\n",
       "\n",
       "  * `pop_size::Int`: population size\n",
       "  * `iterations::Int`: number of iterations\n",
       "  * `max_depth::Int`: maximum depth of derivation tree\n",
       "  * `p_reproduction::Float64`: probability of reproduction operator\n",
       "  * `p_crossover::Float64`: probability of crossover operator\n",
       "  * `p_mutation::Float64`: probability of mutation operator\n",
       "  * `init_method::InitializationMethod`: initialization method\n",
       "  * `select_method::SelectionMethod`: selection method\n"
      ],
      "text/plain": [
       "```\n",
       "GeneticProgramParams\n",
       "```\n",
       "\n",
       "Parameters for Genetic Programming.\n",
       "\n",
       "# Arguments\n",
       "\n",
       "  * `pop_size::Int`: population size\n",
       "  * `iterations::Int`: number of iterations\n",
       "  * `max_depth::Int`: maximum depth of derivation tree\n",
       "  * `p_reproduction::Float64`: probability of reproduction operator\n",
       "  * `p_crossover::Float64`: probability of crossover operator\n",
       "  * `p_mutation::Float64`: probability of mutation operator\n",
       "  * `init_method::InitializationMethod`: initialization method\n",
       "  * `select_method::SelectionMethod`: selection method\n"
      ]
     },
     "execution_count": 22,
     "metadata": {},
     "output_type": "execute_result"
    }
   ],
   "source": [
    "?GeneticProgramParams"
   ]
  },
  {
   "cell_type": "code",
   "execution_count": 23,
   "metadata": {},
   "outputs": [
    {
     "data": {
      "text/plain": [
       "(:((1 / (6 / 5 + 7)) / 4 + (4 - 8 / 9)), 3.1415989159891597, 6.262399366629978e-6)"
      ]
     },
     "execution_count": 23,
     "metadata": {},
     "output_type": "execute_result"
    }
   ],
   "source": [
    "srand(2)\n",
    "p = GeneticProgramParams(20000,25,10,0.2,0.4,0.4; select_method=GeneticProgram.TruncationSelection(100))\n",
    "results_gp = optimize(p, grammar, :R)\n",
    "(expr, val, err) = (results_gp.expr, eval(results_gp.expr), abs(eval(results_gp.expr)-π))"
   ]
  },
  {
   "cell_type": "code",
   "execution_count": 24,
   "metadata": {},
   "outputs": [
    {
     "data": {
      "image/svg+xml": [
       "<?xml version=\"1.0\" encoding=\"UTF-8\"?>\n",
       "<svg xmlns=\"http://www.w3.org/2000/svg\" xmlns:xlink=\"http://www.w3.org/1999/xlink\" width=\"111.084pt\" height=\"154.172pt\" viewBox=\"0 0 111.084 154.172\" version=\"1.1\">\n",
       "<defs>\n",
       "<g>\n",
       "<symbol overflow=\"visible\" id=\"glyph-1506981941267960-0-0\">\n",
       "<path style=\"stroke:none;\" d=\"\"/>\n",
       "</symbol>\n",
       "<symbol overflow=\"visible\" id=\"glyph-1506981941267960-0-1\">\n",
       "<path style=\"stroke:none;\" d=\"M 4.84375 -3.046875 C 4.84375 -3.40625 4.5 -3.40625 4.375 -3.40625 L 2.953125 -3.40625 L 2.953125 -4.828125 C 2.953125 -4.9375 2.953125 -5.296875 2.609375 -5.296875 C 2.265625 -5.296875 2.265625 -4.9375 2.265625 -4.828125 L 2.265625 -3.40625 L 0.84375 -3.40625 C 0.734375 -3.40625 0.375 -3.40625 0.375 -3.046875 C 0.375 -2.703125 0.734375 -2.703125 0.84375 -2.703125 L 2.265625 -2.703125 L 2.265625 -1.28125 C 2.265625 -1.15625 2.265625 -0.8125 2.609375 -0.8125 C 2.953125 -0.8125 2.953125 -1.15625 2.953125 -1.28125 L 2.953125 -2.703125 L 4.375 -2.703125 C 4.5 -2.703125 4.84375 -2.703125 4.84375 -3.046875 Z M 4.84375 -3.046875 \"/>\n",
       "</symbol>\n",
       "<symbol overflow=\"visible\" id=\"glyph-1506981941267960-0-2\">\n",
       "<path style=\"stroke:none;\" d=\"M 4.640625 -6.5625 C 4.640625 -6.75 4.5 -6.921875 4.296875 -6.921875 C 4.078125 -6.921875 4 -6.765625 3.953125 -6.640625 L 0.65625 0.234375 C 0.59375 0.40625 0.578125 0.40625 0.578125 0.484375 C 0.578125 0.65625 0.734375 0.828125 0.921875 0.828125 C 1.140625 0.828125 1.21875 0.671875 1.28125 0.546875 L 4.5625 -6.328125 C 4.640625 -6.484375 4.640625 -6.484375 4.640625 -6.5625 Z M 4.640625 -6.5625 \"/>\n",
       "</symbol>\n",
       "<symbol overflow=\"visible\" id=\"glyph-1506981941267960-0-3\">\n",
       "<path style=\"stroke:none;\" d=\"M 4.40625 -0.296875 C 4.40625 -0.609375 4.171875 -0.609375 4 -0.609375 L 3.09375 -0.609375 L 3.09375 -5.796875 C 3.09375 -5.953125 3.09375 -6.203125 2.796875 -6.203125 C 2.609375 -6.203125 2.546875 -6.078125 2.5 -5.96875 C 2.125 -5.109375 1.609375 -5 1.421875 -4.984375 C 1.25 -4.96875 1.046875 -4.953125 1.046875 -4.671875 C 1.046875 -4.421875 1.21875 -4.375 1.375 -4.375 C 1.5625 -4.375 1.96875 -4.4375 2.40625 -4.8125 L 2.40625 -0.609375 L 1.5 -0.609375 C 1.34375 -0.609375 1.109375 -0.609375 1.109375 -0.296875 C 1.109375 0 1.359375 0 1.5 0 L 4 0 C 4.15625 0 4.40625 0 4.40625 -0.296875 Z M 4.40625 -0.296875 \"/>\n",
       "</symbol>\n",
       "<symbol overflow=\"visible\" id=\"glyph-1506981941267960-0-4\">\n",
       "<path style=\"stroke:none;\" d=\"M 4.6875 -1.921875 C 4.6875 -3.0625 3.8125 -3.953125 2.71875 -3.953125 C 2.203125 -3.953125 1.6875 -3.78125 1.234375 -3.375 C 1.375 -4.78125 2.3125 -5.59375 3.1875 -5.59375 C 3.53125 -5.59375 3.6875 -5.484375 3.734375 -5.4375 C 3.6875 -5.390625 3.640625 -5.328125 3.640625 -5.140625 C 3.640625 -4.90625 3.8125 -4.703125 4.078125 -4.703125 C 4.328125 -4.703125 4.53125 -4.875 4.53125 -5.171875 C 4.53125 -5.65625 4.171875 -6.203125 3.203125 -6.203125 C 1.859375 -6.203125 0.53125 -5 0.53125 -2.984375 C 0.53125 -0.625 1.640625 0.109375 2.625 0.109375 C 3.71875 0.109375 4.6875 -0.734375 4.6875 -1.921875 Z M 4 -1.921875 C 4 -1.0625 3.34375 -0.5 2.625 -0.5 C 1.984375 -0.5 1.59375 -0.984375 1.390625 -1.59375 C 1.296875 -1.828125 1.3125 -2.078125 1.3125 -2.21875 C 1.3125 -2.828125 1.90625 -3.328125 2.671875 -3.328125 C 3.484375 -3.328125 4 -2.65625 4 -1.921875 Z M 4 -1.921875 \"/>\n",
       "</symbol>\n",
       "<symbol overflow=\"visible\" id=\"glyph-1506981941267960-0-5\">\n",
       "<path style=\"stroke:none;\" d=\"M 4.703125 -1.890625 C 4.703125 -2.90625 3.9375 -3.875 2.765625 -3.875 C 2.40625 -3.875 1.96875 -3.8125 1.5625 -3.59375 L 1.5625 -5.484375 L 3.953125 -5.484375 C 4.109375 -5.484375 4.359375 -5.484375 4.359375 -5.78125 C 4.359375 -6.09375 4.109375 -6.09375 3.953125 -6.09375 L 1.28125 -6.09375 C 0.953125 -6.09375 0.875 -6 0.875 -5.6875 L 0.875 -3.03125 C 0.875 -2.84375 0.875 -2.625 1.203125 -2.625 C 1.375 -2.625 1.421875 -2.671875 1.5 -2.765625 C 1.765625 -3.09375 2.171875 -3.265625 2.75 -3.265625 C 3.5625 -3.265625 4.015625 -2.546875 4.015625 -1.890625 C 4.015625 -1.09375 3.3125 -0.5 2.46875 -0.5 C 2.1875 -0.5 1.5625 -0.578125 1.28125 -1.125 C 1.328125 -1.171875 1.40625 -1.25 1.40625 -1.453125 C 1.40625 -1.734375 1.171875 -1.890625 0.96875 -1.890625 C 0.8125 -1.890625 0.515625 -1.796875 0.515625 -1.421875 C 0.515625 -0.59375 1.359375 0.109375 2.46875 0.109375 C 3.71875 0.109375 4.703125 -0.78125 4.703125 -1.890625 Z M 4.703125 -1.890625 \"/>\n",
       "</symbol>\n",
       "<symbol overflow=\"visible\" id=\"glyph-1506981941267960-0-6\">\n",
       "<path style=\"stroke:none;\" d=\"M 4.78125 -5.78125 C 4.78125 -6.09375 4.546875 -6.09375 4.390625 -6.09375 L 1.09375 -6.09375 C 1.03125 -6.25 0.859375 -6.25 0.78125 -6.25 C 0.4375 -6.25 0.4375 -6.03125 0.4375 -5.84375 L 0.4375 -5.421875 C 0.4375 -5.234375 0.4375 -5.015625 0.78125 -5.015625 C 1.125 -5.015625 1.125 -5.203125 1.125 -5.484375 L 3.765625 -5.484375 C 2.03125 -3.65625 1.6875 -1.453125 1.6875 -0.359375 C 1.6875 -0.21875 1.6875 0.109375 2.046875 0.109375 C 2.21875 0.109375 2.375 0 2.375 -0.296875 C 2.4375 -3.125 3.953125 -4.859375 4.5625 -5.4375 C 4.765625 -5.625 4.78125 -5.640625 4.78125 -5.78125 Z M 4.78125 -5.78125 \"/>\n",
       "</symbol>\n",
       "<symbol overflow=\"visible\" id=\"glyph-1506981941267960-0-7\">\n",
       "<path style=\"stroke:none;\" d=\"M 4.9375 -1.984375 C 4.9375 -2.296875 4.6875 -2.296875 4.53125 -2.296875 L 3.765625 -2.296875 L 3.765625 -5.796875 C 3.765625 -6.125 3.6875 -6.203125 3.34375 -6.203125 L 3.078125 -6.203125 C 2.828125 -6.203125 2.78125 -6.203125 2.65625 -6 L 0.375 -2.4375 C 0.296875 -2.296875 0.296875 -2.28125 0.296875 -2.078125 C 0.296875 -1.75 0.375 -1.6875 0.6875 -1.6875 L 3.203125 -1.6875 L 3.203125 -0.609375 L 2.578125 -0.609375 C 2.421875 -0.609375 2.1875 -0.609375 2.1875 -0.296875 C 2.1875 0 2.4375 0 2.578125 0 L 4.375 0 C 4.53125 0 4.78125 0 4.78125 -0.296875 C 4.78125 -0.609375 4.53125 -0.609375 4.375 -0.609375 L 3.765625 -0.609375 L 3.765625 -1.6875 L 4.53125 -1.6875 C 4.6875 -1.6875 4.9375 -1.6875 4.9375 -1.984375 Z M 3.203125 -2.296875 L 0.984375 -2.296875 L 3.203125 -5.765625 Z M 3.203125 -2.296875 \"/>\n",
       "</symbol>\n",
       "<symbol overflow=\"visible\" id=\"glyph-1506981941267960-0-8\">\n",
       "<path style=\"stroke:none;\" d=\"M 4.671875 -3.046875 C 4.671875 -3.40625 4.3125 -3.40625 4.203125 -3.40625 L 1.03125 -3.40625 C 0.90625 -3.40625 0.5625 -3.40625 0.5625 -3.046875 C 0.5625 -2.703125 0.90625 -2.703125 1.03125 -2.703125 L 4.203125 -2.703125 C 4.3125 -2.703125 4.671875 -2.703125 4.671875 -3.046875 Z M 4.671875 -3.046875 \"/>\n",
       "</symbol>\n",
       "<symbol overflow=\"visible\" id=\"glyph-1506981941267960-0-9\">\n",
       "<path style=\"stroke:none;\" d=\"M 4.78125 -1.734375 C 4.78125 -2.484375 4.140625 -3.078125 3.40625 -3.28125 C 4.203125 -3.546875 4.640625 -4.03125 4.640625 -4.609375 C 4.640625 -5.421875 3.796875 -6.203125 2.609375 -6.203125 C 1.421875 -6.203125 0.578125 -5.40625 0.578125 -4.609375 C 0.578125 -4.03125 1.03125 -3.53125 1.828125 -3.28125 C 1.078125 -3.078125 0.4375 -2.484375 0.4375 -1.734375 C 0.4375 -0.765625 1.359375 0.109375 2.609375 0.109375 C 3.875 0.109375 4.78125 -0.765625 4.78125 -1.734375 Z M 3.953125 -4.59375 C 3.953125 -4.03125 3.34375 -3.59375 2.609375 -3.59375 C 1.890625 -3.59375 1.265625 -4.03125 1.265625 -4.59375 C 1.265625 -5.109375 1.828125 -5.59375 2.609375 -5.59375 C 3.390625 -5.59375 3.953125 -5.109375 3.953125 -4.59375 Z M 4.09375 -1.75 C 4.09375 -1.0625 3.4375 -0.5 2.609375 -0.5 C 1.78125 -0.5 1.125 -1.0625 1.125 -1.75 C 1.125 -2.359375 1.703125 -2.984375 2.609375 -2.984375 C 3.53125 -2.984375 4.09375 -2.359375 4.09375 -1.75 Z M 4.09375 -1.75 \"/>\n",
       "</symbol>\n",
       "<symbol overflow=\"visible\" id=\"glyph-1506981941267960-0-10\">\n",
       "<path style=\"stroke:none;\" d=\"M 4.6875 -3.109375 C 4.6875 -5.515625 3.59375 -6.203125 2.640625 -6.203125 C 1.53125 -6.203125 0.53125 -5.375 0.53125 -4.171875 C 0.53125 -3.03125 1.40625 -2.140625 2.5 -2.140625 C 3.015625 -2.140625 3.53125 -2.3125 3.984375 -2.71875 C 3.890625 -1.484375 3.109375 -0.5 2.15625 -0.5 C 2.0625 -0.5 1.703125 -0.515625 1.5 -0.671875 C 1.53125 -0.71875 1.578125 -0.78125 1.578125 -0.953125 C 1.578125 -1.1875 1.40625 -1.390625 1.140625 -1.390625 C 0.890625 -1.390625 0.703125 -1.21875 0.703125 -0.921875 C 0.703125 -0.59375 0.875 0.109375 2.15625 0.109375 C 3.46875 0.109375 4.6875 -1.140625 4.6875 -3.109375 Z M 3.921875 -3.875 C 3.921875 -3.328125 3.375 -2.765625 2.546875 -2.765625 C 1.75 -2.765625 1.21875 -3.421875 1.21875 -4.171875 C 1.21875 -5.03125 1.921875 -5.59375 2.640625 -5.59375 C 3.078125 -5.59375 3.34375 -5.359375 3.515625 -5.15625 C 3.828125 -4.78125 3.921875 -4.578125 3.921875 -3.875 Z M 3.921875 -3.875 \"/>\n",
       "</symbol>\n",
       "</g>\n",
       "</defs>\n",
       "<g id=\"surface1\">\n",
       "<path style=\"fill:none;stroke-width:0.3985;stroke-linecap:butt;stroke-linejoin:miter;stroke:rgb(0%,0%,0%);stroke-opacity:1;stroke-miterlimit:10;\" d=\"M -3.082125 -6.166812 L -10.273531 -20.545719 \" transform=\"matrix(1,0,0,-1,62.629,5.966)\"/>\n",
       "<path style=\"fill:none;stroke-width:0.31879;stroke-linecap:round;stroke-linejoin:round;stroke:rgb(0%,0%,0%);stroke-opacity:1;stroke-miterlimit:10;\" d=\"M -1.195907 1.593239 C -1.096733 0.994683 -0.000550349 0.0985806 0.296986 -0.000601201 C -0.000552132 -0.101518 -1.096751 -0.9976 -1.194195 -1.594415 \" transform=\"matrix(-0.44899,0.898,0.898,0.44899,52.35654,26.51092)\"/>\n",
       "<path style=\"fill:none;stroke-width:0.3985;stroke-linecap:butt;stroke-linejoin:miter;stroke:rgb(0%,0%,0%);stroke-opacity:1;stroke-miterlimit:10;\" d=\"M 3.081937 -6.166812 L 11.359281 -22.717594 \" transform=\"matrix(1,0,0,-1,62.629,5.966)\"/>\n",
       "<path style=\"fill:none;stroke-width:0.31879;stroke-linecap:round;stroke-linejoin:round;stroke:rgb(0%,0%,0%);stroke-opacity:1;stroke-miterlimit:10;\" d=\"M -1.195557 1.593678 C -1.095998 0.997976 0.00104245 0.10003 0.299763 -0.00129937 C 0.00103706 -0.100866 -1.097799 -0.997006 -1.195642 -1.594449 \" transform=\"matrix(0.44724,0.89442,0.89442,-0.44724,73.98819,28.68443)\"/>\n",
       "<path style=\"fill:none;stroke-width:0.3985;stroke-linecap:butt;stroke-linejoin:miter;stroke:rgb(0%,0%,0%);stroke-opacity:1;stroke-miterlimit:10;\" d=\"M -20.308688 -34.483219 L -36.062594 -50.233219 \" transform=\"matrix(1,0,0,-1,62.629,5.966)\"/>\n",
       "<path style=\"fill:none;stroke-width:0.31879;stroke-linecap:round;stroke-linejoin:round;stroke:rgb(0%,0%,0%);stroke-opacity:1;stroke-miterlimit:10;\" d=\"M -1.195877 1.591825 C -1.096443 0.995193 0.00013681 0.0974763 0.298452 -0.00196436 C 0.000135403 -0.101401 -1.093695 -0.99634 -1.1959 -1.595733 \" transform=\"matrix(-0.70709,0.7071,0.7071,0.70709,26.56789,56.20051)\"/>\n",
       "<path style=\"fill:none;stroke-width:0.3985;stroke-linecap:butt;stroke-linejoin:miter;stroke:rgb(0%,0%,0%);stroke-opacity:1;stroke-miterlimit:10;\" d=\"M -14.171969 -35.737125 L -14.171969 -49.612125 \" transform=\"matrix(1,0,0,-1,62.629,5.966)\"/>\n",
       "<path style=\"fill:none;stroke-width:0.31879;stroke-linecap:round;stroke-linejoin:round;stroke:rgb(0%,0%,0%);stroke-opacity:1;stroke-miterlimit:10;\" d=\"M -1.195288 1.595171 C -1.097631 0.997515 0.000025 0.0990775 0.300806 0.00142125 C 0.000025 -0.100141 -1.097631 -0.994673 -1.195288 -1.592329 \" transform=\"matrix(0,1,1,0,48.45561,55.5781)\"/>\n",
       "<path style=\"fill:none;stroke-width:0.3985;stroke-linecap:butt;stroke-linejoin:miter;stroke:rgb(0%,0%,0%);stroke-opacity:1;stroke-miterlimit:10;\" d=\"M -46.214938 -64.084781 L -53.179781 -78.010562 \" transform=\"matrix(1,0,0,-1,62.629,5.966)\"/>\n",
       "<path style=\"fill:none;stroke-width:0.31879;stroke-linecap:round;stroke-linejoin:round;stroke:rgb(0%,0%,0%);stroke-opacity:1;stroke-miterlimit:10;\" d=\"M -1.196688 1.592848 C -1.094034 0.996033 -0.00133098 0.0981903 0.299686 0.000748447 C 0.00214722 -0.100168 -1.094052 -0.996251 -1.194976 -1.594805 \" transform=\"matrix(-0.44899,0.898,0.898,0.44899,9.45029,83.97664)\"/>\n",
       "<path style=\"fill:none;stroke-width:0.3985;stroke-linecap:butt;stroke-linejoin:miter;stroke:rgb(0%,0%,0%);stroke-opacity:1;stroke-miterlimit:10;\" d=\"M -38.824313 -64.084781 L -31.636813 -78.463687 \" transform=\"matrix(1,0,0,-1,62.629,5.966)\"/>\n",
       "<path style=\"fill:none;stroke-width:0.31879;stroke-linecap:round;stroke-linejoin:round;stroke:rgb(0%,0%,0%);stroke-opacity:1;stroke-miterlimit:10;\" d=\"M -1.196397 1.592362 C -1.093738 0.99729 0.000707684 0.097721 0.299984 0.000282294 C 0.00244766 -0.0988964 -1.095478 -0.998465 -1.196397 -1.591797 \" transform=\"matrix(0.449,0.898,0.898,-0.449,30.99396,84.42996)\"/>\n",
       "<path style=\"fill:none;stroke-width:0.3985;stroke-linecap:butt;stroke-linejoin:miter;stroke:rgb(0%,0%,0%);stroke-opacity:1;stroke-miterlimit:10;\" d=\"M -31.429781 -91.205875 L -38.621188 -105.584781 \" transform=\"matrix(1,0,0,-1,62.629,5.966)\"/>\n",
       "<path style=\"fill:none;stroke-width:0.31879;stroke-linecap:round;stroke-linejoin:round;stroke:rgb(0%,0%,0%);stroke-opacity:1;stroke-miterlimit:10;\" d=\"M -1.193251 1.593589 C -1.094072 0.995037 0.00211414 0.0989482 0.29965 -0.000230512 C 0.000374165 -0.0976693 -1.094072 -0.997238 -1.194991 -1.59579 \" transform=\"matrix(-0.449,0.898,0.898,0.449,24.00975,111.55133)\"/>\n",
       "<path style=\"fill:none;stroke-width:0.3985;stroke-linecap:butt;stroke-linejoin:miter;stroke:rgb(0%,0%,0%);stroke-opacity:1;stroke-miterlimit:10;\" d=\"M -25.265719 -91.205875 L -17.726656 -106.276187 \" transform=\"matrix(1,0,0,-1,62.629,5.966)\"/>\n",
       "<path style=\"fill:none;stroke-width:0.31879;stroke-linecap:round;stroke-linejoin:round;stroke:rgb(0%,0%,0%);stroke-opacity:1;stroke-miterlimit:10;\" d=\"M -1.196043 1.595849 C -1.095136 0.9973 0.00102407 0.1012 0.298556 0.000276972 C 0.0010205 -0.0988956 -1.095172 -0.994957 -1.19436 -1.593502 \" transform=\"matrix(0.44902,0.898,0.898,-0.44902,44.90085,112.24374)\"/>\n",
       "<path style=\"fill:none;stroke-width:0.3985;stroke-linecap:butt;stroke-linejoin:miter;stroke:rgb(0%,0%,0%);stroke-opacity:1;stroke-miterlimit:10;\" d=\"M -46.214938 -120.776187 L -53.152438 -134.651187 \" transform=\"matrix(1,0,0,-1,62.629,5.966)\"/>\n",
       "<path style=\"fill:none;stroke-width:0.31879;stroke-linecap:round;stroke-linejoin:round;stroke:rgb(0%,0%,0%);stroke-opacity:1;stroke-miterlimit:10;\" d=\"M -1.19505 1.593665 C -1.095886 0.995102 0.000290511 0.0989718 0.297828 -0.000216203 C 0.000285163 -0.101128 -1.095939 -0.9972 -1.193395 -1.594017 \" transform=\"matrix(-0.44897,0.898,0.898,0.44897,9.47766,140.61546)\"/>\n",
       "<path style=\"fill:none;stroke-width:0.3985;stroke-linecap:butt;stroke-linejoin:miter;stroke:rgb(0%,0%,0%);stroke-opacity:1;stroke-miterlimit:10;\" d=\"M -38.824313 -120.776187 L -31.863375 -134.705875 \" transform=\"matrix(1,0,0,-1,62.629,5.966)\"/>\n",
       "<path style=\"fill:none;stroke-width:0.31879;stroke-linecap:round;stroke-linejoin:round;stroke:rgb(0%,0%,0%);stroke-opacity:1;stroke-miterlimit:10;\" d=\"M -1.194692 1.591582 C -1.095507 0.998248 -0.00104821 0.0986853 0.29823 0.00124876 C 0.000693526 -0.0979331 -1.097229 -0.997515 -1.194663 -1.592591 \" transform=\"matrix(0.44899,0.898,0.898,-0.44899,30.76732,140.67025)\"/>\n",
       "<path style=\"fill:none;stroke-width:0.3985;stroke-linecap:butt;stroke-linejoin:miter;stroke:rgb(0%,0%,0%);stroke-opacity:1;stroke-miterlimit:10;\" d=\"M 14.171781 -33.56525 L 14.171781 -49.612125 \" transform=\"matrix(1,0,0,-1,62.629,5.966)\"/>\n",
       "<path style=\"fill:none;stroke-width:0.31879;stroke-linecap:round;stroke-linejoin:round;stroke:rgb(0%,0%,0%);stroke-opacity:1;stroke-miterlimit:10;\" d=\"M -1.195288 1.592141 C -1.097631 0.994485 0.000025 0.0999537 0.300806 -0.00160875 C 0.000025 -0.099265 -1.097631 -0.997703 -1.195288 -1.595359 \" transform=\"matrix(0,1,1,0,76.80239,55.5781)\"/>\n",
       "<path style=\"fill:none;stroke-width:0.3985;stroke-linecap:butt;stroke-linejoin:miter;stroke:rgb(0%,0%,0%);stroke-opacity:1;stroke-miterlimit:10;\" d=\"M 19.390531 -33.56525 L 36.062406 -50.233219 \" transform=\"matrix(1,0,0,-1,62.629,5.966)\"/>\n",
       "<path style=\"fill:none;stroke-width:0.31879;stroke-linecap:round;stroke-linejoin:round;stroke:rgb(0%,0%,0%);stroke-opacity:1;stroke-miterlimit:10;\" d=\"M -1.196006 1.59559 C -1.093806 0.996201 0.0000106067 0.10126 0.298324 0.00182259 C 0.0000106067 -0.0976153 -1.096568 -0.995318 -1.196006 -1.591945 \" transform=\"matrix(0.7071,0.7071,0.7071,-0.7071,98.69011,56.2005)\"/>\n",
       "<path style=\"fill:none;stroke-width:0.3985;stroke-linecap:butt;stroke-linejoin:miter;stroke:rgb(0%,0%,0%);stroke-opacity:1;stroke-miterlimit:10;\" d=\"M 36.386625 -62.826969 L 20.632719 -78.580875 \" transform=\"matrix(1,0,0,-1,62.629,5.966)\"/>\n",
       "<path style=\"fill:none;stroke-width:0.31879;stroke-linecap:round;stroke-linejoin:round;stroke:rgb(0%,0%,0%);stroke-opacity:1;stroke-miterlimit:10;\" d=\"M -1.196504 1.593634 C -1.09707 0.997003 -0.000489861 0.0992856 0.297825 -0.00015502 C -0.000491268 -0.0995915 -1.097084 -0.997293 -1.196527 -1.593923 \" transform=\"matrix(-0.70709,0.7071,0.7071,0.70709,83.26148,84.54733)\"/>\n",
       "<path style=\"fill:none;stroke-width:0.3985;stroke-linecap:butt;stroke-linejoin:miter;stroke:rgb(0%,0%,0%);stroke-opacity:1;stroke-miterlimit:10;\" d=\"M 42.519437 -64.084781 L 42.519437 -77.909 \" transform=\"matrix(1,0,0,-1,62.629,5.966)\"/>\n",
       "<path style=\"fill:none;stroke-width:0.31879;stroke-linecap:round;stroke-linejoin:round;stroke:rgb(0%,0%,0%);stroke-opacity:1;stroke-miterlimit:10;\" d=\"M -1.195413 1.592987 C -1.097756 0.995331 -0.0001 0.1008 0.300681 -0.0007625 C -0.0001 -0.0984188 -1.097756 -0.996856 -1.195413 -1.594513 \" transform=\"matrix(0,1,1,0,105.1492,83.8751)\"/>\n",
       "<g style=\"fill:rgb(0%,0%,0%);fill-opacity:1;\">\n",
       "  <use xlink:href=\"#glyph-1506981941267960-0-1\" x=\"60.013\" y=\"8.611\"/>\n",
       "</g>\n",
       "<g style=\"fill:rgb(0%,0%,0%);fill-opacity:1;\">\n",
       "  <use xlink:href=\"#glyph-1506981941267960-0-2\" x=\"45.84\" y=\"37.356\"/>\n",
       "</g>\n",
       "<g style=\"fill:rgb(0%,0%,0%);fill-opacity:1;\">\n",
       "  <use xlink:href=\"#glyph-1506981941267960-0-2\" x=\"17.494\" y=\"65.703\"/>\n",
       "</g>\n",
       "<g style=\"fill:rgb(0%,0%,0%);fill-opacity:1;\">\n",
       "  <use xlink:href=\"#glyph-1506981941267960-0-3\" x=\"3.321\" y=\"94.104\"/>\n",
       "</g>\n",
       "<g style=\"fill:rgb(0%,0%,0%);fill-opacity:1;\">\n",
       "  <use xlink:href=\"#glyph-1506981941267960-0-1\" x=\"31.667\" y=\"93.65\"/>\n",
       "</g>\n",
       "<g style=\"fill:rgb(0%,0%,0%);fill-opacity:1;\">\n",
       "  <use xlink:href=\"#glyph-1506981941267960-0-2\" x=\"17.494\" y=\"122.395\"/>\n",
       "</g>\n",
       "<g style=\"fill:rgb(0%,0%,0%);fill-opacity:1;\">\n",
       "  <use xlink:href=\"#glyph-1506981941267960-0-4\" x=\"3.321\" y=\"150.742\"/>\n",
       "</g>\n",
       "<g style=\"fill:rgb(0%,0%,0%);fill-opacity:1;\">\n",
       "  <use xlink:href=\"#glyph-1506981941267960-0-5\" x=\"31.667\" y=\"150.687\"/>\n",
       "</g>\n",
       "<g style=\"fill:rgb(0%,0%,0%);fill-opacity:1;\">\n",
       "  <use xlink:href=\"#glyph-1506981941267960-0-6\" x=\"45.84\" y=\"122.42\"/>\n",
       "</g>\n",
       "<g style=\"fill:rgb(0%,0%,0%);fill-opacity:1;\">\n",
       "  <use xlink:href=\"#glyph-1506981941267960-0-7\" x=\"45.84\" y=\"65.762\"/>\n",
       "</g>\n",
       "<g style=\"fill:rgb(0%,0%,0%);fill-opacity:1;\">\n",
       "  <use xlink:href=\"#glyph-1506981941267960-0-8\" x=\"74.187\" y=\"36.011\"/>\n",
       "</g>\n",
       "<g style=\"fill:rgb(0%,0%,0%);fill-opacity:1;\">\n",
       "  <use xlink:href=\"#glyph-1506981941267960-0-7\" x=\"74.187\" y=\"65.762\"/>\n",
       "</g>\n",
       "<g style=\"fill:rgb(0%,0%,0%);fill-opacity:1;\">\n",
       "  <use xlink:href=\"#glyph-1506981941267960-0-2\" x=\"102.533\" y=\"65.703\"/>\n",
       "</g>\n",
       "<g style=\"fill:rgb(0%,0%,0%);fill-opacity:1;\">\n",
       "  <use xlink:href=\"#glyph-1506981941267960-0-9\" x=\"74.187\" y=\"94.049\"/>\n",
       "</g>\n",
       "<g style=\"fill:rgb(0%,0%,0%);fill-opacity:1;\">\n",
       "  <use xlink:href=\"#glyph-1506981941267960-0-10\" x=\"102.533\" y=\"94.049\"/>\n",
       "</g>\n",
       "</g>\n",
       "</svg>\n",
       "\n"
      ],
      "text/plain": [
       "TreeView.LabelledTree({15, 14} directed simple Int64 graph, Any[:+, :/, :/, 1, :+, :/, 6, 5, 7, 4, :-, 4, :/, 8, 9])"
      ]
     },
     "execution_count": 24,
     "metadata": {},
     "output_type": "execute_result"
    }
   ],
   "source": [
    "display(results_gp.tree, grammar)"
   ]
  },
  {
   "cell_type": "markdown",
   "metadata": {},
   "source": [
    "## Cross-Entropy Method\n",
    "\n",
    "The Cross-Entropy Method is a population-based optimization algorithm based on repeatedly estimating the probability distribution of good solutions.  This implementation uses a probabilistic grammar to represent the distributions.\n",
    "\n",
    "See: Rubinstein, \"Optimization of Computer Simulation Models with Rare Events\", European Journal of Operations Research, 99, 89-112, 1197"
   ]
  },
  {
   "cell_type": "code",
   "execution_count": 25,
   "metadata": {},
   "outputs": [
    {
     "name": "stdout",
     "output_type": "stream",
     "text": [
      "search: \u001b[1mC\u001b[22m\u001b[1mr\u001b[22m\u001b[1mo\u001b[22m\u001b[1ms\u001b[22m\u001b[1ms\u001b[22m\u001b[1mE\u001b[22m\u001b[1mn\u001b[22m\u001b[1mt\u001b[22m\u001b[1mr\u001b[22m\u001b[1mo\u001b[22m\u001b[1mp\u001b[22m\u001b[1my\u001b[22m\u001b[1mP\u001b[22m\u001b[1ma\u001b[22m\u001b[1mr\u001b[22m\u001b[1ma\u001b[22m\u001b[1mm\u001b[22m\u001b[1ms\u001b[22m\n",
      "\n"
     ]
    },
    {
     "data": {
      "text/markdown": [
       "```\n",
       "CrossEntropyParams\n",
       "```\n",
       "\n",
       "Parameters for Cross Entropy method.\n",
       "\n",
       "# Arguments\n",
       "\n",
       "  * `pop_size::Int`: population size\n",
       "  * `iiterations::Int`: number of iterations\n",
       "  * `max_depth::Int`: maximum depth of derivation tree\n",
       "  * `top_k::Int`: top k elite samples used in selection\n",
       "  * `p_init::Float64`: initial value when fitting MLE\n",
       "  * `init_method::InitializationMethod`: Initialization method\n"
      ],
      "text/plain": [
       "```\n",
       "CrossEntropyParams\n",
       "```\n",
       "\n",
       "Parameters for Cross Entropy method.\n",
       "\n",
       "# Arguments\n",
       "\n",
       "  * `pop_size::Int`: population size\n",
       "  * `iiterations::Int`: number of iterations\n",
       "  * `max_depth::Int`: maximum depth of derivation tree\n",
       "  * `top_k::Int`: top k elite samples used in selection\n",
       "  * `p_init::Float64`: initial value when fitting MLE\n",
       "  * `init_method::InitializationMethod`: Initialization method\n"
      ]
     },
     "execution_count": 25,
     "metadata": {},
     "output_type": "execute_result"
    }
   ],
   "source": [
    "?CrossEntropyParams"
   ]
  },
  {
   "cell_type": "code",
   "execution_count": 26,
   "metadata": {},
   "outputs": [
    {
     "data": {
      "text/plain": [
       "(:(3 + 1 / 7), 3.142857142857143, 0.0012644892673496777)"
      ]
     },
     "execution_count": 26,
     "metadata": {},
     "output_type": "execute_result"
    }
   ],
   "source": [
    "srand(3)\n",
    "p = CrossEntropyParams(20000,25,10,5000,3000.0)\n",
    "results_ce = optimize(p, grammar, :R)\n",
    "(expr, val, err) = (results_ce.expr, eval(results_ce.expr), abs(eval(results_ce.expr)-π))"
   ]
  },
  {
   "cell_type": "code",
   "execution_count": 27,
   "metadata": {},
   "outputs": [
    {
     "data": {
      "image/svg+xml": [
       "<?xml version=\"1.0\" encoding=\"UTF-8\"?>\n",
       "<svg xmlns=\"http://www.w3.org/2000/svg\" xmlns:xlink=\"http://www.w3.org/1999/xlink\" width=\"54.391pt\" height=\"69.157pt\" viewBox=\"0 0 54.391 69.157\" version=\"1.1\">\n",
       "<defs>\n",
       "<g>\n",
       "<symbol overflow=\"visible\" id=\"glyph-1506981941267961-0-0\">\n",
       "<path style=\"stroke:none;\" d=\"\"/>\n",
       "</symbol>\n",
       "<symbol overflow=\"visible\" id=\"glyph-1506981941267961-0-1\">\n",
       "<path style=\"stroke:none;\" d=\"M 4.84375 -3.046875 C 4.84375 -3.40625 4.5 -3.40625 4.375 -3.40625 L 2.953125 -3.40625 L 2.953125 -4.828125 C 2.953125 -4.9375 2.953125 -5.296875 2.609375 -5.296875 C 2.265625 -5.296875 2.265625 -4.9375 2.265625 -4.828125 L 2.265625 -3.40625 L 0.84375 -3.40625 C 0.734375 -3.40625 0.375 -3.40625 0.375 -3.046875 C 0.375 -2.703125 0.734375 -2.703125 0.84375 -2.703125 L 2.265625 -2.703125 L 2.265625 -1.28125 C 2.265625 -1.15625 2.265625 -0.8125 2.609375 -0.8125 C 2.953125 -0.8125 2.953125 -1.15625 2.953125 -1.28125 L 2.953125 -2.703125 L 4.375 -2.703125 C 4.5 -2.703125 4.84375 -2.703125 4.84375 -3.046875 Z M 4.84375 -3.046875 \"/>\n",
       "</symbol>\n",
       "<symbol overflow=\"visible\" id=\"glyph-1506981941267961-0-2\">\n",
       "<path style=\"stroke:none;\" d=\"M 4.78125 -1.734375 C 4.78125 -2.4375 4.3125 -3.03125 3.65625 -3.328125 C 4.21875 -3.6875 4.5 -4.25 4.5 -4.796875 C 4.5 -5.53125 3.765625 -6.203125 2.625 -6.203125 C 1.421875 -6.203125 0.734375 -5.71875 0.734375 -5.03125 C 0.734375 -4.703125 0.984375 -4.5625 1.171875 -4.5625 C 1.390625 -4.5625 1.609375 -4.734375 1.609375 -5.015625 C 1.609375 -5.15625 1.5625 -5.25 1.53125 -5.28125 C 1.828125 -5.59375 2.546875 -5.59375 2.625 -5.59375 C 3.3125 -5.59375 3.8125 -5.234375 3.8125 -4.78125 C 3.8125 -4.484375 3.65625 -4.140625 3.390625 -3.921875 C 3.078125 -3.65625 2.828125 -3.640625 2.46875 -3.625 C 1.890625 -3.578125 1.75 -3.578125 1.75 -3.296875 C 1.75 -2.984375 1.984375 -2.984375 2.140625 -2.984375 L 2.609375 -2.984375 C 3.59375 -2.984375 4.09375 -2.3125 4.09375 -1.734375 C 4.09375 -1.125 3.53125 -0.5 2.625 -0.5 C 2.234375 -0.5 1.46875 -0.609375 1.203125 -1.078125 C 1.25 -1.125 1.328125 -1.1875 1.328125 -1.390625 C 1.328125 -1.625 1.140625 -1.828125 0.890625 -1.828125 C 0.65625 -1.828125 0.4375 -1.671875 0.4375 -1.359375 C 0.4375 -0.46875 1.40625 0.109375 2.625 0.109375 C 3.9375 0.109375 4.78125 -0.8125 4.78125 -1.734375 Z M 4.78125 -1.734375 \"/>\n",
       "</symbol>\n",
       "<symbol overflow=\"visible\" id=\"glyph-1506981941267961-0-3\">\n",
       "<path style=\"stroke:none;\" d=\"M 4.640625 -6.5625 C 4.640625 -6.75 4.5 -6.921875 4.296875 -6.921875 C 4.078125 -6.921875 4 -6.765625 3.953125 -6.640625 L 0.65625 0.234375 C 0.59375 0.40625 0.578125 0.40625 0.578125 0.484375 C 0.578125 0.65625 0.734375 0.828125 0.921875 0.828125 C 1.140625 0.828125 1.21875 0.671875 1.28125 0.546875 L 4.5625 -6.328125 C 4.640625 -6.484375 4.640625 -6.484375 4.640625 -6.5625 Z M 4.640625 -6.5625 \"/>\n",
       "</symbol>\n",
       "<symbol overflow=\"visible\" id=\"glyph-1506981941267961-0-4\">\n",
       "<path style=\"stroke:none;\" d=\"M 4.40625 -0.296875 C 4.40625 -0.609375 4.171875 -0.609375 4 -0.609375 L 3.09375 -0.609375 L 3.09375 -5.796875 C 3.09375 -5.953125 3.09375 -6.203125 2.796875 -6.203125 C 2.609375 -6.203125 2.546875 -6.078125 2.5 -5.96875 C 2.125 -5.109375 1.609375 -5 1.421875 -4.984375 C 1.25 -4.96875 1.046875 -4.953125 1.046875 -4.671875 C 1.046875 -4.421875 1.21875 -4.375 1.375 -4.375 C 1.5625 -4.375 1.96875 -4.4375 2.40625 -4.8125 L 2.40625 -0.609375 L 1.5 -0.609375 C 1.34375 -0.609375 1.109375 -0.609375 1.109375 -0.296875 C 1.109375 0 1.359375 0 1.5 0 L 4 0 C 4.15625 0 4.40625 0 4.40625 -0.296875 Z M 4.40625 -0.296875 \"/>\n",
       "</symbol>\n",
       "<symbol overflow=\"visible\" id=\"glyph-1506981941267961-0-5\">\n",
       "<path style=\"stroke:none;\" d=\"M 4.78125 -5.78125 C 4.78125 -6.09375 4.546875 -6.09375 4.390625 -6.09375 L 1.09375 -6.09375 C 1.03125 -6.25 0.859375 -6.25 0.78125 -6.25 C 0.4375 -6.25 0.4375 -6.03125 0.4375 -5.84375 L 0.4375 -5.421875 C 0.4375 -5.234375 0.4375 -5.015625 0.78125 -5.015625 C 1.125 -5.015625 1.125 -5.203125 1.125 -5.484375 L 3.765625 -5.484375 C 2.03125 -3.65625 1.6875 -1.453125 1.6875 -0.359375 C 1.6875 -0.21875 1.6875 0.109375 2.046875 0.109375 C 2.21875 0.109375 2.375 0 2.375 -0.296875 C 2.4375 -3.125 3.953125 -4.859375 4.5625 -5.4375 C 4.765625 -5.625 4.78125 -5.640625 4.78125 -5.78125 Z M 4.78125 -5.78125 \"/>\n",
       "</symbol>\n",
       "</g>\n",
       "</defs>\n",
       "<g id=\"surface1\">\n",
       "<path style=\"fill:none;stroke-width:0.3985;stroke-linecap:butt;stroke-linejoin:miter;stroke:rgb(0%,0%,0%);stroke-opacity:1;stroke-miterlimit:10;\" d=\"M -3.081656 -6.163906 L -10.632438 -21.261563 \" transform=\"matrix(1,0,0,-1,20.109,5.965)\"/>\n",
       "<path style=\"fill:none;stroke-width:0.31879;stroke-linecap:round;stroke-linejoin:round;stroke:rgb(0%,0%,0%);stroke-opacity:1;stroke-miterlimit:10;\" d=\"M -1.193633 1.594066 C -1.094454 0.995514 0.00173218 0.0994254 0.299268 0.000246659 C 0.00173218 -0.100672 -1.094454 -0.996761 -1.195372 -1.595313 \" transform=\"matrix(-0.449,0.898,0.898,0.449,9.4779,27.22724)\"/>\n",
       "<path style=\"fill:none;stroke-width:0.3985;stroke-linecap:butt;stroke-linejoin:miter;stroke:rgb(0%,0%,0%);stroke-opacity:1;stroke-miterlimit:10;\" d=\"M 3.082406 -6.163906 L 10.273812 -20.546719 \" transform=\"matrix(1,0,0,-1,20.109,5.965)\"/>\n",
       "<path style=\"fill:none;stroke-width:0.31879;stroke-linecap:round;stroke-linejoin:round;stroke:rgb(0%,0%,0%);stroke-opacity:1;stroke-miterlimit:10;\" d=\"M -1.196659 1.59596 C -1.095735 0.997406 0.000464021 0.101323 0.298002 0.000406331 C 0.000465804 -0.0987755 -1.095717 -0.994878 -1.194891 -1.593434 \" transform=\"matrix(0.44899,0.898,0.898,-0.44899,30.38146,26.50992)\"/>\n",
       "<path style=\"fill:none;stroke-width:0.3985;stroke-linecap:butt;stroke-linejoin:miter;stroke:rgb(0%,0%,0%);stroke-opacity:1;stroke-miterlimit:10;\" d=\"M 10.476937 -35.738125 L 3.516 -49.663906 \" transform=\"matrix(1,0,0,-1,20.109,5.965)\"/>\n",
       "<path style=\"fill:none;stroke-width:0.31879;stroke-linecap:round;stroke-linejoin:round;stroke:rgb(0%,0%,0%);stroke-opacity:1;stroke-miterlimit:10;\" d=\"M -1.197518 1.594874 C -1.094864 0.998058 -0.00216114 0.100215 0.300595 -0.000706467 C 0.00131706 -0.098143 -1.094882 -0.994226 -1.195806 -1.59278 \" transform=\"matrix(-0.44899,0.898,0.898,0.44899,23.62388,55.62882)\"/>\n",
       "<path style=\"fill:none;stroke-width:0.3985;stroke-linecap:butt;stroke-linejoin:miter;stroke:rgb(0%,0%,0%);stroke-opacity:1;stroke-miterlimit:10;\" d=\"M 17.867562 -35.738125 L 24.793344 -49.585781 \" transform=\"matrix(1,0,0,-1,20.109,5.965)\"/>\n",
       "<path style=\"fill:none;stroke-width:0.31879;stroke-linecap:round;stroke-linejoin:round;stroke:rgb(0%,0%,0%);stroke-opacity:1;stroke-miterlimit:10;\" d=\"M -1.194693 1.593609 C -1.095111 0.997899 0.0019814 0.099977 0.297217 0.000403479 C -0.00151071 -0.0991753 -1.09684 -0.997117 -1.194664 -1.594575 \" transform=\"matrix(0.4472,0.89442,0.89442,-0.4472,44.90188,55.55075)\"/>\n",
       "<g style=\"fill:rgb(0%,0%,0%);fill-opacity:1;\">\n",
       "  <use xlink:href=\"#glyph-1506981941267961-0-1\" x=\"17.494\" y=\"8.611\"/>\n",
       "</g>\n",
       "<g style=\"fill:rgb(0%,0%,0%);fill-opacity:1;\">\n",
       "  <use xlink:href=\"#glyph-1506981941267961-0-2\" x=\"3.321\" y=\"37.356\"/>\n",
       "</g>\n",
       "<g style=\"fill:rgb(0%,0%,0%);fill-opacity:1;\">\n",
       "  <use xlink:href=\"#glyph-1506981941267961-0-3\" x=\"31.667\" y=\"37.356\"/>\n",
       "</g>\n",
       "<g style=\"fill:rgb(0%,0%,0%);fill-opacity:1;\">\n",
       "  <use xlink:href=\"#glyph-1506981941267961-0-4\" x=\"17.494\" y=\"65.757\"/>\n",
       "</g>\n",
       "<g style=\"fill:rgb(0%,0%,0%);fill-opacity:1;\">\n",
       "  <use xlink:href=\"#glyph-1506981941267961-0-5\" x=\"45.84\" y=\"65.727\"/>\n",
       "</g>\n",
       "</g>\n",
       "</svg>\n",
       "\n"
      ],
      "text/plain": [
       "TreeView.LabelledTree({5, 4} directed simple Int64 graph, Any[:+, 3, :/, 1, 7])"
      ]
     },
     "execution_count": 27,
     "metadata": {},
     "output_type": "execute_result"
    }
   ],
   "source": [
    "display(results_ce.tree, grammar)"
   ]
  },
  {
   "cell_type": "markdown",
   "metadata": {},
   "source": [
    "## PIPE\n",
    "\n",
    "Probabilistic Incremental Program Evolution (PIPE) is an expression tree optimization algorithm based on the probabilistic prototype tree (PPT) model.\n",
    "\n",
    "See: Salustowicz and Schmidhuber, \"Probabilistic Incremental Program Evolution\", Evolutionary Computation, vol. 5, no. 2, pp. 123-141, 1997."
   ]
  },
  {
   "cell_type": "code",
   "execution_count": 28,
   "metadata": {},
   "outputs": [
    {
     "name": "stdout",
     "output_type": "stream",
     "text": [
      "search: \u001b[1mP\u001b[22m\u001b[1mI\u001b[22m\u001b[1mP\u001b[22m\u001b[1mE\u001b[22m\u001b[1mP\u001b[22m\u001b[1ma\u001b[22m\u001b[1mr\u001b[22m\u001b[1ma\u001b[22m\u001b[1mm\u001b[22m\u001b[1ms\u001b[22m\n",
      "\n"
     ]
    },
    {
     "data": {
      "text/markdown": [
       "```\n",
       "PIPEParams\n",
       "```\n",
       "\n",
       "Parameters for Probabilistic Incremental Program Evolution. Example parameters from paper are indicated in parentheses)\n",
       "\n",
       "# Arguments:\n",
       "\n",
       "  * `ppt_params::PPTParams`: parameters for PPT  (e.g., [0.8, 0.2])\n",
       "  * `pop_size::Int`: population size\n",
       "  * `iterations::Int`: number of iterations\n",
       "  * `p_elitist::Float64`: elitist update probability (e.g., 0.2)\n",
       "  * `c::Float64`: learning rate multiplier (e.g., 0.1)\n",
       "  * `α::Float64`: learning rate (e.g., 0.05)\n",
       "  * `ϵ::Float64`: fitness constant (e.g., 1)\n",
       "  * `p_mutation::Float64`: mutation probability (e.g., 0.2)\n",
       "  * `β::Float64`: mutation rate (e.g., 0.6)\n",
       "  * `p_threshold::Float64`: prune threshold (e.g., 0.999)\n",
       "  * `max_depth::Int`: maximum depth of derivation tree\n"
      ],
      "text/plain": [
       "```\n",
       "PIPEParams\n",
       "```\n",
       "\n",
       "Parameters for Probabilistic Incremental Program Evolution. Example parameters from paper are indicated in parentheses)\n",
       "\n",
       "# Arguments:\n",
       "\n",
       "  * `ppt_params::PPTParams`: parameters for PPT  (e.g., [0.8, 0.2])\n",
       "  * `pop_size::Int`: population size\n",
       "  * `iterations::Int`: number of iterations\n",
       "  * `p_elitist::Float64`: elitist update probability (e.g., 0.2)\n",
       "  * `c::Float64`: learning rate multiplier (e.g., 0.1)\n",
       "  * `α::Float64`: learning rate (e.g., 0.05)\n",
       "  * `ϵ::Float64`: fitness constant (e.g., 1)\n",
       "  * `p_mutation::Float64`: mutation probability (e.g., 0.2)\n",
       "  * `β::Float64`: mutation rate (e.g., 0.6)\n",
       "  * `p_threshold::Float64`: prune threshold (e.g., 0.999)\n",
       "  * `max_depth::Int`: maximum depth of derivation tree\n"
      ]
     },
     "execution_count": 28,
     "metadata": {},
     "output_type": "execute_result"
    }
   ],
   "source": [
    "?PIPEParams"
   ]
  },
  {
   "cell_type": "code",
   "execution_count": 29,
   "metadata": {},
   "outputs": [
    {
     "data": {
      "text/plain": [
       "(:(4 - 6 / 7), 3.142857142857143, 0.0012644892673496777)"
      ]
     },
     "execution_count": 29,
     "metadata": {},
     "output_type": "execute_result"
    }
   ],
   "source": [
    "srand(3)\n",
    "p = PIPEParams(PIPE.PPTParams(0.8),20000,25,0.2,0.1,0.05,1,0.2,0.6,0.999,10)\n",
    "results_pipe = optimize(p, grammar, :R)\n",
    "(expr, val, err) = (results_pipe.expr, eval(results_pipe.expr), abs(eval(results_pipe.expr)-π))"
   ]
  },
  {
   "cell_type": "code",
   "execution_count": 30,
   "metadata": {},
   "outputs": [
    {
     "data": {
      "image/svg+xml": [
       "<?xml version=\"1.0\" encoding=\"UTF-8\"?>\n",
       "<svg xmlns=\"http://www.w3.org/2000/svg\" xmlns:xlink=\"http://www.w3.org/1999/xlink\" width=\"54.391pt\" height=\"68.211pt\" viewBox=\"0 0 54.391 68.211\" version=\"1.1\">\n",
       "<defs>\n",
       "<g>\n",
       "<symbol overflow=\"visible\" id=\"glyph-1506981941267962-0-0\">\n",
       "<path style=\"stroke:none;\" d=\"\"/>\n",
       "</symbol>\n",
       "<symbol overflow=\"visible\" id=\"glyph-1506981941267962-0-1\">\n",
       "<path style=\"stroke:none;\" d=\"M 4.671875 -3.046875 C 4.671875 -3.40625 4.3125 -3.40625 4.203125 -3.40625 L 1.03125 -3.40625 C 0.90625 -3.40625 0.5625 -3.40625 0.5625 -3.046875 C 0.5625 -2.703125 0.90625 -2.703125 1.03125 -2.703125 L 4.203125 -2.703125 C 4.3125 -2.703125 4.671875 -2.703125 4.671875 -3.046875 Z M 4.671875 -3.046875 \"/>\n",
       "</symbol>\n",
       "<symbol overflow=\"visible\" id=\"glyph-1506981941267962-0-2\">\n",
       "<path style=\"stroke:none;\" d=\"M 4.9375 -1.984375 C 4.9375 -2.296875 4.6875 -2.296875 4.53125 -2.296875 L 3.765625 -2.296875 L 3.765625 -5.796875 C 3.765625 -6.125 3.6875 -6.203125 3.34375 -6.203125 L 3.078125 -6.203125 C 2.828125 -6.203125 2.78125 -6.203125 2.65625 -6 L 0.375 -2.4375 C 0.296875 -2.296875 0.296875 -2.28125 0.296875 -2.078125 C 0.296875 -1.75 0.375 -1.6875 0.6875 -1.6875 L 3.203125 -1.6875 L 3.203125 -0.609375 L 2.578125 -0.609375 C 2.421875 -0.609375 2.1875 -0.609375 2.1875 -0.296875 C 2.1875 0 2.4375 0 2.578125 0 L 4.375 0 C 4.53125 0 4.78125 0 4.78125 -0.296875 C 4.78125 -0.609375 4.53125 -0.609375 4.375 -0.609375 L 3.765625 -0.609375 L 3.765625 -1.6875 L 4.53125 -1.6875 C 4.6875 -1.6875 4.9375 -1.6875 4.9375 -1.984375 Z M 3.203125 -2.296875 L 0.984375 -2.296875 L 3.203125 -5.765625 Z M 3.203125 -2.296875 \"/>\n",
       "</symbol>\n",
       "<symbol overflow=\"visible\" id=\"glyph-1506981941267962-0-3\">\n",
       "<path style=\"stroke:none;\" d=\"M 4.640625 -6.5625 C 4.640625 -6.75 4.5 -6.921875 4.296875 -6.921875 C 4.078125 -6.921875 4 -6.765625 3.953125 -6.640625 L 0.65625 0.234375 C 0.59375 0.40625 0.578125 0.40625 0.578125 0.484375 C 0.578125 0.65625 0.734375 0.828125 0.921875 0.828125 C 1.140625 0.828125 1.21875 0.671875 1.28125 0.546875 L 4.5625 -6.328125 C 4.640625 -6.484375 4.640625 -6.484375 4.640625 -6.5625 Z M 4.640625 -6.5625 \"/>\n",
       "</symbol>\n",
       "<symbol overflow=\"visible\" id=\"glyph-1506981941267962-0-4\">\n",
       "<path style=\"stroke:none;\" d=\"M 4.6875 -1.921875 C 4.6875 -3.0625 3.8125 -3.953125 2.71875 -3.953125 C 2.203125 -3.953125 1.6875 -3.78125 1.234375 -3.375 C 1.375 -4.78125 2.3125 -5.59375 3.1875 -5.59375 C 3.53125 -5.59375 3.6875 -5.484375 3.734375 -5.4375 C 3.6875 -5.390625 3.640625 -5.328125 3.640625 -5.140625 C 3.640625 -4.90625 3.8125 -4.703125 4.078125 -4.703125 C 4.328125 -4.703125 4.53125 -4.875 4.53125 -5.171875 C 4.53125 -5.65625 4.171875 -6.203125 3.203125 -6.203125 C 1.859375 -6.203125 0.53125 -5 0.53125 -2.984375 C 0.53125 -0.625 1.640625 0.109375 2.625 0.109375 C 3.71875 0.109375 4.6875 -0.734375 4.6875 -1.921875 Z M 4 -1.921875 C 4 -1.0625 3.34375 -0.5 2.625 -0.5 C 1.984375 -0.5 1.59375 -0.984375 1.390625 -1.59375 C 1.296875 -1.828125 1.3125 -2.078125 1.3125 -2.21875 C 1.3125 -2.828125 1.90625 -3.328125 2.671875 -3.328125 C 3.484375 -3.328125 4 -2.65625 4 -1.921875 Z M 4 -1.921875 \"/>\n",
       "</symbol>\n",
       "<symbol overflow=\"visible\" id=\"glyph-1506981941267962-0-5\">\n",
       "<path style=\"stroke:none;\" d=\"M 4.78125 -5.78125 C 4.78125 -6.09375 4.546875 -6.09375 4.390625 -6.09375 L 1.09375 -6.09375 C 1.03125 -6.25 0.859375 -6.25 0.78125 -6.25 C 0.4375 -6.25 0.4375 -6.03125 0.4375 -5.84375 L 0.4375 -5.421875 C 0.4375 -5.234375 0.4375 -5.015625 0.78125 -5.015625 C 1.125 -5.015625 1.125 -5.203125 1.125 -5.484375 L 3.765625 -5.484375 C 2.03125 -3.65625 1.6875 -1.453125 1.6875 -0.359375 C 1.6875 -0.21875 1.6875 0.109375 2.046875 0.109375 C 2.21875 0.109375 2.375 0 2.375 -0.296875 C 2.4375 -3.125 3.953125 -4.859375 4.5625 -5.4375 C 4.765625 -5.625 4.78125 -5.640625 4.78125 -5.78125 Z M 4.78125 -5.78125 \"/>\n",
       "</symbol>\n",
       "</g>\n",
       "</defs>\n",
       "<g id=\"surface1\">\n",
       "<path style=\"fill:none;stroke-width:0.3985;stroke-linecap:butt;stroke-linejoin:miter;stroke:rgb(0%,0%,0%);stroke-opacity:1;stroke-miterlimit:10;\" d=\"M -2.609 -5.219281 L -10.655875 -21.313031 \" transform=\"matrix(1,0,0,-1,20.109,5.019)\"/>\n",
       "<path style=\"fill:none;stroke-width:0.31879;stroke-linecap:round;stroke-linejoin:round;stroke:rgb(0%,0%,0%);stroke-opacity:1;stroke-miterlimit:10;\" d=\"M -1.19592 1.59558 C -1.096354 0.994625 0.000719054 0.10191 0.299447 0.00232802 C 0.00071546 -0.0989902 -1.09639 -0.996907 -1.195977 -1.592618 \" transform=\"matrix(-0.44719,0.89442,0.89442,0.44719,9.45214,26.33269)\"/>\n",
       "<path style=\"fill:none;stroke-width:0.3985;stroke-linecap:butt;stroke-linejoin:miter;stroke:rgb(0%,0%,0%);stroke-opacity:1;stroke-miterlimit:10;\" d=\"M 2.60975 -5.219281 L 10.273812 -20.5435 \" transform=\"matrix(1,0,0,-1,20.109,5.019)\"/>\n",
       "<path style=\"fill:none;stroke-width:0.31879;stroke-linecap:round;stroke-linejoin:round;stroke:rgb(0%,0%,0%);stroke-opacity:1;stroke-miterlimit:10;\" d=\"M -1.196095 1.595629 C -1.095159 0.997071 0.0010658 0.101 0.298609 0.0000876032 C 0.00107115 -0.0991004 -1.095106 -0.99523 -1.19427 -1.593793 \" transform=\"matrix(0.44897,0.898,0.898,-0.44897,30.38148,25.56392)\"/>\n",
       "<path style=\"fill:none;stroke-width:0.3985;stroke-linecap:butt;stroke-linejoin:miter;stroke:rgb(0%,0%,0%);stroke-opacity:1;stroke-miterlimit:10;\" d=\"M 10.476937 -35.738812 L 3.543344 -49.609906 \" transform=\"matrix(1,0,0,-1,20.109,5.019)\"/>\n",
       "<path style=\"fill:none;stroke-width:0.31879;stroke-linecap:round;stroke-linejoin:round;stroke:rgb(0%,0%,0%);stroke-opacity:1;stroke-miterlimit:10;\" d=\"M -1.196794 1.595233 C -1.097629 0.99667 -0.00145279 0.10054 0.297825 -0.0021277 C -0.00145814 -0.0995598 -1.097683 -0.995631 -1.195139 -1.592449 \" transform=\"matrix(-0.44897,0.898,0.898,0.44897,23.65125,54.62804)\"/>\n",
       "<path style=\"fill:none;stroke-width:0.3985;stroke-linecap:butt;stroke-linejoin:miter;stroke:rgb(0%,0%,0%);stroke-opacity:1;stroke-miterlimit:10;\" d=\"M 17.867562 -35.738812 L 24.793344 -49.586469 \" transform=\"matrix(1,0,0,-1,20.109,5.019)\"/>\n",
       "<path style=\"fill:none;stroke-width:0.31879;stroke-linecap:round;stroke-linejoin:round;stroke:rgb(0%,0%,0%);stroke-opacity:1;stroke-miterlimit:10;\" d=\"M -1.194078 1.593301 C -1.094496 0.997592 -0.000897582 0.101416 0.297832 0.0000960209 C -0.000895785 -0.0994828 -1.096225 -0.997425 -1.194049 -1.594883 \" transform=\"matrix(0.4472,0.89442,0.89442,-0.4472,44.90188,54.60475)\"/>\n",
       "<g style=\"fill:rgb(0%,0%,0%);fill-opacity:1;\">\n",
       "  <use xlink:href=\"#glyph-1506981941267962-0-1\" x=\"17.494\" y=\"6.718\"/>\n",
       "</g>\n",
       "<g style=\"fill:rgb(0%,0%,0%);fill-opacity:1;\">\n",
       "  <use xlink:href=\"#glyph-1506981941267962-0-2\" x=\"3.321\" y=\"36.469\"/>\n",
       "</g>\n",
       "<g style=\"fill:rgb(0%,0%,0%);fill-opacity:1;\">\n",
       "  <use xlink:href=\"#glyph-1506981941267962-0-3\" x=\"31.667\" y=\"36.41\"/>\n",
       "</g>\n",
       "<g style=\"fill:rgb(0%,0%,0%);fill-opacity:1;\">\n",
       "  <use xlink:href=\"#glyph-1506981941267962-0-4\" x=\"17.494\" y=\"64.756\"/>\n",
       "</g>\n",
       "<g style=\"fill:rgb(0%,0%,0%);fill-opacity:1;\">\n",
       "  <use xlink:href=\"#glyph-1506981941267962-0-5\" x=\"45.84\" y=\"64.781\"/>\n",
       "</g>\n",
       "</g>\n",
       "</svg>\n",
       "\n"
      ],
      "text/plain": [
       "TreeView.LabelledTree({5, 4} directed simple Int64 graph, Any[:-, 4, :/, 6, 7])"
      ]
     },
     "execution_count": 30,
     "metadata": {},
     "output_type": "execute_result"
    }
   ],
   "source": [
    "display(results_pipe.tree, grammar)"
   ]
  },
  {
   "cell_type": "code",
   "execution_count": null,
   "metadata": {
    "collapsed": true
   },
   "outputs": [],
   "source": []
  }
 ],
 "metadata": {
  "kernelspec": {
   "display_name": "Julia 0.6.0",
   "language": "julia",
   "name": "julia-0.6"
  },
  "language_info": {
   "file_extension": ".jl",
   "mimetype": "application/julia",
   "name": "julia",
   "version": "0.6.0"
  }
 },
 "nbformat": 4,
 "nbformat_minor": 2
}
