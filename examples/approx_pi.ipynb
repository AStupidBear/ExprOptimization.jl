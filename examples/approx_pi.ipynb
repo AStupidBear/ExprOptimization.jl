{
 "cells": [
  {
   "cell_type": "markdown",
   "metadata": {},
   "source": [
    "# ExprOptimization.jl\n",
    "\n",
    "ExprOptimization.jl is a Julia package for optimizing Julia expressions.  The package implements algorithms to optimize expression trees derived from a grammar to optimize a user-defined objective function.\n",
    "\n",
    "## Installation\n",
    "\n",
    "To install the package:\n",
    "\n",
    "    Pkg.add(\"ExprOptimization\")\n",
    "\n",
    "## Usage\n",
    "\n",
    "To start using the package:"
   ]
  },
  {
   "cell_type": "code",
   "execution_count": 1,
   "metadata": {
    "collapsed": true
   },
   "outputs": [],
   "source": [
    "using ExprOptimization"
   ]
  },
  {
   "cell_type": "markdown",
   "metadata": {},
   "source": [
    "\n",
    "## Example -- Approximation of π\n",
    "\n",
    "We consider the example of finding an algebraic expression that approximates pi using only functions from a four function calculator.\n",
    "\n",
    "First, we define a grammar:"
   ]
  },
  {
   "cell_type": "code",
   "execution_count": 2,
   "metadata": {},
   "outputs": [
    {
     "data": {
      "text/plain": [
       "ExprRules.Grammar(Any[1, 2, 3, 4, 5, 6, 7, 8, 9, :(R + R), :(R - R), :(R * R), :(R / R)], Symbol[:R, :R, :R, :R, :R, :R, :R, :R, :R, :R, :R, :R, :R], Bool[true, true, true, true, true, true, true, true, true, false, false, false, false], Bool[false, false, false, false, false, false, false, false, false, false, false, false, false], Dict(:R=>[1, 2, 3, 4, 5, 6, 7, 8, 9, 10, 11, 12, 13]), Array{Symbol,1}[Symbol[], Symbol[], Symbol[], Symbol[], Symbol[], Symbol[], Symbol[], Symbol[], Symbol[], Symbol[:R, :R], Symbol[:R, :R], Symbol[:R, :R], Symbol[:R, :R]])"
      ]
     },
     "execution_count": 2,
     "metadata": {},
     "output_type": "execute_result"
    }
   ],
   "source": [
    "grammar = @grammar begin\n",
    "    R = |(1:9)\n",
    "    R = R + R\n",
    "    R = R - R\n",
    "    R = R * R\n",
    "    R = R / R\n",
    "end"
   ]
  },
  {
   "cell_type": "markdown",
   "metadata": {},
   "source": [
    "Next, we define the loss function by overloading the `loss` function in ExprOptimization.  The loss function returns the real-valued loss of a given expression tree.  The loss is minimized."
   ]
  },
  {
   "cell_type": "code",
   "execution_count": 3,
   "metadata": {},
   "outputs": [
    {
     "data": {
      "text/plain": [
       "loss (generic function with 1 method)"
      ]
     },
     "execution_count": 3,
     "metadata": {},
     "output_type": "execute_result"
    }
   ],
   "source": [
    "function loss(tree::RuleNode, grammar::Grammar)\n",
    "    value = eval(tree, grammar)\n",
    "    if isinf(value) || isnan(value)\n",
    "        return Inf\n",
    "    end\n",
    "    Δ = abs(value - π)\n",
    "    return log(Δ) + length(tree) / 1e4\n",
    "end"
   ]
  },
  {
   "cell_type": "markdown",
   "metadata": {},
   "source": [
    "Once these are defined, we can use any of the implemented algorithms to perform the actual optimization.\n",
    "\n",
    "### Monte Carlo\n",
    "\n",
    "Monte Carlo (MC) draws a number of random expression trees from the grammar and returns the one with the best loss."
   ]
  },
  {
   "cell_type": "code",
   "execution_count": 4,
   "metadata": {},
   "outputs": [
    {
     "name": "stdout",
     "output_type": "stream",
     "text": [
      "search: \u001b[1mM\u001b[22m\u001b[1mo\u001b[22m\u001b[1mn\u001b[22m\u001b[1mt\u001b[22m\u001b[1me\u001b[22m\u001b[1mC\u001b[22m\u001b[1ma\u001b[22m\u001b[1mr\u001b[22m\u001b[1ml\u001b[22m\u001b[1mo\u001b[22m\u001b[1mP\u001b[22m\u001b[1ma\u001b[22m\u001b[1mr\u001b[22m\u001b[1ma\u001b[22m\u001b[1mm\u001b[22m\u001b[1ms\u001b[22m\n",
      "\n"
     ]
    },
    {
     "data": {
      "text/markdown": [
       "```\n",
       "MonteCarloParams\n",
       "```\n",
       "\n",
       "Parameters for Monte Carlo.\n",
       "\n",
       "# Arguments:\n",
       "\n",
       "  * `num_samples::Int`: number of samples\n",
       "  * `max_depth::Int`: maximum depth of derivation tree\n"
      ],
      "text/plain": [
       "```\n",
       "MonteCarloParams\n",
       "```\n",
       "\n",
       "Parameters for Monte Carlo.\n",
       "\n",
       "# Arguments:\n",
       "\n",
       "  * `num_samples::Int`: number of samples\n",
       "  * `max_depth::Int`: maximum depth of derivation tree\n"
      ]
     },
     "execution_count": 4,
     "metadata": {},
     "output_type": "execute_result"
    }
   ],
   "source": [
    "?MonteCarloParams"
   ]
  },
  {
   "cell_type": "code",
   "execution_count": 5,
   "metadata": {},
   "outputs": [
    {
     "data": {
      "text/plain": [
       "(:(((1 / 6 + 6) + 4 / (5 / (2 * 4))) / 4), 3.1416666666666666, 7.401307687349146e-5)"
      ]
     },
     "execution_count": 5,
     "metadata": {},
     "output_type": "execute_result"
    }
   ],
   "source": [
    "srand(3)\n",
    "p = MonteCarloParams(400000, 8)\n",
    "results_mc = optimize(p, grammar, :R, loss)\n",
    "(expr, val, err) = (results_mc.expr, eval(results_mc.expr), abs(eval(results_mc.expr)-π))"
   ]
  },
  {
   "cell_type": "code",
   "execution_count": 19,
   "metadata": {},
   "outputs": [
    {
     "data": {
      "image/svg+xml": [
       "<?xml version=\"1.0\" encoding=\"UTF-8\"?>\n",
       "<svg xmlns=\"http://www.w3.org/2000/svg\" xmlns:xlink=\"http://www.w3.org/1999/xlink\" width=\"125.257pt\" height=\"155.347pt\" viewBox=\"0 0 125.257 155.347\" version=\"1.1\">\n",
       "<defs>\n",
       "<g>\n",
       "<symbol overflow=\"visible\" id=\"glyph-1506981941267960-0-0\">\n",
       "<path style=\"stroke:none;\" d=\"\"/>\n",
       "</symbol>\n",
       "<symbol overflow=\"visible\" id=\"glyph-1506981941267960-0-1\">\n",
       "<path style=\"stroke:none;\" d=\"M 4.640625 -6.5625 C 4.640625 -6.75 4.5 -6.921875 4.296875 -6.921875 C 4.078125 -6.921875 4 -6.765625 3.953125 -6.640625 L 0.65625 0.234375 C 0.59375 0.40625 0.578125 0.40625 0.578125 0.484375 C 0.578125 0.65625 0.734375 0.828125 0.921875 0.828125 C 1.140625 0.828125 1.21875 0.671875 1.28125 0.546875 L 4.5625 -6.328125 C 4.640625 -6.484375 4.640625 -6.484375 4.640625 -6.5625 Z M 4.640625 -6.5625 \"/>\n",
       "</symbol>\n",
       "<symbol overflow=\"visible\" id=\"glyph-1506981941267960-0-2\">\n",
       "<path style=\"stroke:none;\" d=\"M 4.84375 -3.046875 C 4.84375 -3.40625 4.5 -3.40625 4.375 -3.40625 L 2.953125 -3.40625 L 2.953125 -4.828125 C 2.953125 -4.9375 2.953125 -5.296875 2.609375 -5.296875 C 2.265625 -5.296875 2.265625 -4.9375 2.265625 -4.828125 L 2.265625 -3.40625 L 0.84375 -3.40625 C 0.734375 -3.40625 0.375 -3.40625 0.375 -3.046875 C 0.375 -2.703125 0.734375 -2.703125 0.84375 -2.703125 L 2.265625 -2.703125 L 2.265625 -1.28125 C 2.265625 -1.15625 2.265625 -0.8125 2.609375 -0.8125 C 2.953125 -0.8125 2.953125 -1.15625 2.953125 -1.28125 L 2.953125 -2.703125 L 4.375 -2.703125 C 4.5 -2.703125 4.84375 -2.703125 4.84375 -3.046875 Z M 4.84375 -3.046875 \"/>\n",
       "</symbol>\n",
       "<symbol overflow=\"visible\" id=\"glyph-1506981941267960-0-3\">\n",
       "<path style=\"stroke:none;\" d=\"M 4.40625 -0.296875 C 4.40625 -0.609375 4.171875 -0.609375 4 -0.609375 L 3.09375 -0.609375 L 3.09375 -5.796875 C 3.09375 -5.953125 3.09375 -6.203125 2.796875 -6.203125 C 2.609375 -6.203125 2.546875 -6.078125 2.5 -5.96875 C 2.125 -5.109375 1.609375 -5 1.421875 -4.984375 C 1.25 -4.96875 1.046875 -4.953125 1.046875 -4.671875 C 1.046875 -4.421875 1.21875 -4.375 1.375 -4.375 C 1.5625 -4.375 1.96875 -4.4375 2.40625 -4.8125 L 2.40625 -0.609375 L 1.5 -0.609375 C 1.34375 -0.609375 1.109375 -0.609375 1.109375 -0.296875 C 1.109375 0 1.359375 0 1.5 0 L 4 0 C 4.15625 0 4.40625 0 4.40625 -0.296875 Z M 4.40625 -0.296875 \"/>\n",
       "</symbol>\n",
       "<symbol overflow=\"visible\" id=\"glyph-1506981941267960-0-4\">\n",
       "<path style=\"stroke:none;\" d=\"M 4.6875 -1.921875 C 4.6875 -3.0625 3.8125 -3.953125 2.71875 -3.953125 C 2.203125 -3.953125 1.6875 -3.78125 1.234375 -3.375 C 1.375 -4.78125 2.3125 -5.59375 3.1875 -5.59375 C 3.53125 -5.59375 3.6875 -5.484375 3.734375 -5.4375 C 3.6875 -5.390625 3.640625 -5.328125 3.640625 -5.140625 C 3.640625 -4.90625 3.8125 -4.703125 4.078125 -4.703125 C 4.328125 -4.703125 4.53125 -4.875 4.53125 -5.171875 C 4.53125 -5.65625 4.171875 -6.203125 3.203125 -6.203125 C 1.859375 -6.203125 0.53125 -5 0.53125 -2.984375 C 0.53125 -0.625 1.640625 0.109375 2.625 0.109375 C 3.71875 0.109375 4.6875 -0.734375 4.6875 -1.921875 Z M 4 -1.921875 C 4 -1.0625 3.34375 -0.5 2.625 -0.5 C 1.984375 -0.5 1.59375 -0.984375 1.390625 -1.59375 C 1.296875 -1.828125 1.3125 -2.078125 1.3125 -2.21875 C 1.3125 -2.828125 1.90625 -3.328125 2.671875 -3.328125 C 3.484375 -3.328125 4 -2.65625 4 -1.921875 Z M 4 -1.921875 \"/>\n",
       "</symbol>\n",
       "<symbol overflow=\"visible\" id=\"glyph-1506981941267960-0-5\">\n",
       "<path style=\"stroke:none;\" d=\"M 4.9375 -1.984375 C 4.9375 -2.296875 4.6875 -2.296875 4.53125 -2.296875 L 3.765625 -2.296875 L 3.765625 -5.796875 C 3.765625 -6.125 3.6875 -6.203125 3.34375 -6.203125 L 3.078125 -6.203125 C 2.828125 -6.203125 2.78125 -6.203125 2.65625 -6 L 0.375 -2.4375 C 0.296875 -2.296875 0.296875 -2.28125 0.296875 -2.078125 C 0.296875 -1.75 0.375 -1.6875 0.6875 -1.6875 L 3.203125 -1.6875 L 3.203125 -0.609375 L 2.578125 -0.609375 C 2.421875 -0.609375 2.1875 -0.609375 2.1875 -0.296875 C 2.1875 0 2.4375 0 2.578125 0 L 4.375 0 C 4.53125 0 4.78125 0 4.78125 -0.296875 C 4.78125 -0.609375 4.53125 -0.609375 4.375 -0.609375 L 3.765625 -0.609375 L 3.765625 -1.6875 L 4.53125 -1.6875 C 4.6875 -1.6875 4.9375 -1.6875 4.9375 -1.984375 Z M 3.203125 -2.296875 L 0.984375 -2.296875 L 3.203125 -5.765625 Z M 3.203125 -2.296875 \"/>\n",
       "</symbol>\n",
       "<symbol overflow=\"visible\" id=\"glyph-1506981941267960-0-6\">\n",
       "<path style=\"stroke:none;\" d=\"M 4.703125 -1.890625 C 4.703125 -2.90625 3.9375 -3.875 2.765625 -3.875 C 2.40625 -3.875 1.96875 -3.8125 1.5625 -3.59375 L 1.5625 -5.484375 L 3.953125 -5.484375 C 4.109375 -5.484375 4.359375 -5.484375 4.359375 -5.78125 C 4.359375 -6.09375 4.109375 -6.09375 3.953125 -6.09375 L 1.28125 -6.09375 C 0.953125 -6.09375 0.875 -6 0.875 -5.6875 L 0.875 -3.03125 C 0.875 -2.84375 0.875 -2.625 1.203125 -2.625 C 1.375 -2.625 1.421875 -2.671875 1.5 -2.765625 C 1.765625 -3.09375 2.171875 -3.265625 2.75 -3.265625 C 3.5625 -3.265625 4.015625 -2.546875 4.015625 -1.890625 C 4.015625 -1.09375 3.3125 -0.5 2.46875 -0.5 C 2.1875 -0.5 1.5625 -0.578125 1.28125 -1.125 C 1.328125 -1.171875 1.40625 -1.25 1.40625 -1.453125 C 1.40625 -1.734375 1.171875 -1.890625 0.96875 -1.890625 C 0.8125 -1.890625 0.515625 -1.796875 0.515625 -1.421875 C 0.515625 -0.59375 1.359375 0.109375 2.46875 0.109375 C 3.71875 0.109375 4.703125 -0.78125 4.703125 -1.890625 Z M 4.703125 -1.890625 \"/>\n",
       "</symbol>\n",
       "<symbol overflow=\"visible\" id=\"glyph-1506981941267960-0-7\">\n",
       "<path style=\"stroke:none;\" d=\"M 4.546875 -2.140625 C 4.546875 -2.296875 4.421875 -2.390625 4.40625 -2.40625 C 4.15625 -2.578125 3.484375 -2.90625 3.21875 -3.046875 L 4.296875 -3.625 C 4.421875 -3.703125 4.546875 -3.765625 4.546875 -3.953125 C 4.546875 -4 4.546875 -4.28125 4.140625 -4.28125 L 2.90625 -3.5625 C 2.9375 -3.828125 2.9375 -4.484375 2.9375 -4.78125 C 2.9375 -4.859375 2.9375 -5.1875 2.609375 -5.1875 C 2.28125 -5.1875 2.28125 -4.859375 2.28125 -4.78125 C 2.28125 -4.484375 2.296875 -3.828125 2.3125 -3.5625 L 1.234375 -4.203125 C 1.09375 -4.28125 1.078125 -4.28125 1 -4.28125 C 0.8125 -4.28125 0.671875 -4.109375 0.671875 -3.953125 C 0.671875 -3.765625 0.78125 -3.703125 0.921875 -3.640625 L 2 -3.046875 L 0.921875 -2.46875 C 0.8125 -2.390625 0.671875 -2.328125 0.671875 -2.140625 C 0.671875 -2.09375 0.671875 -1.796875 1.078125 -1.796875 L 2.3125 -2.515625 C 2.296875 -2.265625 2.28125 -1.609375 2.28125 -1.3125 C 2.28125 -1.21875 2.28125 -0.890625 2.609375 -0.890625 C 2.9375 -0.890625 2.9375 -1.21875 2.9375 -1.3125 C 2.9375 -1.609375 2.9375 -2.265625 2.90625 -2.515625 C 3.515625 -2.1875 3.15625 -2.375 3.84375 -1.96875 C 4.109375 -1.796875 4.140625 -1.796875 4.21875 -1.796875 C 4.421875 -1.796875 4.546875 -1.984375 4.546875 -2.140625 Z M 4.546875 -2.140625 \"/>\n",
       "</symbol>\n",
       "<symbol overflow=\"visible\" id=\"glyph-1506981941267960-0-8\">\n",
       "<path style=\"stroke:none;\" d=\"M 4.703125 -0.40625 L 4.703125 -0.671875 C 4.703125 -0.859375 4.703125 -1.078125 4.359375 -1.078125 C 4.015625 -1.078125 4.015625 -0.890625 4.015625 -0.609375 L 1.640625 -0.609375 C 2.234375 -1.109375 3.1875 -1.859375 3.625 -2.265625 C 4.25 -2.828125 4.703125 -3.453125 4.703125 -4.25 C 4.703125 -5.453125 3.703125 -6.203125 2.484375 -6.203125 C 1.3125 -6.203125 0.515625 -5.390625 0.515625 -4.53125 C 0.515625 -4.171875 0.796875 -4.0625 0.96875 -4.0625 C 1.171875 -4.0625 1.40625 -4.234375 1.40625 -4.5 C 1.40625 -4.625 1.359375 -4.75 1.265625 -4.828125 C 1.421875 -5.28125 1.890625 -5.59375 2.4375 -5.59375 C 3.25 -5.59375 4.015625 -5.140625 4.015625 -4.25 C 4.015625 -3.5625 3.53125 -2.984375 2.875 -2.4375 L 0.671875 -0.578125 C 0.578125 -0.5 0.515625 -0.453125 0.515625 -0.3125 C 0.515625 0 0.765625 0 0.921875 0 L 4.3125 0 C 4.640625 0 4.703125 -0.09375 4.703125 -0.40625 Z M 4.703125 -0.40625 \"/>\n",
       "</symbol>\n",
       "</g>\n",
       "</defs>\n",
       "<g id=\"surface1\">\n",
       "<path style=\"fill:none;stroke-width:0.3985;stroke-linecap:butt;stroke-linejoin:miter;stroke:rgb(0%,0%,0%);stroke-opacity:1;stroke-miterlimit:10;\" d=\"M -3.696531 -7.391031 L -10.884031 -21.769937 \" transform=\"matrix(1,0,0,-1,76.802,7.191)\"/>\n",
       "<path style=\"fill:none;stroke-width:0.31879;stroke-linecap:round;stroke-linejoin:round;stroke:rgb(0%,0%,0%);stroke-opacity:1;stroke-miterlimit:10;\" d=\"M -1.197966 1.594646 C -1.095307 0.997834 0.000878619 0.101745 0.300155 -0.000913697 C 0.000878619 -0.0983524 -1.095307 -0.994441 -1.196226 -1.592993 \" transform=\"matrix(-0.449,0.898,0.898,0.449,65.91684,28.96134)\"/>\n",
       "<path style=\"fill:none;stroke-width:0.3985;stroke-linecap:butt;stroke-linejoin:miter;stroke:rgb(0%,0%,0%);stroke-opacity:1;stroke-miterlimit:10;\" d=\"M 3.694094 -7.391031 L 10.655031 -21.312906 \" transform=\"matrix(1,0,0,-1,76.802,7.191)\"/>\n",
       "<path style=\"fill:none;stroke-width:0.31879;stroke-linecap:round;stroke-linejoin:round;stroke:rgb(0%,0%,0%);stroke-opacity:1;stroke-miterlimit:10;\" d=\"M -1.1947 1.595416 C -1.096865 0.996213 0.000227203 0.098291 0.300703 0.000464443 C 0.00197592 -0.0991144 -1.096848 -0.99531 -1.194671 -1.592767 \" transform=\"matrix(0.4472,0.89442,0.89442,-0.4472,87.45886,28.50469)\"/>\n",
       "<path style=\"fill:none;stroke-width:0.3985;stroke-linecap:butt;stroke-linejoin:miter;stroke:rgb(0%,0%,0%);stroke-opacity:1;stroke-miterlimit:10;\" d=\"M -17.255125 -34.512125 L -25.059812 -50.117594 \" transform=\"matrix(1,0,0,-1,76.802,7.191)\"/>\n",
       "<path style=\"fill:none;stroke-width:0.31879;stroke-linecap:round;stroke-linejoin:round;stroke:rgb(0%,0%,0%);stroke-opacity:1;stroke-miterlimit:10;\" d=\"M -1.196134 1.592924 C -1.09696 0.994368 -0.000776968 0.0982655 0.30024 0.00082361 C -0.00077875 -0.101833 -1.096978 -0.997916 -1.194422 -1.59473 \" transform=\"matrix(-0.44899,0.898,0.898,0.44899,51.74344,57.30814)\"/>\n",
       "<path style=\"fill:none;stroke-width:0.3985;stroke-linecap:butt;stroke-linejoin:miter;stroke:rgb(0%,0%,0%);stroke-opacity:1;stroke-miterlimit:10;\" d=\"M -11.091062 -34.512125 L -3.899656 -48.891031 \" transform=\"matrix(1,0,0,-1,76.802,7.191)\"/>\n",
       "<path style=\"fill:none;stroke-width:0.31879;stroke-linecap:round;stroke-linejoin:round;stroke:rgb(0%,0%,0%);stroke-opacity:1;stroke-miterlimit:10;\" d=\"M -1.195398 1.595266 C -1.094479 0.996713 0.00170713 0.100625 0.299243 -0.000293987 C 0.00170713 -0.0994727 -1.094479 -0.995561 -1.193658 -1.594114 \" transform=\"matrix(0.449,0.898,0.898,-0.449,72.90106,56.08271)\"/>\n",
       "<path style=\"fill:none;stroke-width:0.3985;stroke-linecap:butt;stroke-linejoin:miter;stroke:rgb(0%,0%,0%);stroke-opacity:1;stroke-miterlimit:10;\" d=\"M -34.481687 -62.828531 L -50.235594 -78.582437 \" transform=\"matrix(1,0,0,-1,76.802,7.191)\"/>\n",
       "<path style=\"fill:none;stroke-width:0.31879;stroke-linecap:round;stroke-linejoin:round;stroke:rgb(0%,0%,0%);stroke-opacity:1;stroke-miterlimit:10;\" d=\"M -1.194464 1.593804 C -1.09503 0.997172 0.00155018 0.0994553 0.299865 0.0000146737 C 0.00154877 -0.0994218 -1.095044 -0.997123 -1.194487 -1.593754 \" transform=\"matrix(-0.70709,0.7071,0.7071,0.70709,26.56749,85.77233)\"/>\n",
       "<path style=\"fill:none;stroke-width:0.3985;stroke-linecap:butt;stroke-linejoin:miter;stroke:rgb(0%,0%,0%);stroke-opacity:1;stroke-miterlimit:10;\" d=\"M -28.344969 -62.859781 L -28.344969 -77.910562 \" transform=\"matrix(1,0,0,-1,76.802,7.191)\"/>\n",
       "<path style=\"fill:none;stroke-width:0.31879;stroke-linecap:round;stroke-linejoin:round;stroke:rgb(0%,0%,0%);stroke-opacity:1;stroke-miterlimit:10;\" d=\"M -1.19385 1.595581 C -1.096194 0.997925 0.0014625 0.0994875 0.298337 0.00183125 C 0.0014625 -0.0997312 -1.096194 -0.998169 -1.19385 -1.595825 \" transform=\"matrix(0,1,1,0,48.4552,85.1001)\"/>\n",
       "<path style=\"fill:none;stroke-width:0.3985;stroke-linecap:butt;stroke-linejoin:miter;stroke:rgb(0%,0%,0%);stroke-opacity:1;stroke-miterlimit:10;\" d=\"M -60.387937 -92.430094 L -67.352781 -106.355875 \" transform=\"matrix(1,0,0,-1,76.802,7.191)\"/>\n",
       "<path style=\"fill:none;stroke-width:0.31879;stroke-linecap:round;stroke-linejoin:round;stroke:rgb(0%,0%,0%);stroke-opacity:1;stroke-miterlimit:10;\" d=\"M -1.19472 1.5943 C -1.095546 0.995744 0.000636748 0.0996419 0.298173 0.000460041 C 0.000634965 -0.100456 -1.095564 -0.996539 -1.196488 -1.595093 \" transform=\"matrix(-0.44899,0.898,0.898,0.44899,9.44987,113.54844)\"/>\n",
       "<path style=\"fill:none;stroke-width:0.3985;stroke-linecap:butt;stroke-linejoin:miter;stroke:rgb(0%,0%,0%);stroke-opacity:1;stroke-miterlimit:10;\" d=\"M -52.997312 -92.430094 L -46.063719 -106.301187 \" transform=\"matrix(1,0,0,-1,76.802,7.191)\"/>\n",
       "<path style=\"fill:none;stroke-width:0.31879;stroke-linecap:round;stroke-linejoin:round;stroke:rgb(0%,0%,0%);stroke-opacity:1;stroke-miterlimit:10;\" d=\"M -1.1973 1.593335 C -1.096364 0.994777 -0.000139611 0.0987057 0.299143 0.0012736 C -0.000134263 -0.101394 -1.096311 -0.997524 -1.195475 -1.596087 \" transform=\"matrix(0.44897,0.898,0.898,-0.44897,30.73955,113.49366)\"/>\n",
       "<path style=\"fill:none;stroke-width:0.3985;stroke-linecap:butt;stroke-linejoin:miter;stroke:rgb(0%,0%,0%);stroke-opacity:1;stroke-miterlimit:10;\" d=\"M -0.00121875 -64.082437 L -0.00121875 -77.957437 \" transform=\"matrix(1,0,0,-1,76.802,7.191)\"/>\n",
       "<path style=\"fill:none;stroke-width:0.31879;stroke-linecap:round;stroke-linejoin:round;stroke:rgb(0%,0%,0%);stroke-opacity:1;stroke-miterlimit:10;\" d=\"M -1.196785 1.592531 C -1.095223 0.994875 -0.0014725 0.100344 0.299309 -0.00121875 C -0.0014725 -0.098875 -1.095223 -0.997312 -1.196785 -1.594969 \" transform=\"matrix(0,1,1,0,76.802,85.14991)\"/>\n",
       "<path style=\"fill:none;stroke-width:0.3985;stroke-linecap:butt;stroke-linejoin:miter;stroke:rgb(0%,0%,0%);stroke-opacity:1;stroke-miterlimit:10;\" d=\"M 6.1355 -62.828531 L 21.889406 -78.582437 \" transform=\"matrix(1,0,0,-1,76.802,7.191)\"/>\n",
       "<path style=\"fill:none;stroke-width:0.31879;stroke-linecap:round;stroke-linejoin:round;stroke:rgb(0%,0%,0%);stroke-opacity:1;stroke-miterlimit:10;\" d=\"M -1.194032 1.59418 C -1.094589 0.997549 0.00200309 0.0998478 0.300319 0.000411368 C 0.0020045 -0.0990293 -1.094575 -0.996746 -1.19401 -1.593378 \" transform=\"matrix(0.70709,0.7071,0.7071,-0.70709,98.6897,85.77231)\"/>\n",
       "<path style=\"fill:none;stroke-width:0.3985;stroke-linecap:butt;stroke-linejoin:miter;stroke:rgb(0%,0%,0%);stroke-opacity:1;stroke-miterlimit:10;\" d=\"M 22.213625 -91.176187 L 6.459719 -106.926187 \" transform=\"matrix(1,0,0,-1,76.802,7.191)\"/>\n",
       "<path style=\"fill:none;stroke-width:0.31879;stroke-linecap:round;stroke-linejoin:round;stroke:rgb(0%,0%,0%);stroke-opacity:1;stroke-miterlimit:10;\" d=\"M -1.195069 1.595621 C -1.098397 0.996226 0.000944719 0.101272 0.29926 0.00183109 C -0.00181889 -0.100368 -1.095649 -0.995307 -1.195092 -1.591937 \" transform=\"matrix(-0.70709,0.7071,0.7071,0.70709,83.26109,114.11913)\"/>\n",
       "<path style=\"fill:none;stroke-width:0.3985;stroke-linecap:butt;stroke-linejoin:miter;stroke:rgb(0%,0%,0%);stroke-opacity:1;stroke-miterlimit:10;\" d=\"M 28.346438 -92.430094 L 28.346438 -106.812906 \" transform=\"matrix(1,0,0,-1,76.802,7.191)\"/>\n",
       "<path style=\"fill:none;stroke-width:0.31879;stroke-linecap:round;stroke-linejoin:round;stroke:rgb(0%,0%,0%);stroke-opacity:1;stroke-miterlimit:10;\" d=\"M -1.196216 1.593388 C -1.094654 0.995731 -0.00090375 0.1012 0.299877 -0.0003625 C -0.00090375 -0.0980187 -1.094654 -0.996456 -1.196216 -1.594112 \" transform=\"matrix(0,1,1,0,105.1488,114.00481)\"/>\n",
       "<path style=\"fill:none;stroke-width:0.3985;stroke-linecap:butt;stroke-linejoin:miter;stroke:rgb(0%,0%,0%);stroke-opacity:1;stroke-miterlimit:10;\" d=\"M 25.287844 -119.500406 L 17.686281 -134.707437 \" transform=\"matrix(1,0,0,-1,76.802,7.191)\"/>\n",
       "<path style=\"fill:none;stroke-width:0.31879;stroke-linecap:round;stroke-linejoin:round;stroke:rgb(0%,0%,0%);stroke-opacity:1;stroke-miterlimit:10;\" d=\"M -1.196509 1.592778 C -1.095171 0.997081 0.000170633 0.0991942 0.298896 -0.000372109 C 0.000176023 -0.101701 -1.095118 -0.994406 -1.196423 -1.595349 \" transform=\"matrix(-0.44724,0.89442,0.89442,0.44724,94.48948,141.89689)\"/>\n",
       "<path style=\"fill:none;stroke-width:0.3985;stroke-linecap:butt;stroke-linejoin:miter;stroke:rgb(0%,0%,0%);stroke-opacity:1;stroke-miterlimit:10;\" d=\"M 31.405031 -119.500406 L 39.002688 -134.699625 \" transform=\"matrix(1,0,0,-1,76.802,7.191)\"/>\n",
       "<path style=\"fill:none;stroke-width:0.31879;stroke-linecap:round;stroke-linejoin:round;stroke:rgb(0%,0%,0%);stroke-opacity:1;stroke-miterlimit:10;\" d=\"M -1.196527 1.592918 C -1.09694 0.997207 0.000165373 0.0992904 0.298897 -0.00202783 C 0.000168967 -0.10161 -1.096905 -0.994325 -1.19647 -1.59528 \" transform=\"matrix(0.44719,0.89442,0.89442,-0.44719,115.80565,141.89191)\"/>\n",
       "<g style=\"fill:rgb(0%,0%,0%);fill-opacity:1;\">\n",
       "  <use xlink:href=\"#glyph-1506981941267960-0-1\" x=\"74.187\" y=\"10.234\"/>\n",
       "</g>\n",
       "<g style=\"fill:rgb(0%,0%,0%);fill-opacity:1;\">\n",
       "  <use xlink:href=\"#glyph-1506981941267960-0-2\" x=\"60.013\" y=\"38.182\"/>\n",
       "</g>\n",
       "<g style=\"fill:rgb(0%,0%,0%);fill-opacity:1;\">\n",
       "  <use xlink:href=\"#glyph-1506981941267960-0-2\" x=\"45.84\" y=\"66.529\"/>\n",
       "</g>\n",
       "<g style=\"fill:rgb(0%,0%,0%);fill-opacity:1;\">\n",
       "  <use xlink:href=\"#glyph-1506981941267960-0-1\" x=\"17.494\" y=\"95.274\"/>\n",
       "</g>\n",
       "<g style=\"fill:rgb(0%,0%,0%);fill-opacity:1;\">\n",
       "  <use xlink:href=\"#glyph-1506981941267960-0-3\" x=\"3.321\" y=\"123.675\"/>\n",
       "</g>\n",
       "<g style=\"fill:rgb(0%,0%,0%);fill-opacity:1;\">\n",
       "  <use xlink:href=\"#glyph-1506981941267960-0-4\" x=\"31.667\" y=\"123.62\"/>\n",
       "</g>\n",
       "<g style=\"fill:rgb(0%,0%,0%);fill-opacity:1;\">\n",
       "  <use xlink:href=\"#glyph-1506981941267960-0-4\" x=\"45.84\" y=\"95.274\"/>\n",
       "</g>\n",
       "<g style=\"fill:rgb(0%,0%,0%);fill-opacity:1;\">\n",
       "  <use xlink:href=\"#glyph-1506981941267960-0-1\" x=\"74.187\" y=\"66.927\"/>\n",
       "</g>\n",
       "<g style=\"fill:rgb(0%,0%,0%);fill-opacity:1;\">\n",
       "  <use xlink:href=\"#glyph-1506981941267960-0-5\" x=\"74.187\" y=\"95.334\"/>\n",
       "</g>\n",
       "<g style=\"fill:rgb(0%,0%,0%);fill-opacity:1;\">\n",
       "  <use xlink:href=\"#glyph-1506981941267960-0-1\" x=\"102.533\" y=\"95.274\"/>\n",
       "</g>\n",
       "<g style=\"fill:rgb(0%,0%,0%);fill-opacity:1;\">\n",
       "  <use xlink:href=\"#glyph-1506981941267960-0-6\" x=\"74.187\" y=\"123.565\"/>\n",
       "</g>\n",
       "<g style=\"fill:rgb(0%,0%,0%);fill-opacity:1;\">\n",
       "  <use xlink:href=\"#glyph-1506981941267960-0-7\" x=\"102.533\" y=\"123.172\"/>\n",
       "</g>\n",
       "<g style=\"fill:rgb(0%,0%,0%);fill-opacity:1;\">\n",
       "  <use xlink:href=\"#glyph-1506981941267960-0-8\" x=\"88.36\" y=\"152.021\"/>\n",
       "</g>\n",
       "<g style=\"fill:rgb(0%,0%,0%);fill-opacity:1;\">\n",
       "  <use xlink:href=\"#glyph-1506981941267960-0-5\" x=\"116.706\" y=\"152.026\"/>\n",
       "</g>\n",
       "<g style=\"fill:rgb(0%,0%,0%);fill-opacity:1;\">\n",
       "  <use xlink:href=\"#glyph-1506981941267960-0-5\" x=\"88.36\" y=\"38.641\"/>\n",
       "</g>\n",
       "</g>\n",
       "</svg>\n",
       "\n"
      ],
      "text/plain": [
       "TreeView.LabelledTree({15, 14} directed simple Int64 graph, Any[:/, :+, :+, :/, 1, 6, 6, :/, 4, :/, 5, :*, 2, 4, 4])"
      ]
     },
     "execution_count": 19,
     "metadata": {},
     "output_type": "execute_result"
    }
   ],
   "source": [
    "display(results_mc.tree, grammar)"
   ]
  },
  {
   "cell_type": "markdown",
   "metadata": {},
   "source": [
    "## Genetic Programming\n",
    "\n",
    "Genetic Programming (GP) is an evolutionary algorithm for trees.\n",
    "\n",
    "See: Koza, \"Genetic Programming: On the Programming of Computers by Means of Natural Selection\", MIT Press, 1992."
   ]
  },
  {
   "cell_type": "code",
   "execution_count": 7,
   "metadata": {},
   "outputs": [
    {
     "name": "stdout",
     "output_type": "stream",
     "text": [
      "search: \u001b[1mG\u001b[22m\u001b[1me\u001b[22m\u001b[1mn\u001b[22m\u001b[1me\u001b[22m\u001b[1mt\u001b[22m\u001b[1mi\u001b[22m\u001b[1mc\u001b[22m\u001b[1mP\u001b[22m\u001b[1mr\u001b[22m\u001b[1mo\u001b[22m\u001b[1mg\u001b[22m\u001b[1mr\u001b[22m\u001b[1ma\u001b[22m\u001b[1mm\u001b[22m\u001b[1mP\u001b[22m\u001b[1ma\u001b[22m\u001b[1mr\u001b[22m\u001b[1ma\u001b[22m\u001b[1mm\u001b[22m\u001b[1ms\u001b[22m \u001b[1mG\u001b[22m\u001b[1me\u001b[22m\u001b[1mn\u001b[22m\u001b[1me\u001b[22m\u001b[1mt\u001b[22m\u001b[1mi\u001b[22m\u001b[1mc\u001b[22m\u001b[1mP\u001b[22m\u001b[1mr\u001b[22m\u001b[1mo\u001b[22m\u001b[1mg\u001b[22m\u001b[1mr\u001b[22m\u001b[1ma\u001b[22m\u001b[1mm\u001b[22m\n",
      "\n"
     ]
    },
    {
     "data": {
      "text/markdown": [
       "```\n",
       "GeneticProgramParams\n",
       "```\n",
       "\n",
       "Parameters for Genetic Programming.\n",
       "\n",
       "# Arguments\n",
       "\n",
       "  * `pop_size::Int`: population size\n",
       "  * `iterations::Int`: number of iterations\n",
       "  * `max_depth::Int`: maximum depth of derivation tree\n",
       "  * `p_reproduction::Float64`: probability of reproduction operator\n",
       "  * `p_crossover::Float64`: probability of crossover operator\n",
       "  * `p_mutation::Float64`: probability of mutation operator\n",
       "  * `init_method::InitializationMethod`: initialization method\n",
       "  * `select_method::SelectionMethod`: selection method\n"
      ],
      "text/plain": [
       "```\n",
       "GeneticProgramParams\n",
       "```\n",
       "\n",
       "Parameters for Genetic Programming.\n",
       "\n",
       "# Arguments\n",
       "\n",
       "  * `pop_size::Int`: population size\n",
       "  * `iterations::Int`: number of iterations\n",
       "  * `max_depth::Int`: maximum depth of derivation tree\n",
       "  * `p_reproduction::Float64`: probability of reproduction operator\n",
       "  * `p_crossover::Float64`: probability of crossover operator\n",
       "  * `p_mutation::Float64`: probability of mutation operator\n",
       "  * `init_method::InitializationMethod`: initialization method\n",
       "  * `select_method::SelectionMethod`: selection method\n"
      ]
     },
     "execution_count": 7,
     "metadata": {},
     "output_type": "execute_result"
    }
   ],
   "source": [
    "?GeneticProgramParams"
   ]
  },
  {
   "cell_type": "code",
   "execution_count": 8,
   "metadata": {},
   "outputs": [
    {
     "data": {
      "text/plain": [
       "(:(3 - (3 / (5 / 4 - 8)) / (3 - (3 / (5 / 4 - 7)) / ((6 + 9) / 4))), 3.141582025238535, 1.0628351258201718e-5)"
      ]
     },
     "execution_count": 8,
     "metadata": {},
     "output_type": "execute_result"
    }
   ],
   "source": [
    "srand(3)\n",
    "p = GeneticProgramParams(5000,80,8,0.2,0.4,0.4; select_method=GeneticProgram.TruncationSelection(100))\n",
    "results_gp = optimize(p, grammar, :R, loss)\n",
    "(expr, val, err) = (results_gp.expr, eval(results_gp.expr), abs(eval(results_gp.expr)-π))"
   ]
  },
  {
   "cell_type": "code",
   "execution_count": 9,
   "metadata": {},
   "outputs": [
    {
     "data": {
      "image/svg+xml": [
       "<?xml version=\"1.0\" encoding=\"UTF-8\"?>\n",
       "<svg xmlns=\"http://www.w3.org/2000/svg\" xmlns:xlink=\"http://www.w3.org/1999/xlink\" width=\"160.69pt\" height=\"209.868pt\" viewBox=\"0 0 160.69 209.868\" version=\"1.1\">\n",
       "<defs>\n",
       "<g>\n",
       "<symbol overflow=\"visible\" id=\"glyph-1506981941267956-0-0\">\n",
       "<path style=\"stroke:none;\" d=\"\"/>\n",
       "</symbol>\n",
       "<symbol overflow=\"visible\" id=\"glyph-1506981941267956-0-1\">\n",
       "<path style=\"stroke:none;\" d=\"M 4.671875 -3.046875 C 4.671875 -3.40625 4.3125 -3.40625 4.203125 -3.40625 L 1.03125 -3.40625 C 0.90625 -3.40625 0.5625 -3.40625 0.5625 -3.046875 C 0.5625 -2.703125 0.90625 -2.703125 1.03125 -2.703125 L 4.203125 -2.703125 C 4.3125 -2.703125 4.671875 -2.703125 4.671875 -3.046875 Z M 4.671875 -3.046875 \"/>\n",
       "</symbol>\n",
       "<symbol overflow=\"visible\" id=\"glyph-1506981941267956-0-2\">\n",
       "<path style=\"stroke:none;\" d=\"M 4.78125 -1.734375 C 4.78125 -2.4375 4.3125 -3.03125 3.65625 -3.328125 C 4.21875 -3.6875 4.5 -4.25 4.5 -4.796875 C 4.5 -5.53125 3.765625 -6.203125 2.625 -6.203125 C 1.421875 -6.203125 0.734375 -5.71875 0.734375 -5.03125 C 0.734375 -4.703125 0.984375 -4.5625 1.171875 -4.5625 C 1.390625 -4.5625 1.609375 -4.734375 1.609375 -5.015625 C 1.609375 -5.15625 1.5625 -5.25 1.53125 -5.28125 C 1.828125 -5.59375 2.546875 -5.59375 2.625 -5.59375 C 3.3125 -5.59375 3.8125 -5.234375 3.8125 -4.78125 C 3.8125 -4.484375 3.65625 -4.140625 3.390625 -3.921875 C 3.078125 -3.65625 2.828125 -3.640625 2.46875 -3.625 C 1.890625 -3.578125 1.75 -3.578125 1.75 -3.296875 C 1.75 -2.984375 1.984375 -2.984375 2.140625 -2.984375 L 2.609375 -2.984375 C 3.59375 -2.984375 4.09375 -2.3125 4.09375 -1.734375 C 4.09375 -1.125 3.53125 -0.5 2.625 -0.5 C 2.234375 -0.5 1.46875 -0.609375 1.203125 -1.078125 C 1.25 -1.125 1.328125 -1.1875 1.328125 -1.390625 C 1.328125 -1.625 1.140625 -1.828125 0.890625 -1.828125 C 0.65625 -1.828125 0.4375 -1.671875 0.4375 -1.359375 C 0.4375 -0.46875 1.40625 0.109375 2.625 0.109375 C 3.9375 0.109375 4.78125 -0.8125 4.78125 -1.734375 Z M 4.78125 -1.734375 \"/>\n",
       "</symbol>\n",
       "<symbol overflow=\"visible\" id=\"glyph-1506981941267956-0-3\">\n",
       "<path style=\"stroke:none;\" d=\"M 4.640625 -6.5625 C 4.640625 -6.75 4.5 -6.921875 4.296875 -6.921875 C 4.078125 -6.921875 4 -6.765625 3.953125 -6.640625 L 0.65625 0.234375 C 0.59375 0.40625 0.578125 0.40625 0.578125 0.484375 C 0.578125 0.65625 0.734375 0.828125 0.921875 0.828125 C 1.140625 0.828125 1.21875 0.671875 1.28125 0.546875 L 4.5625 -6.328125 C 4.640625 -6.484375 4.640625 -6.484375 4.640625 -6.5625 Z M 4.640625 -6.5625 \"/>\n",
       "</symbol>\n",
       "<symbol overflow=\"visible\" id=\"glyph-1506981941267956-0-4\">\n",
       "<path style=\"stroke:none;\" d=\"M 4.703125 -1.890625 C 4.703125 -2.90625 3.9375 -3.875 2.765625 -3.875 C 2.40625 -3.875 1.96875 -3.8125 1.5625 -3.59375 L 1.5625 -5.484375 L 3.953125 -5.484375 C 4.109375 -5.484375 4.359375 -5.484375 4.359375 -5.78125 C 4.359375 -6.09375 4.109375 -6.09375 3.953125 -6.09375 L 1.28125 -6.09375 C 0.953125 -6.09375 0.875 -6 0.875 -5.6875 L 0.875 -3.03125 C 0.875 -2.84375 0.875 -2.625 1.203125 -2.625 C 1.375 -2.625 1.421875 -2.671875 1.5 -2.765625 C 1.765625 -3.09375 2.171875 -3.265625 2.75 -3.265625 C 3.5625 -3.265625 4.015625 -2.546875 4.015625 -1.890625 C 4.015625 -1.09375 3.3125 -0.5 2.46875 -0.5 C 2.1875 -0.5 1.5625 -0.578125 1.28125 -1.125 C 1.328125 -1.171875 1.40625 -1.25 1.40625 -1.453125 C 1.40625 -1.734375 1.171875 -1.890625 0.96875 -1.890625 C 0.8125 -1.890625 0.515625 -1.796875 0.515625 -1.421875 C 0.515625 -0.59375 1.359375 0.109375 2.46875 0.109375 C 3.71875 0.109375 4.703125 -0.78125 4.703125 -1.890625 Z M 4.703125 -1.890625 \"/>\n",
       "</symbol>\n",
       "<symbol overflow=\"visible\" id=\"glyph-1506981941267956-0-5\">\n",
       "<path style=\"stroke:none;\" d=\"M 4.9375 -1.984375 C 4.9375 -2.296875 4.6875 -2.296875 4.53125 -2.296875 L 3.765625 -2.296875 L 3.765625 -5.796875 C 3.765625 -6.125 3.6875 -6.203125 3.34375 -6.203125 L 3.078125 -6.203125 C 2.828125 -6.203125 2.78125 -6.203125 2.65625 -6 L 0.375 -2.4375 C 0.296875 -2.296875 0.296875 -2.28125 0.296875 -2.078125 C 0.296875 -1.75 0.375 -1.6875 0.6875 -1.6875 L 3.203125 -1.6875 L 3.203125 -0.609375 L 2.578125 -0.609375 C 2.421875 -0.609375 2.1875 -0.609375 2.1875 -0.296875 C 2.1875 0 2.4375 0 2.578125 0 L 4.375 0 C 4.53125 0 4.78125 0 4.78125 -0.296875 C 4.78125 -0.609375 4.53125 -0.609375 4.375 -0.609375 L 3.765625 -0.609375 L 3.765625 -1.6875 L 4.53125 -1.6875 C 4.6875 -1.6875 4.9375 -1.6875 4.9375 -1.984375 Z M 3.203125 -2.296875 L 0.984375 -2.296875 L 3.203125 -5.765625 Z M 3.203125 -2.296875 \"/>\n",
       "</symbol>\n",
       "<symbol overflow=\"visible\" id=\"glyph-1506981941267956-0-6\">\n",
       "<path style=\"stroke:none;\" d=\"M 4.78125 -1.734375 C 4.78125 -2.484375 4.140625 -3.078125 3.40625 -3.28125 C 4.203125 -3.546875 4.640625 -4.03125 4.640625 -4.609375 C 4.640625 -5.421875 3.796875 -6.203125 2.609375 -6.203125 C 1.421875 -6.203125 0.578125 -5.40625 0.578125 -4.609375 C 0.578125 -4.03125 1.03125 -3.53125 1.828125 -3.28125 C 1.078125 -3.078125 0.4375 -2.484375 0.4375 -1.734375 C 0.4375 -0.765625 1.359375 0.109375 2.609375 0.109375 C 3.875 0.109375 4.78125 -0.765625 4.78125 -1.734375 Z M 3.953125 -4.59375 C 3.953125 -4.03125 3.34375 -3.59375 2.609375 -3.59375 C 1.890625 -3.59375 1.265625 -4.03125 1.265625 -4.59375 C 1.265625 -5.109375 1.828125 -5.59375 2.609375 -5.59375 C 3.390625 -5.59375 3.953125 -5.109375 3.953125 -4.59375 Z M 4.09375 -1.75 C 4.09375 -1.0625 3.4375 -0.5 2.609375 -0.5 C 1.78125 -0.5 1.125 -1.0625 1.125 -1.75 C 1.125 -2.359375 1.703125 -2.984375 2.609375 -2.984375 C 3.53125 -2.984375 4.09375 -2.359375 4.09375 -1.75 Z M 4.09375 -1.75 \"/>\n",
       "</symbol>\n",
       "<symbol overflow=\"visible\" id=\"glyph-1506981941267956-0-7\">\n",
       "<path style=\"stroke:none;\" d=\"M 4.78125 -5.78125 C 4.78125 -6.09375 4.546875 -6.09375 4.390625 -6.09375 L 1.09375 -6.09375 C 1.03125 -6.25 0.859375 -6.25 0.78125 -6.25 C 0.4375 -6.25 0.4375 -6.03125 0.4375 -5.84375 L 0.4375 -5.421875 C 0.4375 -5.234375 0.4375 -5.015625 0.78125 -5.015625 C 1.125 -5.015625 1.125 -5.203125 1.125 -5.484375 L 3.765625 -5.484375 C 2.03125 -3.65625 1.6875 -1.453125 1.6875 -0.359375 C 1.6875 -0.21875 1.6875 0.109375 2.046875 0.109375 C 2.21875 0.109375 2.375 0 2.375 -0.296875 C 2.4375 -3.125 3.953125 -4.859375 4.5625 -5.4375 C 4.765625 -5.625 4.78125 -5.640625 4.78125 -5.78125 Z M 4.78125 -5.78125 \"/>\n",
       "</symbol>\n",
       "<symbol overflow=\"visible\" id=\"glyph-1506981941267956-0-8\">\n",
       "<path style=\"stroke:none;\" d=\"M 4.84375 -3.046875 C 4.84375 -3.40625 4.5 -3.40625 4.375 -3.40625 L 2.953125 -3.40625 L 2.953125 -4.828125 C 2.953125 -4.9375 2.953125 -5.296875 2.609375 -5.296875 C 2.265625 -5.296875 2.265625 -4.9375 2.265625 -4.828125 L 2.265625 -3.40625 L 0.84375 -3.40625 C 0.734375 -3.40625 0.375 -3.40625 0.375 -3.046875 C 0.375 -2.703125 0.734375 -2.703125 0.84375 -2.703125 L 2.265625 -2.703125 L 2.265625 -1.28125 C 2.265625 -1.15625 2.265625 -0.8125 2.609375 -0.8125 C 2.953125 -0.8125 2.953125 -1.15625 2.953125 -1.28125 L 2.953125 -2.703125 L 4.375 -2.703125 C 4.5 -2.703125 4.84375 -2.703125 4.84375 -3.046875 Z M 4.84375 -3.046875 \"/>\n",
       "</symbol>\n",
       "<symbol overflow=\"visible\" id=\"glyph-1506981941267956-0-9\">\n",
       "<path style=\"stroke:none;\" d=\"M 4.6875 -1.921875 C 4.6875 -3.0625 3.8125 -3.953125 2.71875 -3.953125 C 2.203125 -3.953125 1.6875 -3.78125 1.234375 -3.375 C 1.375 -4.78125 2.3125 -5.59375 3.1875 -5.59375 C 3.53125 -5.59375 3.6875 -5.484375 3.734375 -5.4375 C 3.6875 -5.390625 3.640625 -5.328125 3.640625 -5.140625 C 3.640625 -4.90625 3.8125 -4.703125 4.078125 -4.703125 C 4.328125 -4.703125 4.53125 -4.875 4.53125 -5.171875 C 4.53125 -5.65625 4.171875 -6.203125 3.203125 -6.203125 C 1.859375 -6.203125 0.53125 -5 0.53125 -2.984375 C 0.53125 -0.625 1.640625 0.109375 2.625 0.109375 C 3.71875 0.109375 4.6875 -0.734375 4.6875 -1.921875 Z M 4 -1.921875 C 4 -1.0625 3.34375 -0.5 2.625 -0.5 C 1.984375 -0.5 1.59375 -0.984375 1.390625 -1.59375 C 1.296875 -1.828125 1.3125 -2.078125 1.3125 -2.21875 C 1.3125 -2.828125 1.90625 -3.328125 2.671875 -3.328125 C 3.484375 -3.328125 4 -2.65625 4 -1.921875 Z M 4 -1.921875 \"/>\n",
       "</symbol>\n",
       "<symbol overflow=\"visible\" id=\"glyph-1506981941267956-0-10\">\n",
       "<path style=\"stroke:none;\" d=\"M 4.6875 -3.109375 C 4.6875 -5.515625 3.59375 -6.203125 2.640625 -6.203125 C 1.53125 -6.203125 0.53125 -5.375 0.53125 -4.171875 C 0.53125 -3.03125 1.40625 -2.140625 2.5 -2.140625 C 3.015625 -2.140625 3.53125 -2.3125 3.984375 -2.71875 C 3.890625 -1.484375 3.109375 -0.5 2.15625 -0.5 C 2.0625 -0.5 1.703125 -0.515625 1.5 -0.671875 C 1.53125 -0.71875 1.578125 -0.78125 1.578125 -0.953125 C 1.578125 -1.1875 1.40625 -1.390625 1.140625 -1.390625 C 0.890625 -1.390625 0.703125 -1.21875 0.703125 -0.921875 C 0.703125 -0.59375 0.875 0.109375 2.15625 0.109375 C 3.46875 0.109375 4.6875 -1.140625 4.6875 -3.109375 Z M 3.921875 -3.875 C 3.921875 -3.328125 3.375 -2.765625 2.546875 -2.765625 C 1.75 -2.765625 1.21875 -3.421875 1.21875 -4.171875 C 1.21875 -5.03125 1.921875 -5.59375 2.640625 -5.59375 C 3.078125 -5.59375 3.34375 -5.359375 3.515625 -5.15625 C 3.828125 -4.78125 3.921875 -4.578125 3.921875 -3.875 Z M 3.921875 -3.875 \"/>\n",
       "</symbol>\n",
       "</g>\n",
       "</defs>\n",
       "<g id=\"surface1\">\n",
       "<path style=\"fill:none;stroke-width:0.3985;stroke-linecap:butt;stroke-linejoin:miter;stroke:rgb(0%,0%,0%);stroke-opacity:1;stroke-miterlimit:10;\" d=\"M -2.608406 -5.219281 L -10.631844 -21.26225 \" transform=\"matrix(1,0,0,-1,55.542,5.019)\"/>\n",
       "<path style=\"fill:none;stroke-width:0.31879;stroke-linecap:round;stroke-linejoin:round;stroke:rgb(0%,0%,0%);stroke-opacity:1;stroke-miterlimit:10;\" d=\"M -1.196423 1.594284 C -1.095095 0.99858 0.000240596 0.100666 0.298967 0.00109332 C 0.000242393 -0.100232 -1.096824 -0.998166 -1.196394 -1.593871 \" transform=\"matrix(-0.44722,0.89442,0.89442,0.44722,44.91007,26.28289)\"/>\n",
       "<path style=\"fill:none;stroke-width:0.3985;stroke-linecap:butt;stroke-linejoin:miter;stroke:rgb(0%,0%,0%);stroke-opacity:1;stroke-miterlimit:10;\" d=\"M 2.610344 -5.219281 L 10.274406 -20.5435 \" transform=\"matrix(1,0,0,-1,55.542,5.019)\"/>\n",
       "<path style=\"fill:none;stroke-width:0.31879;stroke-linecap:round;stroke-linejoin:round;stroke:rgb(0%,0%,0%);stroke-opacity:1;stroke-miterlimit:10;\" d=\"M -1.19583 1.596158 C -1.094894 0.9976 -0.000409642 0.0980486 0.298873 0.000616571 C 0.00133561 -0.0985714 -1.094841 -0.994701 -1.194005 -1.593264 \" transform=\"matrix(0.44897,0.898,0.898,-0.44897,65.81448,25.56392)\"/>\n",
       "<path style=\"fill:none;stroke-width:0.3985;stroke-linecap:butt;stroke-linejoin:miter;stroke:rgb(0%,0%,0%);stroke-opacity:1;stroke-miterlimit:10;\" d=\"M 10.477531 -35.738812 L 3.899406 -48.895062 \" transform=\"matrix(1,0,0,-1,55.542,5.019)\"/>\n",
       "<path style=\"fill:none;stroke-width:0.31879;stroke-linecap:round;stroke-linejoin:round;stroke:rgb(0%,0%,0%);stroke-opacity:1;stroke-miterlimit:10;\" d=\"M -1.196569 1.593316 C -1.095242 0.997613 0.0000941415 0.0996982 0.298821 0.000125657 C 0.0000959384 -0.101199 -1.095224 -0.993892 -1.196541 -1.594839 \" transform=\"matrix(-0.44722,0.89442,0.89442,0.44722,59.44212,53.91236)\"/>\n",
       "<path style=\"fill:none;stroke-width:0.3985;stroke-linecap:butt;stroke-linejoin:miter;stroke:rgb(0%,0%,0%);stroke-opacity:1;stroke-miterlimit:10;\" d=\"M 17.868156 -35.738812 L 25.532219 -51.063031 \" transform=\"matrix(1,0,0,-1,55.542,5.019)\"/>\n",
       "<path style=\"fill:none;stroke-width:0.31879;stroke-linecap:round;stroke-linejoin:round;stroke:rgb(0%,0%,0%);stroke-opacity:1;stroke-miterlimit:10;\" d=\"M -1.19573 1.594418 C -1.094794 0.99586 0.00143054 0.0997887 0.298973 -0.00112343 C 0.00143588 -0.100311 -1.094741 -0.996441 -1.193905 -1.595004 \" transform=\"matrix(0.44897,0.898,0.898,-0.44897,81.07381,56.08258)\"/>\n",
       "<path style=\"fill:none;stroke-width:0.3985;stroke-linecap:butt;stroke-linejoin:miter;stroke:rgb(0%,0%,0%);stroke-opacity:1;stroke-miterlimit:10;\" d=\"M -6.13575 -62.828656 L -21.889656 -78.582562 \" transform=\"matrix(1,0,0,-1,55.542,5.019)\"/>\n",
       "<path style=\"fill:none;stroke-width:0.31879;stroke-linecap:round;stroke-linejoin:round;stroke:rgb(0%,0%,0%);stroke-opacity:1;stroke-miterlimit:10;\" d=\"M -1.193766 1.593283 C -1.094331 0.996651 -0.00051371 0.101696 0.300563 -0.000506831 C 0.00224705 -0.0999433 -1.097108 -0.994882 -1.193788 -1.594275 \" transform=\"matrix(-0.70709,0.7071,0.7071,0.70709,33.65429,83.60033)\"/>\n",
       "<path style=\"fill:none;stroke-width:0.3985;stroke-linecap:butt;stroke-linejoin:miter;stroke:rgb(0%,0%,0%);stroke-opacity:1;stroke-miterlimit:10;\" d=\"M 0.00096875 -64.082562 L 0.00096875 -79.363812 \" transform=\"matrix(1,0,0,-1,55.542,5.019)\"/>\n",
       "<path style=\"fill:none;stroke-width:0.31879;stroke-linecap:round;stroke-linejoin:round;stroke:rgb(0%,0%,0%);stroke-opacity:1;stroke-miterlimit:10;\" d=\"M -1.19515 1.594719 C -1.097494 0.997062 0.0001625 0.098625 0.297037 0.00096875 C 0.0001625 -0.100594 -1.097494 -0.995125 -1.19515 -1.592781 \" transform=\"matrix(0,1,1,0,55.542,84.38265)\"/>\n",
       "<path style=\"fill:none;stroke-width:0.3985;stroke-linecap:butt;stroke-linejoin:miter;stroke:rgb(0%,0%,0%);stroke-opacity:1;stroke-miterlimit:10;\" d=\"M -4.565438 -90.258344 L -18.366219 -106.031781 \" transform=\"matrix(1,0,0,-1,55.542,5.019)\"/>\n",
       "<path style=\"fill:none;stroke-width:0.31879;stroke-linecap:round;stroke-linejoin:round;stroke:rgb(0%,0%,0%);stroke-opacity:1;stroke-miterlimit:10;\" d=\"M -1.195612 1.593942 C -1.097364 0.996458 -0.000246751 0.0976845 0.297032 0.000552886 C 0.00049004 -0.0984227 -1.094761 -0.994671 -1.195552 -1.595458 \" transform=\"matrix(-0.66016,0.75444,0.75444,0.66016,37.17614,111.04898)\"/>\n",
       "<path style=\"fill:none;stroke-width:0.3985;stroke-linecap:butt;stroke-linejoin:miter;stroke:rgb(0%,0%,0%);stroke-opacity:1;stroke-miterlimit:10;\" d=\"M 0.653312 -90.258344 L 2.653312 -106.258344 \" transform=\"matrix(1,0,0,-1,55.542,5.019)\"/>\n",
       "<path style=\"fill:none;stroke-width:0.31879;stroke-linecap:round;stroke-linejoin:round;stroke:rgb(0%,0%,0%);stroke-opacity:1;stroke-miterlimit:10;\" d=\"M -1.194345 1.594127 C -1.096031 0.995629 -0.000207524 0.099363 0.298077 -0.000862794 C -0.00165448 -0.101106 -1.096942 -0.995013 -1.195223 -1.592548 \" transform=\"matrix(0.12408,0.99287,0.99287,-0.12408,58.19434,111.27816)\"/>\n",
       "<path style=\"fill:none;stroke-width:0.3985;stroke-linecap:butt;stroke-linejoin:miter;stroke:rgb(0%,0%,0%);stroke-opacity:1;stroke-miterlimit:10;\" d=\"M -30.940438 -120.398969 L -43.514656 -134.770062 \" transform=\"matrix(1,0,0,-1,55.542,5.019)\"/>\n",
       "<path style=\"fill:none;stroke-width:0.31879;stroke-linecap:round;stroke-linejoin:round;stroke:rgb(0%,0%,0%);stroke-opacity:1;stroke-miterlimit:10;\" d=\"M -1.196355 1.592087 C -1.09517 0.997174 -0.000619293 0.101347 0.299224 0.00128546 C -0.000247443 -0.100258 -1.095485 -0.996509 -1.195904 -1.591794 \" transform=\"matrix(-0.66017,0.75444,0.75444,0.66017,12.0286,139.78903)\"/>\n",
       "<path style=\"fill:none;stroke-width:0.3985;stroke-linecap:butt;stroke-linejoin:miter;stroke:rgb(0%,0%,0%);stroke-opacity:1;stroke-miterlimit:10;\" d=\"M -23.877938 -120.777875 L -22.143563 -134.656781 \" transform=\"matrix(1,0,0,-1,55.542,5.019)\"/>\n",
       "<path style=\"fill:none;stroke-width:0.31879;stroke-linecap:round;stroke-linejoin:round;stroke:rgb(0%,0%,0%);stroke-opacity:1;stroke-miterlimit:10;\" d=\"M -1.196375 1.594718 C -1.094187 0.995736 0.0016364 0.0994699 0.299921 -0.000755825 C 0.000189441 -0.100999 -1.095099 -0.994906 -1.193379 -1.592441 \" transform=\"matrix(0.12408,0.99287,0.99287,-0.12408,33.39713,139.67478)\"/>\n",
       "<path style=\"fill:none;stroke-width:0.3985;stroke-linecap:butt;stroke-linejoin:miter;stroke:rgb(0%,0%,0%);stroke-opacity:1;stroke-miterlimit:10;\" d=\"M 28.348625 -61.910687 L 28.348625 -77.910687 \" transform=\"matrix(1,0,0,-1,55.542,5.019)\"/>\n",
       "<path style=\"fill:none;stroke-width:0.31879;stroke-linecap:round;stroke-linejoin:round;stroke:rgb(0%,0%,0%);stroke-opacity:1;stroke-miterlimit:10;\" d=\"M -1.193725 1.595575 C -1.096069 0.997919 0.0015875 0.0994812 0.298462 0.001825 C 0.0015875 -0.0997375 -1.096069 -0.998175 -1.193725 -1.595831 \" transform=\"matrix(0,1,1,0,83.8888,82.9281)\"/>\n",
       "<path style=\"fill:none;stroke-width:0.3985;stroke-linecap:butt;stroke-linejoin:miter;stroke:rgb(0%,0%,0%);stroke-opacity:1;stroke-miterlimit:10;\" d=\"M 33.563469 -61.910687 L 50.235344 -78.582562 \" transform=\"matrix(1,0,0,-1,55.542,5.019)\"/>\n",
       "<path style=\"fill:none;stroke-width:0.31879;stroke-linecap:round;stroke-linejoin:round;stroke:rgb(0%,0%,0%);stroke-opacity:1;stroke-miterlimit:10;\" d=\"M -1.194534 1.593479 C -1.095096 0.996852 0.00148229 0.0991488 0.299796 -0.000289033 C 0.00148229 -0.0997269 -1.095096 -0.99743 -1.194534 -1.594057 \" transform=\"matrix(0.7071,0.7071,0.7071,-0.7071,105.7765,83.60031)\"/>\n",
       "<path style=\"fill:none;stroke-width:0.3985;stroke-linecap:butt;stroke-linejoin:miter;stroke:rgb(0%,0%,0%);stroke-opacity:1;stroke-miterlimit:10;\" d=\"M 52.997062 -92.430219 L 46.418937 -105.586469 \" transform=\"matrix(1,0,0,-1,55.542,5.019)\"/>\n",
       "<path style=\"fill:none;stroke-width:0.31879;stroke-linecap:round;stroke-linejoin:round;stroke:rgb(0%,0%,0%);stroke-opacity:1;stroke-miterlimit:10;\" d=\"M -1.194752 1.593466 C -1.096918 0.996016 0.00191151 0.0998481 0.300638 0.00027549 C 0.000166342 -0.0975555 -1.0969 -0.99549 -1.194723 -1.594689 \" transform=\"matrix(-0.44722,0.89442,0.89442,0.44722,101.96233,110.60598)\"/>\n",
       "<path style=\"fill:none;stroke-width:0.3985;stroke-linecap:butt;stroke-linejoin:miter;stroke:rgb(0%,0%,0%);stroke-opacity:1;stroke-miterlimit:10;\" d=\"M 60.387687 -92.430219 L 66.965812 -105.586469 \" transform=\"matrix(1,0,0,-1,55.542,5.019)\"/>\n",
       "<path style=\"fill:none;stroke-width:0.31879;stroke-linecap:round;stroke-linejoin:round;stroke:rgb(0%,0%,0%);stroke-opacity:1;stroke-miterlimit:10;\" d=\"M -1.195828 1.59248 C -1.096258 0.996774 0.000808666 0.0988401 0.299534 -0.00248472 C 0.00080687 -0.102057 -1.096276 -0.994731 -1.195857 -1.595675 \" transform=\"matrix(0.44722,0.89442,0.89442,-0.44722,122.50889,110.60598)\"/>\n",
       "<path style=\"fill:none;stroke-width:0.3985;stroke-linecap:butt;stroke-linejoin:miter;stroke:rgb(0%,0%,0%);stroke-opacity:1;stroke-miterlimit:10;\" d=\"M 36.383781 -119.523969 L 20.633781 -135.273969 \" transform=\"matrix(1,0,0,-1,55.542,5.019)\"/>\n",
       "<path style=\"fill:none;stroke-width:0.31879;stroke-linecap:round;stroke-linejoin:round;stroke:rgb(0%,0%,0%);stroke-opacity:1;stroke-miterlimit:10;\" d=\"M -1.197613 1.594028 C -1.095417 0.994634 -0.00159915 0.099679 0.296716 0.000238322 C -0.00160056 -0.0991981 -1.095431 -0.994137 -1.197636 -1.59353 \" transform=\"matrix(-0.70709,0.7071,0.7071,0.70709,76.17448,140.29393)\"/>\n",
       "<path style=\"fill:none;stroke-width:0.3985;stroke-linecap:butt;stroke-linejoin:miter;stroke:rgb(0%,0%,0%);stroke-opacity:1;stroke-miterlimit:10;\" d=\"M 42.5205 -120.777875 L 42.5205 -136.059125 \" transform=\"matrix(1,0,0,-1,55.542,5.019)\"/>\n",
       "<path style=\"fill:none;stroke-width:0.31879;stroke-linecap:round;stroke-linejoin:round;stroke:rgb(0%,0%,0%);stroke-opacity:1;stroke-miterlimit:10;\" d=\"M -1.197364 1.59405 C -1.095801 0.996394 0.001855 0.0979562 0.29873 0.0003 C 0.001855 -0.101263 -1.095801 -0.995794 -1.197364 -1.59345 \" transform=\"matrix(0,1,1,0,98.0622,141.07627)\"/>\n",
       "<path style=\"fill:none;stroke-width:0.3985;stroke-linecap:butt;stroke-linejoin:miter;stroke:rgb(0%,0%,0%);stroke-opacity:1;stroke-miterlimit:10;\" d=\"M 37.30175 -146.953656 L 20.633781 -163.621625 \" transform=\"matrix(1,0,0,-1,55.542,5.019)\"/>\n",
       "<path style=\"fill:none;stroke-width:0.31879;stroke-linecap:round;stroke-linejoin:round;stroke:rgb(0%,0%,0%);stroke-opacity:1;stroke-miterlimit:10;\" d=\"M -1.197025 1.594599 C -1.094825 0.99521 -0.00100852 0.10027 0.297305 0.000831742 C -0.00100852 -0.0986061 -1.097587 -0.996309 -1.197025 -1.592936 \" transform=\"matrix(-0.7071,0.7071,0.7071,0.7071,76.17448,168.64075)\"/>\n",
       "<path style=\"fill:none;stroke-width:0.3985;stroke-linecap:butt;stroke-linejoin:miter;stroke:rgb(0%,0%,0%);stroke-opacity:1;stroke-miterlimit:10;\" d=\"M 42.5205 -146.953656 L 42.5205 -162.926312 \" transform=\"matrix(1,0,0,-1,55.542,5.019)\"/>\n",
       "<path style=\"fill:none;stroke-width:0.31879;stroke-linecap:round;stroke-linejoin:round;stroke:rgb(0%,0%,0%);stroke-opacity:1;stroke-miterlimit:10;\" d=\"M -1.19359 1.59405 C -1.095934 0.996394 0.0017225 0.0979562 0.298597 0.0003 C 0.0017225 -0.101263 -1.095934 -0.995794 -1.19359 -1.59345 \" transform=\"matrix(0,1,1,0,98.0622,167.94359)\"/>\n",
       "<path style=\"fill:none;stroke-width:0.3985;stroke-linecap:butt;stroke-linejoin:miter;stroke:rgb(0%,0%,0%);stroke-opacity:1;stroke-miterlimit:10;\" d=\"M 10.477531 -177.469281 L 3.516594 -191.398969 \" transform=\"matrix(1,0,0,-1,55.542,5.019)\"/>\n",
       "<path style=\"fill:none;stroke-width:0.31879;stroke-linecap:round;stroke-linejoin:round;stroke:rgb(0%,0%,0%);stroke-opacity:1;stroke-miterlimit:10;\" d=\"M -1.195131 1.592378 C -1.097698 0.997302 0.000225259 0.0977198 0.297762 -0.00146201 C -0.00151648 -0.0988985 -1.095975 -0.998461 -1.19516 -1.591795 \" transform=\"matrix(-0.44899,0.898,0.898,0.44899,59.05688,196.41686)\"/>\n",
       "<path style=\"fill:none;stroke-width:0.3985;stroke-linecap:butt;stroke-linejoin:miter;stroke:rgb(0%,0%,0%);stroke-opacity:1;stroke-miterlimit:10;\" d=\"M 17.868156 -177.469281 L 24.829094 -191.395062 \" transform=\"matrix(1,0,0,-1,55.542,5.019)\"/>\n",
       "<path style=\"fill:none;stroke-width:0.31879;stroke-linecap:round;stroke-linejoin:round;stroke:rgb(0%,0%,0%);stroke-opacity:1;stroke-miterlimit:10;\" d=\"M -1.194969 1.591935 C -1.095387 0.996226 -0.00178865 0.100051 0.298688 0.00222423 C -0.00178686 -0.100849 -1.09537 -0.995297 -1.19494 -1.596248 \" transform=\"matrix(0.4472,0.89442,0.89442,-0.4472,80.37225,196.41353)\"/>\n",
       "<path style=\"fill:none;stroke-width:0.3985;stroke-linecap:butt;stroke-linejoin:miter;stroke:rgb(0%,0%,0%);stroke-opacity:1;stroke-miterlimit:10;\" d=\"M 70.868156 -120.777875 L 70.868156 -135.109906 \" transform=\"matrix(1,0,0,-1,55.542,5.019)\"/>\n",
       "<path style=\"fill:none;stroke-width:0.31879;stroke-linecap:round;stroke-linejoin:round;stroke:rgb(0%,0%,0%);stroke-opacity:1;stroke-miterlimit:10;\" d=\"M -1.196216 1.594906 C -1.094654 0.99725 -0.00090375 0.0988125 0.299877 0.00115625 C -0.00090375 -0.100406 -1.094654 -0.994938 -1.196216 -1.592594 \" transform=\"matrix(0,1,1,0,126.409,140.12981)\"/>\n",
       "<path style=\"fill:none;stroke-width:0.3985;stroke-linecap:butt;stroke-linejoin:miter;stroke:rgb(0%,0%,0%);stroke-opacity:1;stroke-miterlimit:10;\" d=\"M 77.000969 -119.523969 L 92.754875 -135.273969 \" transform=\"matrix(1,0,0,-1,55.542,5.019)\"/>\n",
       "<path style=\"fill:none;stroke-width:0.31879;stroke-linecap:round;stroke-linejoin:round;stroke:rgb(0%,0%,0%);stroke-opacity:1;stroke-miterlimit:10;\" d=\"M -1.196592 1.59456 C -1.094387 0.995167 -0.000556681 0.100228 0.29776 0.000791427 C -0.000555274 -0.0986492 -1.097135 -0.996366 -1.196569 -1.592998 \" transform=\"matrix(0.70709,0.7071,0.7071,-0.70709,148.29671,140.29392)\"/>\n",
       "<path style=\"fill:none;stroke-width:0.3985;stroke-linecap:butt;stroke-linejoin:miter;stroke:rgb(0%,0%,0%);stroke-opacity:1;stroke-miterlimit:10;\" d=\"M 70.868156 -147.898969 L 70.868156 -162.94975 \" transform=\"matrix(1,0,0,-1,55.542,5.019)\"/>\n",
       "<path style=\"fill:none;stroke-width:0.31879;stroke-linecap:round;stroke-linejoin:round;stroke:rgb(0%,0%,0%);stroke-opacity:1;stroke-miterlimit:10;\" d=\"M -1.195073 1.594906 C -1.097416 0.99725 0.00024 0.0988125 0.297115 0.00115625 C 0.00024 -0.100406 -1.097416 -0.994938 -1.195073 -1.592594 \" transform=\"matrix(0,1,1,0,126.409,167.96851)\"/>\n",
       "<path style=\"fill:none;stroke-width:0.3985;stroke-linecap:butt;stroke-linejoin:miter;stroke:rgb(0%,0%,0%);stroke-opacity:1;stroke-miterlimit:10;\" d=\"M 77.000969 -147.867719 L 92.754875 -163.621625 \" transform=\"matrix(1,0,0,-1,55.542,5.019)\"/>\n",
       "<path style=\"fill:none;stroke-width:0.31879;stroke-linecap:round;stroke-linejoin:round;stroke:rgb(0%,0%,0%);stroke-opacity:1;stroke-miterlimit:10;\" d=\"M -1.195994 1.593961 C -1.096551 0.997331 0.0000417226 0.0996295 0.298358 0.000193032 C 0.0000431289 -0.0992476 -1.096537 -0.996964 -1.195971 -1.593596 \" transform=\"matrix(0.70709,0.7071,0.7071,-0.70709,148.29671,168.64073)\"/>\n",
       "<g style=\"fill:rgb(0%,0%,0%);fill-opacity:1;\">\n",
       "  <use xlink:href=\"#glyph-1506981941267956-0-1\" x=\"52.927\" y=\"6.718\"/>\n",
       "</g>\n",
       "<g style=\"fill:rgb(0%,0%,0%);fill-opacity:1;\">\n",
       "  <use xlink:href=\"#glyph-1506981941267956-0-2\" x=\"38.754\" y=\"36.409\"/>\n",
       "</g>\n",
       "<g style=\"fill:rgb(0%,0%,0%);fill-opacity:1;\">\n",
       "  <use xlink:href=\"#glyph-1506981941267956-0-3\" x=\"67.1\" y=\"36.409\"/>\n",
       "</g>\n",
       "<g style=\"fill:rgb(0%,0%,0%);fill-opacity:1;\">\n",
       "  <use xlink:href=\"#glyph-1506981941267956-0-3\" x=\"52.927\" y=\"64.756\"/>\n",
       "</g>\n",
       "<g style=\"fill:rgb(0%,0%,0%);fill-opacity:1;\">\n",
       "  <use xlink:href=\"#glyph-1506981941267956-0-2\" x=\"24.58\" y=\"93.102\"/>\n",
       "</g>\n",
       "<g style=\"fill:rgb(0%,0%,0%);fill-opacity:1;\">\n",
       "  <use xlink:href=\"#glyph-1506981941267956-0-1\" x=\"52.927\" y=\"91.757\"/>\n",
       "</g>\n",
       "<g style=\"fill:rgb(0%,0%,0%);fill-opacity:1;\">\n",
       "  <use xlink:href=\"#glyph-1506981941267956-0-3\" x=\"28.124\" y=\"121.448\"/>\n",
       "</g>\n",
       "<g style=\"fill:rgb(0%,0%,0%);fill-opacity:1;\">\n",
       "  <use xlink:href=\"#glyph-1506981941267956-0-4\" x=\"3.321\" y=\"149.74\"/>\n",
       "</g>\n",
       "<g style=\"fill:rgb(0%,0%,0%);fill-opacity:1;\">\n",
       "  <use xlink:href=\"#glyph-1506981941267956-0-5\" x=\"31.667\" y=\"149.855\"/>\n",
       "</g>\n",
       "<g style=\"fill:rgb(0%,0%,0%);fill-opacity:1;\">\n",
       "  <use xlink:href=\"#glyph-1506981941267956-0-6\" x=\"56.47\" y=\"121.448\"/>\n",
       "</g>\n",
       "<g style=\"fill:rgb(0%,0%,0%);fill-opacity:1;\">\n",
       "  <use xlink:href=\"#glyph-1506981941267956-0-1\" x=\"81.273\" y=\"63.411\"/>\n",
       "</g>\n",
       "<g style=\"fill:rgb(0%,0%,0%);fill-opacity:1;\">\n",
       "  <use xlink:href=\"#glyph-1506981941267956-0-2\" x=\"81.273\" y=\"93.102\"/>\n",
       "</g>\n",
       "<g style=\"fill:rgb(0%,0%,0%);fill-opacity:1;\">\n",
       "  <use xlink:href=\"#glyph-1506981941267956-0-3\" x=\"109.62\" y=\"93.102\"/>\n",
       "</g>\n",
       "<g style=\"fill:rgb(0%,0%,0%);fill-opacity:1;\">\n",
       "  <use xlink:href=\"#glyph-1506981941267956-0-3\" x=\"95.446\" y=\"121.448\"/>\n",
       "</g>\n",
       "<g style=\"fill:rgb(0%,0%,0%);fill-opacity:1;\">\n",
       "  <use xlink:href=\"#glyph-1506981941267956-0-2\" x=\"67.1\" y=\"149.795\"/>\n",
       "</g>\n",
       "<g style=\"fill:rgb(0%,0%,0%);fill-opacity:1;\">\n",
       "  <use xlink:href=\"#glyph-1506981941267956-0-1\" x=\"95.446\" y=\"148.45\"/>\n",
       "</g>\n",
       "<g style=\"fill:rgb(0%,0%,0%);fill-opacity:1;\">\n",
       "  <use xlink:href=\"#glyph-1506981941267956-0-3\" x=\"67.1\" y=\"178.141\"/>\n",
       "</g>\n",
       "<g style=\"fill:rgb(0%,0%,0%);fill-opacity:1;\">\n",
       "  <use xlink:href=\"#glyph-1506981941267956-0-4\" x=\"52.927\" y=\"206.433\"/>\n",
       "</g>\n",
       "<g style=\"fill:rgb(0%,0%,0%);fill-opacity:1;\">\n",
       "  <use xlink:href=\"#glyph-1506981941267956-0-5\" x=\"81.273\" y=\"206.547\"/>\n",
       "</g>\n",
       "<g style=\"fill:rgb(0%,0%,0%);fill-opacity:1;\">\n",
       "  <use xlink:href=\"#glyph-1506981941267956-0-7\" x=\"95.446\" y=\"178.166\"/>\n",
       "</g>\n",
       "<g style=\"fill:rgb(0%,0%,0%);fill-opacity:1;\">\n",
       "  <use xlink:href=\"#glyph-1506981941267956-0-3\" x=\"123.793\" y=\"121.448\"/>\n",
       "</g>\n",
       "<g style=\"fill:rgb(0%,0%,0%);fill-opacity:1;\">\n",
       "  <use xlink:href=\"#glyph-1506981941267956-0-8\" x=\"123.793\" y=\"149.396\"/>\n",
       "</g>\n",
       "<g style=\"fill:rgb(0%,0%,0%);fill-opacity:1;\">\n",
       "  <use xlink:href=\"#glyph-1506981941267956-0-9\" x=\"123.793\" y=\"178.141\"/>\n",
       "</g>\n",
       "<g style=\"fill:rgb(0%,0%,0%);fill-opacity:1;\">\n",
       "  <use xlink:href=\"#glyph-1506981941267956-0-10\" x=\"152.139\" y=\"178.141\"/>\n",
       "</g>\n",
       "<g style=\"fill:rgb(0%,0%,0%);fill-opacity:1;\">\n",
       "  <use xlink:href=\"#glyph-1506981941267956-0-5\" x=\"152.139\" y=\"149.855\"/>\n",
       "</g>\n",
       "</g>\n",
       "</svg>\n",
       "\n"
      ],
      "text/plain": [
       "TreeView.LabelledTree({25, 24} directed simple Int64 graph, Any[:-, 3, :/, :/, 3, :-, :/, 5, 4, 8  …  :-, :/, 5, 4, 7, :/, :+, 6, 9, 4])"
      ]
     },
     "execution_count": 9,
     "metadata": {},
     "output_type": "execute_result"
    }
   ],
   "source": [
    "display(results_gp.tree, grammar)"
   ]
  },
  {
   "cell_type": "markdown",
   "metadata": {},
   "source": [
    "## Grammatical Evolution\n",
    "\n",
    "Grammatical Evolution (GE) is an evolutionary algorithm based on sequentializing the decisions in the derivation tree (e.g., using depth-first traversal order).  Optimization is performed over integer arrays using genetic algorithms.\n",
    "\n",
    "See: C. Ryan, J.J. Collins, M. O'Neil, \"Grammatical Evolution: Evolving Programs for an Arbitrary Language\", in European Conference on Genetic Programming, Springer, 1998, pp. 83-96."
   ]
  },
  {
   "cell_type": "code",
   "execution_count": 10,
   "metadata": {},
   "outputs": [
    {
     "name": "stdout",
     "output_type": "stream",
     "text": [
      "search: \u001b[1mG\u001b[22m\u001b[1mr\u001b[22m\u001b[1ma\u001b[22m\u001b[1mm\u001b[22m\u001b[1mm\u001b[22m\u001b[1ma\u001b[22m\u001b[1mt\u001b[22m\u001b[1mi\u001b[22m\u001b[1mc\u001b[22m\u001b[1ma\u001b[22m\u001b[1ml\u001b[22m\u001b[1mE\u001b[22m\u001b[1mv\u001b[22m\u001b[1mo\u001b[22m\u001b[1ml\u001b[22m\u001b[1mu\u001b[22m\u001b[1mt\u001b[22m\u001b[1mi\u001b[22m\u001b[1mo\u001b[22m\u001b[1mn\u001b[22m\u001b[1mP\u001b[22m\u001b[1ma\u001b[22m\u001b[1mr\u001b[22m\u001b[1ma\u001b[22m\u001b[1mm\u001b[22m\u001b[1ms\u001b[22m \u001b[1mG\u001b[22m\u001b[1mr\u001b[22m\u001b[1ma\u001b[22m\u001b[1mm\u001b[22m\u001b[1mm\u001b[22m\u001b[1ma\u001b[22m\u001b[1mt\u001b[22m\u001b[1mi\u001b[22m\u001b[1mc\u001b[22m\u001b[1ma\u001b[22m\u001b[1ml\u001b[22m\u001b[1mE\u001b[22m\u001b[1mv\u001b[22m\u001b[1mo\u001b[22m\u001b[1ml\u001b[22m\u001b[1mu\u001b[22m\u001b[1mt\u001b[22m\u001b[1mi\u001b[22m\u001b[1mo\u001b[22m\u001b[1mn\u001b[22m\n",
      "\n"
     ]
    },
    {
     "data": {
      "text/markdown": [
       "```\n",
       "GrammaticalEvolutionParams\n",
       "```\n",
       "\n",
       "Parameters for Grammatical Evolution.\n",
       "\n",
       "# Arguments\n",
       "\n",
       "  * `grammar::Grammar`: grammar\n",
       "  * `typ::Symbol`: start symbol\n",
       "  * `pop_size::Int`: population size\n",
       "  * `iterations::Int`: number of iterations\n",
       "  * `gene_length::Int`: length of genotype integer array\n",
       "  * `max_depth::Int`: maximum depth of derivation tree\n",
       "  * `p_reproduction::Float64`: probability of reproduction operator\n",
       "  * `p_crossover::Float64`: probability of crossover operator\n",
       "  * `p_mutation::Float64`: probability of mutation operator\n",
       "  * `select_method::SelectionMethod`: selection method (default: tournament selection)\n",
       "  * `mutate_method::InitializationMethod`: mutation method (default: multi-mutate)\n"
      ],
      "text/plain": [
       "```\n",
       "GrammaticalEvolutionParams\n",
       "```\n",
       "\n",
       "Parameters for Grammatical Evolution.\n",
       "\n",
       "# Arguments\n",
       "\n",
       "  * `grammar::Grammar`: grammar\n",
       "  * `typ::Symbol`: start symbol\n",
       "  * `pop_size::Int`: population size\n",
       "  * `iterations::Int`: number of iterations\n",
       "  * `gene_length::Int`: length of genotype integer array\n",
       "  * `max_depth::Int`: maximum depth of derivation tree\n",
       "  * `p_reproduction::Float64`: probability of reproduction operator\n",
       "  * `p_crossover::Float64`: probability of crossover operator\n",
       "  * `p_mutation::Float64`: probability of mutation operator\n",
       "  * `select_method::SelectionMethod`: selection method (default: tournament selection)\n",
       "  * `mutate_method::InitializationMethod`: mutation method (default: multi-mutate)\n"
      ]
     },
     "execution_count": 10,
     "metadata": {},
     "output_type": "execute_result"
    }
   ],
   "source": [
    "?GrammaticalEvolutionParams"
   ]
  },
  {
   "cell_type": "code",
   "execution_count": 11,
   "metadata": {},
   "outputs": [
    {
     "data": {
      "text/plain": [
       "(:(3 + (9 / 8) / 8), 3.140625, 0.000967653589793116)"
      ]
     },
     "execution_count": 11,
     "metadata": {},
     "output_type": "execute_result"
    }
   ],
   "source": [
    "srand(4)\n",
    "p = GrammaticalEvolutionParams(grammar,:R,5000,80,20,8,0.2,0.4,0.4; select_method=GrammaticalEvolution.TruncationSelection(100))\n",
    "results_ge = optimize(p, grammar, :R, loss)\n",
    "(expr, val, err) = (results_ge.expr, eval(results_ge.expr), abs(eval(results_ge.expr)-π))"
   ]
  },
  {
   "cell_type": "code",
   "execution_count": 12,
   "metadata": {},
   "outputs": [
    {
     "data": {
      "image/svg+xml": [
       "<?xml version=\"1.0\" encoding=\"UTF-8\"?>\n",
       "<svg xmlns=\"http://www.w3.org/2000/svg\" xmlns:xlink=\"http://www.w3.org/1999/xlink\" width=\"54.391pt\" height=\"97.479pt\" viewBox=\"0 0 54.391 97.479\" version=\"1.1\">\n",
       "<defs>\n",
       "<g>\n",
       "<symbol overflow=\"visible\" id=\"glyph-1506981941267957-0-0\">\n",
       "<path style=\"stroke:none;\" d=\"\"/>\n",
       "</symbol>\n",
       "<symbol overflow=\"visible\" id=\"glyph-1506981941267957-0-1\">\n",
       "<path style=\"stroke:none;\" d=\"M 4.84375 -3.046875 C 4.84375 -3.40625 4.5 -3.40625 4.375 -3.40625 L 2.953125 -3.40625 L 2.953125 -4.828125 C 2.953125 -4.9375 2.953125 -5.296875 2.609375 -5.296875 C 2.265625 -5.296875 2.265625 -4.9375 2.265625 -4.828125 L 2.265625 -3.40625 L 0.84375 -3.40625 C 0.734375 -3.40625 0.375 -3.40625 0.375 -3.046875 C 0.375 -2.703125 0.734375 -2.703125 0.84375 -2.703125 L 2.265625 -2.703125 L 2.265625 -1.28125 C 2.265625 -1.15625 2.265625 -0.8125 2.609375 -0.8125 C 2.953125 -0.8125 2.953125 -1.15625 2.953125 -1.28125 L 2.953125 -2.703125 L 4.375 -2.703125 C 4.5 -2.703125 4.84375 -2.703125 4.84375 -3.046875 Z M 4.84375 -3.046875 \"/>\n",
       "</symbol>\n",
       "<symbol overflow=\"visible\" id=\"glyph-1506981941267957-0-2\">\n",
       "<path style=\"stroke:none;\" d=\"M 4.78125 -1.734375 C 4.78125 -2.4375 4.3125 -3.03125 3.65625 -3.328125 C 4.21875 -3.6875 4.5 -4.25 4.5 -4.796875 C 4.5 -5.53125 3.765625 -6.203125 2.625 -6.203125 C 1.421875 -6.203125 0.734375 -5.71875 0.734375 -5.03125 C 0.734375 -4.703125 0.984375 -4.5625 1.171875 -4.5625 C 1.390625 -4.5625 1.609375 -4.734375 1.609375 -5.015625 C 1.609375 -5.15625 1.5625 -5.25 1.53125 -5.28125 C 1.828125 -5.59375 2.546875 -5.59375 2.625 -5.59375 C 3.3125 -5.59375 3.8125 -5.234375 3.8125 -4.78125 C 3.8125 -4.484375 3.65625 -4.140625 3.390625 -3.921875 C 3.078125 -3.65625 2.828125 -3.640625 2.46875 -3.625 C 1.890625 -3.578125 1.75 -3.578125 1.75 -3.296875 C 1.75 -2.984375 1.984375 -2.984375 2.140625 -2.984375 L 2.609375 -2.984375 C 3.59375 -2.984375 4.09375 -2.3125 4.09375 -1.734375 C 4.09375 -1.125 3.53125 -0.5 2.625 -0.5 C 2.234375 -0.5 1.46875 -0.609375 1.203125 -1.078125 C 1.25 -1.125 1.328125 -1.1875 1.328125 -1.390625 C 1.328125 -1.625 1.140625 -1.828125 0.890625 -1.828125 C 0.65625 -1.828125 0.4375 -1.671875 0.4375 -1.359375 C 0.4375 -0.46875 1.40625 0.109375 2.625 0.109375 C 3.9375 0.109375 4.78125 -0.8125 4.78125 -1.734375 Z M 4.78125 -1.734375 \"/>\n",
       "</symbol>\n",
       "<symbol overflow=\"visible\" id=\"glyph-1506981941267957-0-3\">\n",
       "<path style=\"stroke:none;\" d=\"M 4.640625 -6.5625 C 4.640625 -6.75 4.5 -6.921875 4.296875 -6.921875 C 4.078125 -6.921875 4 -6.765625 3.953125 -6.640625 L 0.65625 0.234375 C 0.59375 0.40625 0.578125 0.40625 0.578125 0.484375 C 0.578125 0.65625 0.734375 0.828125 0.921875 0.828125 C 1.140625 0.828125 1.21875 0.671875 1.28125 0.546875 L 4.5625 -6.328125 C 4.640625 -6.484375 4.640625 -6.484375 4.640625 -6.5625 Z M 4.640625 -6.5625 \"/>\n",
       "</symbol>\n",
       "<symbol overflow=\"visible\" id=\"glyph-1506981941267957-0-4\">\n",
       "<path style=\"stroke:none;\" d=\"M 4.6875 -3.109375 C 4.6875 -5.515625 3.59375 -6.203125 2.640625 -6.203125 C 1.53125 -6.203125 0.53125 -5.375 0.53125 -4.171875 C 0.53125 -3.03125 1.40625 -2.140625 2.5 -2.140625 C 3.015625 -2.140625 3.53125 -2.3125 3.984375 -2.71875 C 3.890625 -1.484375 3.109375 -0.5 2.15625 -0.5 C 2.0625 -0.5 1.703125 -0.515625 1.5 -0.671875 C 1.53125 -0.71875 1.578125 -0.78125 1.578125 -0.953125 C 1.578125 -1.1875 1.40625 -1.390625 1.140625 -1.390625 C 0.890625 -1.390625 0.703125 -1.21875 0.703125 -0.921875 C 0.703125 -0.59375 0.875 0.109375 2.15625 0.109375 C 3.46875 0.109375 4.6875 -1.140625 4.6875 -3.109375 Z M 3.921875 -3.875 C 3.921875 -3.328125 3.375 -2.765625 2.546875 -2.765625 C 1.75 -2.765625 1.21875 -3.421875 1.21875 -4.171875 C 1.21875 -5.03125 1.921875 -5.59375 2.640625 -5.59375 C 3.078125 -5.59375 3.34375 -5.359375 3.515625 -5.15625 C 3.828125 -4.78125 3.921875 -4.578125 3.921875 -3.875 Z M 3.921875 -3.875 \"/>\n",
       "</symbol>\n",
       "<symbol overflow=\"visible\" id=\"glyph-1506981941267957-0-5\">\n",
       "<path style=\"stroke:none;\" d=\"M 4.78125 -1.734375 C 4.78125 -2.484375 4.140625 -3.078125 3.40625 -3.28125 C 4.203125 -3.546875 4.640625 -4.03125 4.640625 -4.609375 C 4.640625 -5.421875 3.796875 -6.203125 2.609375 -6.203125 C 1.421875 -6.203125 0.578125 -5.40625 0.578125 -4.609375 C 0.578125 -4.03125 1.03125 -3.53125 1.828125 -3.28125 C 1.078125 -3.078125 0.4375 -2.484375 0.4375 -1.734375 C 0.4375 -0.765625 1.359375 0.109375 2.609375 0.109375 C 3.875 0.109375 4.78125 -0.765625 4.78125 -1.734375 Z M 3.953125 -4.59375 C 3.953125 -4.03125 3.34375 -3.59375 2.609375 -3.59375 C 1.890625 -3.59375 1.265625 -4.03125 1.265625 -4.59375 C 1.265625 -5.109375 1.828125 -5.59375 2.609375 -5.59375 C 3.390625 -5.59375 3.953125 -5.109375 3.953125 -4.59375 Z M 4.09375 -1.75 C 4.09375 -1.0625 3.4375 -0.5 2.609375 -0.5 C 1.78125 -0.5 1.125 -1.0625 1.125 -1.75 C 1.125 -2.359375 1.703125 -2.984375 2.609375 -2.984375 C 3.53125 -2.984375 4.09375 -2.359375 4.09375 -1.75 Z M 4.09375 -1.75 \"/>\n",
       "</symbol>\n",
       "</g>\n",
       "</defs>\n",
       "<g id=\"surface1\">\n",
       "<path style=\"fill:none;stroke-width:0.3985;stroke-linecap:butt;stroke-linejoin:miter;stroke:rgb(0%,0%,0%);stroke-opacity:1;stroke-miterlimit:10;\" d=\"M -3.081656 -6.166813 L -10.632438 -21.260563 \" transform=\"matrix(1,0,0,-1,20.109,5.966)\"/>\n",
       "<path style=\"fill:none;stroke-width:0.31879;stroke-linecap:round;stroke-linejoin:round;stroke:rgb(0%,0%,0%);stroke-opacity:1;stroke-miterlimit:10;\" d=\"M -1.194523 1.593621 C -1.095345 0.995068 0.000841314 0.09898 0.298378 -0.000198775 C 0.000841314 -0.101117 -1.095345 -0.997206 -1.196263 -1.595758 \" transform=\"matrix(-0.449,0.898,0.898,0.449,9.4779,27.22824)\"/>\n",
       "<path style=\"fill:none;stroke-width:0.3985;stroke-linecap:butt;stroke-linejoin:miter;stroke:rgb(0%,0%,0%);stroke-opacity:1;stroke-miterlimit:10;\" d=\"M 3.082406 -6.166813 L 10.273812 -20.545719 \" transform=\"matrix(1,0,0,-1,20.109,5.966)\"/>\n",
       "<path style=\"fill:none;stroke-width:0.31879;stroke-linecap:round;stroke-linejoin:round;stroke:rgb(0%,0%,0%);stroke-opacity:1;stroke-miterlimit:10;\" d=\"M -1.19407 1.594665 C -1.096626 0.997851 -0.000426855 0.101768 0.297112 0.00085176 C -0.000425072 -0.0983301 -1.096608 -0.994432 -1.195782 -1.592988 \" transform=\"matrix(0.44899,0.898,0.898,-0.44899,30.38146,26.51092)\"/>\n",
       "<path style=\"fill:none;stroke-width:0.3985;stroke-linecap:butt;stroke-linejoin:miter;stroke:rgb(0%,0%,0%);stroke-opacity:1;stroke-miterlimit:10;\" d=\"M 10.476937 -35.737125 L 3.898812 -48.893375 \" transform=\"matrix(1,0,0,-1,20.109,5.966)\"/>\n",
       "<path style=\"fill:none;stroke-width:0.31879;stroke-linecap:round;stroke-linejoin:round;stroke:rgb(0%,0%,0%);stroke-opacity:1;stroke-miterlimit:10;\" d=\"M -1.194319 1.593778 C -1.096486 0.996327 -0.00114966 0.0984125 0.297577 -0.0011601 C 0.00059902 -0.0972441 -1.096468 -0.995178 -1.194291 -1.594378 \" transform=\"matrix(-0.44722,0.89442,0.89442,0.44722,24.00912,54.85936)\"/>\n",
       "<path style=\"fill:none;stroke-width:0.3985;stroke-linecap:butt;stroke-linejoin:miter;stroke:rgb(0%,0%,0%);stroke-opacity:1;stroke-miterlimit:10;\" d=\"M 17.867562 -35.737125 L 24.805062 -49.608219 \" transform=\"matrix(1,0,0,-1,20.109,5.966)\"/>\n",
       "<path style=\"fill:none;stroke-width:0.31879;stroke-linecap:round;stroke-linejoin:round;stroke:rgb(0%,0%,0%);stroke-opacity:1;stroke-miterlimit:10;\" d=\"M -1.195927 1.594631 C -1.094991 0.996074 0.00123398 0.100002 0.298777 -0.000909622 C 0.00123933 -0.100098 -1.094937 -0.996227 -1.194101 -1.59479 \" transform=\"matrix(0.44897,0.898,0.898,-0.44897,44.91355,55.57504)\"/>\n",
       "<path style=\"fill:none;stroke-width:0.3985;stroke-linecap:butt;stroke-linejoin:miter;stroke:rgb(0%,0%,0%);stroke-opacity:1;stroke-miterlimit:10;\" d=\"M -3.694938 -64.084781 L -10.632438 -77.955875 \" transform=\"matrix(1,0,0,-1,20.109,5.966)\"/>\n",
       "<path style=\"fill:none;stroke-width:0.31879;stroke-linecap:round;stroke-linejoin:round;stroke:rgb(0%,0%,0%);stroke-opacity:1;stroke-miterlimit:10;\" d=\"M -1.196465 1.592724 C -1.09382 0.995901 -0.00112379 0.0980309 0.299894 0.00058275 C 0.00235091 -0.100329 -1.093874 -0.996401 -1.19481 -1.594958 \" transform=\"matrix(-0.44897,0.898,0.898,0.44897,9.47787,83.92184)\"/>\n",
       "<path style=\"fill:none;stroke-width:0.3985;stroke-linecap:butt;stroke-linejoin:miter;stroke:rgb(0%,0%,0%);stroke-opacity:1;stroke-miterlimit:10;\" d=\"M 3.695687 -64.084781 L 10.629281 -77.955875 \" transform=\"matrix(1,0,0,-1,20.109,5.966)\"/>\n",
       "<path style=\"fill:none;stroke-width:0.31879;stroke-linecap:round;stroke-linejoin:round;stroke:rgb(0%,0%,0%);stroke-opacity:1;stroke-miterlimit:10;\" d=\"M -1.194476 1.595626 C -1.09354 0.997069 0.000945068 0.0975175 0.300228 0.0000854193 C -0.000789725 -0.0973627 -1.095226 -0.998712 -1.19613 -1.592055 \" transform=\"matrix(0.44897,0.898,0.898,-0.44897,30.74013,83.92184)\"/>\n",
       "<g style=\"fill:rgb(0%,0%,0%);fill-opacity:1;\">\n",
       "  <use xlink:href=\"#glyph-1506981941267957-0-1\" x=\"17.494\" y=\"8.611\"/>\n",
       "</g>\n",
       "<g style=\"fill:rgb(0%,0%,0%);fill-opacity:1;\">\n",
       "  <use xlink:href=\"#glyph-1506981941267957-0-2\" x=\"3.321\" y=\"37.356\"/>\n",
       "</g>\n",
       "<g style=\"fill:rgb(0%,0%,0%);fill-opacity:1;\">\n",
       "  <use xlink:href=\"#glyph-1506981941267957-0-3\" x=\"31.667\" y=\"37.356\"/>\n",
       "</g>\n",
       "<g style=\"fill:rgb(0%,0%,0%);fill-opacity:1;\">\n",
       "  <use xlink:href=\"#glyph-1506981941267957-0-3\" x=\"17.494\" y=\"65.702\"/>\n",
       "</g>\n",
       "<g style=\"fill:rgb(0%,0%,0%);fill-opacity:1;\">\n",
       "  <use xlink:href=\"#glyph-1506981941267957-0-4\" x=\"3.321\" y=\"94.049\"/>\n",
       "</g>\n",
       "<g style=\"fill:rgb(0%,0%,0%);fill-opacity:1;\">\n",
       "  <use xlink:href=\"#glyph-1506981941267957-0-5\" x=\"31.667\" y=\"94.049\"/>\n",
       "</g>\n",
       "<g style=\"fill:rgb(0%,0%,0%);fill-opacity:1;\">\n",
       "  <use xlink:href=\"#glyph-1506981941267957-0-5\" x=\"45.84\" y=\"65.702\"/>\n",
       "</g>\n",
       "</g>\n",
       "</svg>\n",
       "\n"
      ],
      "text/plain": [
       "TreeView.LabelledTree({7, 6} directed simple Int64 graph, Any[:+, 3, :/, :/, 9, 8, 8])"
      ]
     },
     "execution_count": 12,
     "metadata": {},
     "output_type": "execute_result"
    }
   ],
   "source": [
    "display(results_ge.tree, grammar)"
   ]
  },
  {
   "cell_type": "markdown",
   "metadata": {},
   "source": [
    "## Cross-Entropy Method\n",
    "\n",
    "The Cross-Entropy (CE) Method is a population-based optimization algorithm based on repeatedly estimating the probability distribution of good solutions.  This implementation uses a probabilistic grammar to represent the distributions.\n",
    "\n",
    "See: Rubinstein, \"Optimization of Computer Simulation Models with Rare Events\", European Journal of Operations Research, 99, 89-112, 1197"
   ]
  },
  {
   "cell_type": "code",
   "execution_count": 13,
   "metadata": {},
   "outputs": [
    {
     "name": "stdout",
     "output_type": "stream",
     "text": [
      "search: \u001b[1mC\u001b[22m\u001b[1mr\u001b[22m\u001b[1mo\u001b[22m\u001b[1ms\u001b[22m\u001b[1ms\u001b[22m\u001b[1mE\u001b[22m\u001b[1mn\u001b[22m\u001b[1mt\u001b[22m\u001b[1mr\u001b[22m\u001b[1mo\u001b[22m\u001b[1mp\u001b[22m\u001b[1my\u001b[22m\u001b[1mP\u001b[22m\u001b[1ma\u001b[22m\u001b[1mr\u001b[22m\u001b[1ma\u001b[22m\u001b[1mm\u001b[22m\u001b[1ms\u001b[22m\n",
      "\n"
     ]
    },
    {
     "data": {
      "text/markdown": [
       "```\n",
       "CrossEntropyParams\n",
       "```\n",
       "\n",
       "Parameters for Cross Entropy method.\n",
       "\n",
       "# Arguments\n",
       "\n",
       "  * `pop_size::Int`: population size\n",
       "  * `iiterations::Int`: number of iterations\n",
       "  * `max_depth::Int`: maximum depth of derivation tree\n",
       "  * `top_k::Int`: top k elite samples used in selection\n",
       "  * `p_init::Float64`: initial value when fitting MLE\n",
       "  * `init_method::InitializationMethod`: Initialization method\n"
      ],
      "text/plain": [
       "```\n",
       "CrossEntropyParams\n",
       "```\n",
       "\n",
       "Parameters for Cross Entropy method.\n",
       "\n",
       "# Arguments\n",
       "\n",
       "  * `pop_size::Int`: population size\n",
       "  * `iiterations::Int`: number of iterations\n",
       "  * `max_depth::Int`: maximum depth of derivation tree\n",
       "  * `top_k::Int`: top k elite samples used in selection\n",
       "  * `p_init::Float64`: initial value when fitting MLE\n",
       "  * `init_method::InitializationMethod`: Initialization method\n"
      ]
     },
     "execution_count": 13,
     "metadata": {},
     "output_type": "execute_result"
    }
   ],
   "source": [
    "?CrossEntropyParams"
   ]
  },
  {
   "cell_type": "code",
   "execution_count": 14,
   "metadata": {},
   "outputs": [
    {
     "data": {
      "text/plain": [
       "(:(3 + 9 / (8 * (8 / (9 - (6 - 1)) + 6))), 3.140625, 0.000967653589793116)"
      ]
     },
     "execution_count": 14,
     "metadata": {},
     "output_type": "execute_result"
    }
   ],
   "source": [
    "srand(0)\n",
    "p = CrossEntropyParams(5000,80,8,5000,2000.0)\n",
    "results_ce = optimize(p, grammar, :R, loss)\n",
    "(expr, val, err) = (results_ce.expr, eval(results_ce.expr), abs(eval(results_ce.expr)-π))"
   ]
  },
  {
   "cell_type": "code",
   "execution_count": 15,
   "metadata": {},
   "outputs": [
    {
     "data": {
      "image/svg+xml": [
       "<?xml version=\"1.0\" encoding=\"UTF-8\"?>\n",
       "<svg xmlns=\"http://www.w3.org/2000/svg\" xmlns:xlink=\"http://www.w3.org/1999/xlink\" width=\"96.911pt\" height=\"210.864pt\" viewBox=\"0 0 96.911 210.864\" version=\"1.1\">\n",
       "<defs>\n",
       "<g>\n",
       "<symbol overflow=\"visible\" id=\"glyph-1506981941267958-0-0\">\n",
       "<path style=\"stroke:none;\" d=\"\"/>\n",
       "</symbol>\n",
       "<symbol overflow=\"visible\" id=\"glyph-1506981941267958-0-1\">\n",
       "<path style=\"stroke:none;\" d=\"M 4.84375 -3.046875 C 4.84375 -3.40625 4.5 -3.40625 4.375 -3.40625 L 2.953125 -3.40625 L 2.953125 -4.828125 C 2.953125 -4.9375 2.953125 -5.296875 2.609375 -5.296875 C 2.265625 -5.296875 2.265625 -4.9375 2.265625 -4.828125 L 2.265625 -3.40625 L 0.84375 -3.40625 C 0.734375 -3.40625 0.375 -3.40625 0.375 -3.046875 C 0.375 -2.703125 0.734375 -2.703125 0.84375 -2.703125 L 2.265625 -2.703125 L 2.265625 -1.28125 C 2.265625 -1.15625 2.265625 -0.8125 2.609375 -0.8125 C 2.953125 -0.8125 2.953125 -1.15625 2.953125 -1.28125 L 2.953125 -2.703125 L 4.375 -2.703125 C 4.5 -2.703125 4.84375 -2.703125 4.84375 -3.046875 Z M 4.84375 -3.046875 \"/>\n",
       "</symbol>\n",
       "<symbol overflow=\"visible\" id=\"glyph-1506981941267958-0-2\">\n",
       "<path style=\"stroke:none;\" d=\"M 4.78125 -1.734375 C 4.78125 -2.4375 4.3125 -3.03125 3.65625 -3.328125 C 4.21875 -3.6875 4.5 -4.25 4.5 -4.796875 C 4.5 -5.53125 3.765625 -6.203125 2.625 -6.203125 C 1.421875 -6.203125 0.734375 -5.71875 0.734375 -5.03125 C 0.734375 -4.703125 0.984375 -4.5625 1.171875 -4.5625 C 1.390625 -4.5625 1.609375 -4.734375 1.609375 -5.015625 C 1.609375 -5.15625 1.5625 -5.25 1.53125 -5.28125 C 1.828125 -5.59375 2.546875 -5.59375 2.625 -5.59375 C 3.3125 -5.59375 3.8125 -5.234375 3.8125 -4.78125 C 3.8125 -4.484375 3.65625 -4.140625 3.390625 -3.921875 C 3.078125 -3.65625 2.828125 -3.640625 2.46875 -3.625 C 1.890625 -3.578125 1.75 -3.578125 1.75 -3.296875 C 1.75 -2.984375 1.984375 -2.984375 2.140625 -2.984375 L 2.609375 -2.984375 C 3.59375 -2.984375 4.09375 -2.3125 4.09375 -1.734375 C 4.09375 -1.125 3.53125 -0.5 2.625 -0.5 C 2.234375 -0.5 1.46875 -0.609375 1.203125 -1.078125 C 1.25 -1.125 1.328125 -1.1875 1.328125 -1.390625 C 1.328125 -1.625 1.140625 -1.828125 0.890625 -1.828125 C 0.65625 -1.828125 0.4375 -1.671875 0.4375 -1.359375 C 0.4375 -0.46875 1.40625 0.109375 2.625 0.109375 C 3.9375 0.109375 4.78125 -0.8125 4.78125 -1.734375 Z M 4.78125 -1.734375 \"/>\n",
       "</symbol>\n",
       "<symbol overflow=\"visible\" id=\"glyph-1506981941267958-0-3\">\n",
       "<path style=\"stroke:none;\" d=\"M 4.640625 -6.5625 C 4.640625 -6.75 4.5 -6.921875 4.296875 -6.921875 C 4.078125 -6.921875 4 -6.765625 3.953125 -6.640625 L 0.65625 0.234375 C 0.59375 0.40625 0.578125 0.40625 0.578125 0.484375 C 0.578125 0.65625 0.734375 0.828125 0.921875 0.828125 C 1.140625 0.828125 1.21875 0.671875 1.28125 0.546875 L 4.5625 -6.328125 C 4.640625 -6.484375 4.640625 -6.484375 4.640625 -6.5625 Z M 4.640625 -6.5625 \"/>\n",
       "</symbol>\n",
       "<symbol overflow=\"visible\" id=\"glyph-1506981941267958-0-4\">\n",
       "<path style=\"stroke:none;\" d=\"M 4.6875 -3.109375 C 4.6875 -5.515625 3.59375 -6.203125 2.640625 -6.203125 C 1.53125 -6.203125 0.53125 -5.375 0.53125 -4.171875 C 0.53125 -3.03125 1.40625 -2.140625 2.5 -2.140625 C 3.015625 -2.140625 3.53125 -2.3125 3.984375 -2.71875 C 3.890625 -1.484375 3.109375 -0.5 2.15625 -0.5 C 2.0625 -0.5 1.703125 -0.515625 1.5 -0.671875 C 1.53125 -0.71875 1.578125 -0.78125 1.578125 -0.953125 C 1.578125 -1.1875 1.40625 -1.390625 1.140625 -1.390625 C 0.890625 -1.390625 0.703125 -1.21875 0.703125 -0.921875 C 0.703125 -0.59375 0.875 0.109375 2.15625 0.109375 C 3.46875 0.109375 4.6875 -1.140625 4.6875 -3.109375 Z M 3.921875 -3.875 C 3.921875 -3.328125 3.375 -2.765625 2.546875 -2.765625 C 1.75 -2.765625 1.21875 -3.421875 1.21875 -4.171875 C 1.21875 -5.03125 1.921875 -5.59375 2.640625 -5.59375 C 3.078125 -5.59375 3.34375 -5.359375 3.515625 -5.15625 C 3.828125 -4.78125 3.921875 -4.578125 3.921875 -3.875 Z M 3.921875 -3.875 \"/>\n",
       "</symbol>\n",
       "<symbol overflow=\"visible\" id=\"glyph-1506981941267958-0-5\">\n",
       "<path style=\"stroke:none;\" d=\"M 4.546875 -2.140625 C 4.546875 -2.296875 4.421875 -2.390625 4.40625 -2.40625 C 4.15625 -2.578125 3.484375 -2.90625 3.21875 -3.046875 L 4.296875 -3.625 C 4.421875 -3.703125 4.546875 -3.765625 4.546875 -3.953125 C 4.546875 -4 4.546875 -4.28125 4.140625 -4.28125 L 2.90625 -3.5625 C 2.9375 -3.828125 2.9375 -4.484375 2.9375 -4.78125 C 2.9375 -4.859375 2.9375 -5.1875 2.609375 -5.1875 C 2.28125 -5.1875 2.28125 -4.859375 2.28125 -4.78125 C 2.28125 -4.484375 2.296875 -3.828125 2.3125 -3.5625 L 1.234375 -4.203125 C 1.09375 -4.28125 1.078125 -4.28125 1 -4.28125 C 0.8125 -4.28125 0.671875 -4.109375 0.671875 -3.953125 C 0.671875 -3.765625 0.78125 -3.703125 0.921875 -3.640625 L 2 -3.046875 L 0.921875 -2.46875 C 0.8125 -2.390625 0.671875 -2.328125 0.671875 -2.140625 C 0.671875 -2.09375 0.671875 -1.796875 1.078125 -1.796875 L 2.3125 -2.515625 C 2.296875 -2.265625 2.28125 -1.609375 2.28125 -1.3125 C 2.28125 -1.21875 2.28125 -0.890625 2.609375 -0.890625 C 2.9375 -0.890625 2.9375 -1.21875 2.9375 -1.3125 C 2.9375 -1.609375 2.9375 -2.265625 2.90625 -2.515625 C 3.515625 -2.1875 3.15625 -2.375 3.84375 -1.96875 C 4.109375 -1.796875 4.140625 -1.796875 4.21875 -1.796875 C 4.421875 -1.796875 4.546875 -1.984375 4.546875 -2.140625 Z M 4.546875 -2.140625 \"/>\n",
       "</symbol>\n",
       "<symbol overflow=\"visible\" id=\"glyph-1506981941267958-0-6\">\n",
       "<path style=\"stroke:none;\" d=\"M 4.78125 -1.734375 C 4.78125 -2.484375 4.140625 -3.078125 3.40625 -3.28125 C 4.203125 -3.546875 4.640625 -4.03125 4.640625 -4.609375 C 4.640625 -5.421875 3.796875 -6.203125 2.609375 -6.203125 C 1.421875 -6.203125 0.578125 -5.40625 0.578125 -4.609375 C 0.578125 -4.03125 1.03125 -3.53125 1.828125 -3.28125 C 1.078125 -3.078125 0.4375 -2.484375 0.4375 -1.734375 C 0.4375 -0.765625 1.359375 0.109375 2.609375 0.109375 C 3.875 0.109375 4.78125 -0.765625 4.78125 -1.734375 Z M 3.953125 -4.59375 C 3.953125 -4.03125 3.34375 -3.59375 2.609375 -3.59375 C 1.890625 -3.59375 1.265625 -4.03125 1.265625 -4.59375 C 1.265625 -5.109375 1.828125 -5.59375 2.609375 -5.59375 C 3.390625 -5.59375 3.953125 -5.109375 3.953125 -4.59375 Z M 4.09375 -1.75 C 4.09375 -1.0625 3.4375 -0.5 2.609375 -0.5 C 1.78125 -0.5 1.125 -1.0625 1.125 -1.75 C 1.125 -2.359375 1.703125 -2.984375 2.609375 -2.984375 C 3.53125 -2.984375 4.09375 -2.359375 4.09375 -1.75 Z M 4.09375 -1.75 \"/>\n",
       "</symbol>\n",
       "<symbol overflow=\"visible\" id=\"glyph-1506981941267958-0-7\">\n",
       "<path style=\"stroke:none;\" d=\"M 4.671875 -3.046875 C 4.671875 -3.40625 4.3125 -3.40625 4.203125 -3.40625 L 1.03125 -3.40625 C 0.90625 -3.40625 0.5625 -3.40625 0.5625 -3.046875 C 0.5625 -2.703125 0.90625 -2.703125 1.03125 -2.703125 L 4.203125 -2.703125 C 4.3125 -2.703125 4.671875 -2.703125 4.671875 -3.046875 Z M 4.671875 -3.046875 \"/>\n",
       "</symbol>\n",
       "<symbol overflow=\"visible\" id=\"glyph-1506981941267958-0-8\">\n",
       "<path style=\"stroke:none;\" d=\"M 4.6875 -1.921875 C 4.6875 -3.0625 3.8125 -3.953125 2.71875 -3.953125 C 2.203125 -3.953125 1.6875 -3.78125 1.234375 -3.375 C 1.375 -4.78125 2.3125 -5.59375 3.1875 -5.59375 C 3.53125 -5.59375 3.6875 -5.484375 3.734375 -5.4375 C 3.6875 -5.390625 3.640625 -5.328125 3.640625 -5.140625 C 3.640625 -4.90625 3.8125 -4.703125 4.078125 -4.703125 C 4.328125 -4.703125 4.53125 -4.875 4.53125 -5.171875 C 4.53125 -5.65625 4.171875 -6.203125 3.203125 -6.203125 C 1.859375 -6.203125 0.53125 -5 0.53125 -2.984375 C 0.53125 -0.625 1.640625 0.109375 2.625 0.109375 C 3.71875 0.109375 4.6875 -0.734375 4.6875 -1.921875 Z M 4 -1.921875 C 4 -1.0625 3.34375 -0.5 2.625 -0.5 C 1.984375 -0.5 1.59375 -0.984375 1.390625 -1.59375 C 1.296875 -1.828125 1.3125 -2.078125 1.3125 -2.21875 C 1.3125 -2.828125 1.90625 -3.328125 2.671875 -3.328125 C 3.484375 -3.328125 4 -2.65625 4 -1.921875 Z M 4 -1.921875 \"/>\n",
       "</symbol>\n",
       "<symbol overflow=\"visible\" id=\"glyph-1506981941267958-0-9\">\n",
       "<path style=\"stroke:none;\" d=\"M 4.40625 -0.296875 C 4.40625 -0.609375 4.171875 -0.609375 4 -0.609375 L 3.09375 -0.609375 L 3.09375 -5.796875 C 3.09375 -5.953125 3.09375 -6.203125 2.796875 -6.203125 C 2.609375 -6.203125 2.546875 -6.078125 2.5 -5.96875 C 2.125 -5.109375 1.609375 -5 1.421875 -4.984375 C 1.25 -4.96875 1.046875 -4.953125 1.046875 -4.671875 C 1.046875 -4.421875 1.21875 -4.375 1.375 -4.375 C 1.5625 -4.375 1.96875 -4.4375 2.40625 -4.8125 L 2.40625 -0.609375 L 1.5 -0.609375 C 1.34375 -0.609375 1.109375 -0.609375 1.109375 -0.296875 C 1.109375 0 1.359375 0 1.5 0 L 4 0 C 4.15625 0 4.40625 0 4.40625 -0.296875 Z M 4.40625 -0.296875 \"/>\n",
       "</symbol>\n",
       "</g>\n",
       "</defs>\n",
       "<g id=\"surface1\">\n",
       "<path style=\"fill:none;stroke-width:0.3985;stroke-linecap:butt;stroke-linejoin:miter;stroke:rgb(0%,0%,0%);stroke-opacity:1;stroke-miterlimit:10;\" d=\"M -3.081656 -6.163906 L -10.632438 -21.261562 \" transform=\"matrix(1,0,0,-1,20.109,5.965)\"/>\n",
       "<path style=\"fill:none;stroke-width:0.31879;stroke-linecap:round;stroke-linejoin:round;stroke:rgb(0%,0%,0%);stroke-opacity:1;stroke-miterlimit:10;\" d=\"M -1.193633 1.594066 C -1.094454 0.995514 0.00173218 0.0994254 0.299268 0.000246659 C 0.00173218 -0.100672 -1.094454 -0.996761 -1.195372 -1.595313 \" transform=\"matrix(-0.449,0.898,0.898,0.449,9.4779,27.22724)\"/>\n",
       "<path style=\"fill:none;stroke-width:0.3985;stroke-linecap:butt;stroke-linejoin:miter;stroke:rgb(0%,0%,0%);stroke-opacity:1;stroke-miterlimit:10;\" d=\"M 3.082406 -6.163906 L 10.273812 -20.546719 \" transform=\"matrix(1,0,0,-1,20.109,5.965)\"/>\n",
       "<path style=\"fill:none;stroke-width:0.31879;stroke-linecap:round;stroke-linejoin:round;stroke:rgb(0%,0%,0%);stroke-opacity:1;stroke-miterlimit:10;\" d=\"M -1.196659 1.59596 C -1.095735 0.997406 0.000464021 0.101323 0.298002 0.000406331 C 0.000465804 -0.0987755 -1.095717 -0.994878 -1.194891 -1.593434 \" transform=\"matrix(0.44899,0.898,0.898,-0.44899,30.38146,26.50992)\"/>\n",
       "<path style=\"fill:none;stroke-width:0.3985;stroke-linecap:butt;stroke-linejoin:miter;stroke:rgb(0%,0%,0%);stroke-opacity:1;stroke-miterlimit:10;\" d=\"M 10.476937 -35.738125 L 3.543344 -49.609219 \" transform=\"matrix(1,0,0,-1,20.109,5.965)\"/>\n",
       "<path style=\"fill:none;stroke-width:0.31879;stroke-linecap:round;stroke-linejoin:round;stroke:rgb(0%,0%,0%);stroke-opacity:1;stroke-miterlimit:10;\" d=\"M -1.197406 1.594927 C -1.094762 0.998104 -0.00206528 0.100234 0.300692 -0.000694014 C 0.00140942 -0.0981261 -1.094815 -0.994197 -1.195751 -1.592755 \" transform=\"matrix(-0.44897,0.898,0.898,0.44897,23.65125,55.57404)\"/>\n",
       "<path style=\"fill:none;stroke-width:0.3985;stroke-linecap:butt;stroke-linejoin:miter;stroke:rgb(0%,0%,0%);stroke-opacity:1;stroke-miterlimit:10;\" d=\"M 17.867562 -35.738125 L 25.082406 -50.167812 \" transform=\"matrix(1,0,0,-1,20.109,5.965)\"/>\n",
       "<path style=\"fill:none;stroke-width:0.31879;stroke-linecap:round;stroke-linejoin:round;stroke:rgb(0%,0%,0%);stroke-opacity:1;stroke-miterlimit:10;\" d=\"M -1.194641 1.595401 C -1.096829 0.996205 0.000211708 0.0982596 0.300679 0.00042405 C 0.00195333 -0.0991423 -1.096883 -0.995282 -1.194726 -1.592726 \" transform=\"matrix(0.44724,0.89442,0.89442,-0.44724,45.19327,56.1336)\"/>\n",
       "<path style=\"fill:none;stroke-width:0.3985;stroke-linecap:butt;stroke-linejoin:miter;stroke:rgb(0%,0%,0%);stroke-opacity:1;stroke-miterlimit:10;\" d=\"M 25.289437 -62.808437 L 17.715219 -77.956875 \" transform=\"matrix(1,0,0,-1,20.109,5.965)\"/>\n",
       "<path style=\"fill:none;stroke-width:0.31879;stroke-linecap:round;stroke-linejoin:round;stroke:rgb(0%,0%,0%);stroke-opacity:1;stroke-miterlimit:10;\" d=\"M -1.195646 1.594951 C -1.096055 0.994013 0.00103369 0.101367 0.299759 0.0018008 C 0.00103908 -0.0995285 -1.096002 -0.997474 -1.19556 -1.593176 \" transform=\"matrix(-0.44724,0.89442,0.89442,0.44724,37.82386,83.92249)\"/>\n",
       "<path style=\"fill:none;stroke-width:0.3985;stroke-linecap:butt;stroke-linejoin:miter;stroke:rgb(0%,0%,0%);stroke-opacity:1;stroke-miterlimit:10;\" d=\"M 31.402719 -62.808437 L 39.230844 -78.464687 \" transform=\"matrix(1,0,0,-1,20.109,5.965)\"/>\n",
       "<path style=\"fill:none;stroke-width:0.31879;stroke-linecap:round;stroke-linejoin:round;stroke:rgb(0%,0%,0%);stroke-opacity:1;stroke-miterlimit:10;\" d=\"M -1.19478 1.595379 C -1.096969 0.996183 0.0000719537 0.0982372 0.300539 0.000401693 C 0.00181358 -0.0991647 -1.097022 -0.995304 -1.194866 -1.592748 \" transform=\"matrix(0.44724,0.89442,0.89442,-0.44724,59.34179,84.43059)\"/>\n",
       "<path style=\"fill:none;stroke-width:0.3985;stroke-linecap:butt;stroke-linejoin:miter;stroke:rgb(0%,0%,0%);stroke-opacity:1;stroke-miterlimit:10;\" d=\"M 39.437875 -91.206875 L 32.246469 -105.585781 \" transform=\"matrix(1,0,0,-1,20.109,5.965)\"/>\n",
       "<path style=\"fill:none;stroke-width:0.31879;stroke-linecap:round;stroke-linejoin:round;stroke:rgb(0%,0%,0%);stroke-opacity:1;stroke-miterlimit:10;\" d=\"M -1.196128 1.592906 C -1.096954 0.99435 -0.000770843 0.0982477 0.300246 0.000805792 C -0.000772626 -0.101851 -1.096971 -0.997933 -1.194416 -1.594748 \" transform=\"matrix(-0.44899,0.898,0.898,0.44899,52.35674,111.55033)\"/>\n",
       "<path style=\"fill:none;stroke-width:0.3985;stroke-linecap:butt;stroke-linejoin:miter;stroke:rgb(0%,0%,0%);stroke-opacity:1;stroke-miterlimit:10;\" d=\"M 45.601937 -91.206875 L 53.152719 -106.304531 \" transform=\"matrix(1,0,0,-1,20.109,5.965)\"/>\n",
       "<path style=\"fill:none;stroke-width:0.31879;stroke-linecap:round;stroke-linejoin:round;stroke:rgb(0%,0%,0%);stroke-opacity:1;stroke-miterlimit:10;\" d=\"M -1.196546 1.59599 C -1.095627 0.997438 0.00055902 0.101349 0.298095 0.000430401 C 0.00055902 -0.0987483 -1.095627 -0.994837 -1.194806 -1.593389 \" transform=\"matrix(0.449,0.898,0.898,-0.449,73.2603,112.26766)\"/>\n",
       "<path style=\"fill:none;stroke-width:0.3985;stroke-linecap:butt;stroke-linejoin:miter;stroke:rgb(0%,0%,0%);stroke-opacity:1;stroke-miterlimit:10;\" d=\"M 24.652719 -120.777187 L 17.715219 -134.648281 \" transform=\"matrix(1,0,0,-1,20.109,5.965)\"/>\n",
       "<path style=\"fill:none;stroke-width:0.31879;stroke-linecap:round;stroke-linejoin:round;stroke:rgb(0%,0%,0%);stroke-opacity:1;stroke-miterlimit:10;\" d=\"M -1.194456 1.594704 C -1.095292 0.996141 0.000884645 0.100011 0.298422 0.00082277 C 0.000879297 -0.100089 -1.095345 -0.996161 -1.196281 -1.594718 \" transform=\"matrix(-0.44897,0.898,0.898,0.44897,37.82465,140.61446)\"/>\n",
       "<path style=\"fill:none;stroke-width:0.3985;stroke-linecap:butt;stroke-linejoin:miter;stroke:rgb(0%,0%,0%);stroke-opacity:1;stroke-miterlimit:10;\" d=\"M 32.043344 -120.777187 L 39.7035 -136.105312 \" transform=\"matrix(1,0,0,-1,20.109,5.965)\"/>\n",
       "<path style=\"fill:none;stroke-width:0.31879;stroke-linecap:round;stroke-linejoin:round;stroke:rgb(0%,0%,0%);stroke-opacity:1;stroke-miterlimit:10;\" d=\"M -1.195038 1.591701 C -1.095842 0.998363 -0.00135734 0.098812 0.297925 0.00137992 C 0.00038792 -0.0978081 -1.097529 -0.997418 -1.194953 -1.592501 \" transform=\"matrix(0.44897,0.898,0.898,-0.44897,59.81422,142.06902)\"/>\n",
       "<path style=\"fill:none;stroke-width:0.3985;stroke-linecap:butt;stroke-linejoin:miter;stroke:rgb(0%,0%,0%);stroke-opacity:1;stroke-miterlimit:10;\" d=\"M 39.910531 -146.952969 L 31.887094 -162.999844 \" transform=\"matrix(1,0,0,-1,20.109,5.965)\"/>\n",
       "<path style=\"fill:none;stroke-width:0.31879;stroke-linecap:round;stroke-linejoin:round;stroke:rgb(0%,0%,0%);stroke-opacity:1;stroke-miterlimit:10;\" d=\"M -1.196142 1.593002 C -1.094815 0.997298 0.000521235 0.0993835 0.299248 -0.000189067 C 0.000523032 -0.101514 -1.094797 -0.994207 -1.196114 -1.595153 \" transform=\"matrix(-0.44722,0.89442,0.89442,0.44722,51.99728,168.9629)\"/>\n",
       "<path style=\"fill:none;stroke-width:0.3985;stroke-linecap:butt;stroke-linejoin:miter;stroke:rgb(0%,0%,0%);stroke-opacity:1;stroke-miterlimit:10;\" d=\"M 45.129281 -146.952969 L 53.879281 -164.452969 \" transform=\"matrix(1,0,0,-1,20.109,5.965)\"/>\n",
       "<path style=\"fill:none;stroke-width:0.31879;stroke-linecap:round;stroke-linejoin:round;stroke:rgb(0%,0%,0%);stroke-opacity:1;stroke-miterlimit:10;\" d=\"M -1.194482 1.592868 C -1.094913 0.997162 -0.00133962 0.100975 0.297385 -0.000349811 C -0.00134142 -0.0999224 -1.096677 -0.997837 -1.194511 -1.595288 \" transform=\"matrix(0.44722,0.89442,0.89442,-0.44722,73.98841,170.41745)\"/>\n",
       "<path style=\"fill:none;stroke-width:0.3985;stroke-linecap:butt;stroke-linejoin:miter;stroke:rgb(0%,0%,0%);stroke-opacity:1;stroke-miterlimit:10;\" d=\"M 54.086312 -175.300625 L 46.062875 -191.343594 \" transform=\"matrix(1,0,0,-1,20.109,5.965)\"/>\n",
       "<path style=\"fill:none;stroke-width:0.31879;stroke-linecap:round;stroke-linejoin:round;stroke:rgb(0%,0%,0%);stroke-opacity:1;stroke-miterlimit:10;\" d=\"M -1.196459 1.595528 C -1.096879 0.994583 0.00195121 0.0984159 0.300678 -0.00115672 C 0.000206045 -0.0989877 -1.096861 -0.996922 -1.196431 -1.592627 \" transform=\"matrix(-0.44722,0.89442,0.89442,0.44722,66.17066,197.30971)\"/>\n",
       "<path style=\"fill:none;stroke-width:0.3985;stroke-linecap:butt;stroke-linejoin:miter;stroke:rgb(0%,0%,0%);stroke-opacity:1;stroke-miterlimit:10;\" d=\"M 59.301156 -175.300625 L 67.351937 -191.398281 \" transform=\"matrix(1,0,0,-1,20.109,5.965)\"/>\n",
       "<path style=\"fill:none;stroke-width:0.31879;stroke-linecap:round;stroke-linejoin:round;stroke:rgb(0%,0%,0%);stroke-opacity:1;stroke-miterlimit:10;\" d=\"M -1.196379 1.592866 C -1.096821 0.997164 0.000220119 0.0992183 0.298941 -0.00211103 C 0.000214728 -0.101677 -1.096874 -0.994323 -1.196465 -1.595261 \" transform=\"matrix(0.44724,0.89442,0.89442,-0.44724,87.46194,197.36449)\"/>\n",
       "<g style=\"fill:rgb(0%,0%,0%);fill-opacity:1;\">\n",
       "  <use xlink:href=\"#glyph-1506981941267958-0-1\" x=\"17.494\" y=\"8.61\"/>\n",
       "</g>\n",
       "<g style=\"fill:rgb(0%,0%,0%);fill-opacity:1;\">\n",
       "  <use xlink:href=\"#glyph-1506981941267958-0-2\" x=\"3.321\" y=\"37.355\"/>\n",
       "</g>\n",
       "<g style=\"fill:rgb(0%,0%,0%);fill-opacity:1;\">\n",
       "  <use xlink:href=\"#glyph-1506981941267958-0-3\" x=\"31.667\" y=\"37.355\"/>\n",
       "</g>\n",
       "<g style=\"fill:rgb(0%,0%,0%);fill-opacity:1;\">\n",
       "  <use xlink:href=\"#glyph-1506981941267958-0-4\" x=\"17.494\" y=\"65.702\"/>\n",
       "</g>\n",
       "<g style=\"fill:rgb(0%,0%,0%);fill-opacity:1;\">\n",
       "  <use xlink:href=\"#glyph-1506981941267958-0-5\" x=\"45.84\" y=\"65.253\"/>\n",
       "</g>\n",
       "<g style=\"fill:rgb(0%,0%,0%);fill-opacity:1;\">\n",
       "  <use xlink:href=\"#glyph-1506981941267958-0-6\" x=\"31.667\" y=\"94.048\"/>\n",
       "</g>\n",
       "<g style=\"fill:rgb(0%,0%,0%);fill-opacity:1;\">\n",
       "  <use xlink:href=\"#glyph-1506981941267958-0-1\" x=\"60.013\" y=\"93.65\"/>\n",
       "</g>\n",
       "<g style=\"fill:rgb(0%,0%,0%);fill-opacity:1;\">\n",
       "  <use xlink:href=\"#glyph-1506981941267958-0-3\" x=\"45.84\" y=\"122.395\"/>\n",
       "</g>\n",
       "<g style=\"fill:rgb(0%,0%,0%);fill-opacity:1;\">\n",
       "  <use xlink:href=\"#glyph-1506981941267958-0-6\" x=\"31.667\" y=\"150.741\"/>\n",
       "</g>\n",
       "<g style=\"fill:rgb(0%,0%,0%);fill-opacity:1;\">\n",
       "  <use xlink:href=\"#glyph-1506981941267958-0-7\" x=\"60.013\" y=\"149.396\"/>\n",
       "</g>\n",
       "<g style=\"fill:rgb(0%,0%,0%);fill-opacity:1;\">\n",
       "  <use xlink:href=\"#glyph-1506981941267958-0-4\" x=\"45.84\" y=\"179.087\"/>\n",
       "</g>\n",
       "<g style=\"fill:rgb(0%,0%,0%);fill-opacity:1;\">\n",
       "  <use xlink:href=\"#glyph-1506981941267958-0-7\" x=\"74.187\" y=\"177.742\"/>\n",
       "</g>\n",
       "<g style=\"fill:rgb(0%,0%,0%);fill-opacity:1;\">\n",
       "  <use xlink:href=\"#glyph-1506981941267958-0-8\" x=\"60.013\" y=\"207.434\"/>\n",
       "</g>\n",
       "<g style=\"fill:rgb(0%,0%,0%);fill-opacity:1;\">\n",
       "  <use xlink:href=\"#glyph-1506981941267958-0-9\" x=\"88.36\" y=\"207.489\"/>\n",
       "</g>\n",
       "<g style=\"fill:rgb(0%,0%,0%);fill-opacity:1;\">\n",
       "  <use xlink:href=\"#glyph-1506981941267958-0-8\" x=\"74.187\" y=\"122.395\"/>\n",
       "</g>\n",
       "</g>\n",
       "</svg>\n",
       "\n"
      ],
      "text/plain": [
       "TreeView.LabelledTree({15, 14} directed simple Int64 graph, Any[:+, 3, :/, 9, :*, 8, :+, :/, 8, :-, 9, :-, 6, 1, 6])"
      ]
     },
     "execution_count": 15,
     "metadata": {},
     "output_type": "execute_result"
    }
   ],
   "source": [
    "display(results_ce.tree, grammar)"
   ]
  },
  {
   "cell_type": "markdown",
   "metadata": {},
   "source": [
    "## PIPE\n",
    "\n",
    "Probabilistic Incremental Program Evolution (PIPE) is an expression tree optimization algorithm based on the probabilistic prototype tree (PPT) model.\n",
    "\n",
    "See: Salustowicz and Schmidhuber, \"Probabilistic Incremental Program Evolution\", Evolutionary Computation, vol. 5, no. 2, pp. 123-141, 1997."
   ]
  },
  {
   "cell_type": "code",
   "execution_count": 16,
   "metadata": {},
   "outputs": [
    {
     "name": "stdout",
     "output_type": "stream",
     "text": [
      "search: \u001b[1mP\u001b[22m\u001b[1mI\u001b[22m\u001b[1mP\u001b[22m\u001b[1mE\u001b[22m\u001b[1mP\u001b[22m\u001b[1ma\u001b[22m\u001b[1mr\u001b[22m\u001b[1ma\u001b[22m\u001b[1mm\u001b[22m\u001b[1ms\u001b[22m\n",
      "\n"
     ]
    },
    {
     "data": {
      "text/markdown": [
       "```\n",
       "PIPEParams\n",
       "```\n",
       "\n",
       "Parameters for Probabilistic Incremental Program Evolution. Example parameters from paper are indicated in parentheses)\n",
       "\n",
       "# Arguments:\n",
       "\n",
       "  * `ppt_params::PPTParams`: parameters for PPT  (e.g., [0.8, 0.2])\n",
       "  * `pop_size::Int`: population size\n",
       "  * `iterations::Int`: number of iterations\n",
       "  * `p_elitist::Float64`: elitist update probability (e.g., 0.2)\n",
       "  * `c::Float64`: learning rate multiplier (e.g., 0.1)\n",
       "  * `α::Float64`: learning rate (e.g., 0.05)\n",
       "  * `ϵ::Float64`: fitness constant (e.g., 1)\n",
       "  * `p_mutation::Float64`: mutation probability (e.g., 0.2)\n",
       "  * `β::Float64`: mutation rate (e.g., 0.6)\n",
       "  * `p_threshold::Float64`: prune threshold (e.g., 0.999)\n",
       "  * `max_depth::Int`: maximum depth of derivation tree\n"
      ],
      "text/plain": [
       "```\n",
       "PIPEParams\n",
       "```\n",
       "\n",
       "Parameters for Probabilistic Incremental Program Evolution. Example parameters from paper are indicated in parentheses)\n",
       "\n",
       "# Arguments:\n",
       "\n",
       "  * `ppt_params::PPTParams`: parameters for PPT  (e.g., [0.8, 0.2])\n",
       "  * `pop_size::Int`: population size\n",
       "  * `iterations::Int`: number of iterations\n",
       "  * `p_elitist::Float64`: elitist update probability (e.g., 0.2)\n",
       "  * `c::Float64`: learning rate multiplier (e.g., 0.1)\n",
       "  * `α::Float64`: learning rate (e.g., 0.05)\n",
       "  * `ϵ::Float64`: fitness constant (e.g., 1)\n",
       "  * `p_mutation::Float64`: mutation probability (e.g., 0.2)\n",
       "  * `β::Float64`: mutation rate (e.g., 0.6)\n",
       "  * `p_threshold::Float64`: prune threshold (e.g., 0.999)\n",
       "  * `max_depth::Int`: maximum depth of derivation tree\n"
      ]
     },
     "execution_count": 16,
     "metadata": {},
     "output_type": "execute_result"
    }
   ],
   "source": [
    "?PIPEParams"
   ]
  },
  {
   "cell_type": "code",
   "execution_count": 17,
   "metadata": {},
   "outputs": [
    {
     "data": {
      "text/plain": [
       "(:((9 - ((2 - 9) - 6)) / 7), 3.142857142857143, 0.0012644892673496777)"
      ]
     },
     "execution_count": 17,
     "metadata": {},
     "output_type": "execute_result"
    }
   ],
   "source": [
    "srand(4)\n",
    "p = PIPEParams(PIPE.PPTParams(0.8),5000,80,0.2,0.1,0.05,1,0.2,0.6,0.999,8)\n",
    "results_pipe = optimize(p, grammar, :R, loss)\n",
    "(expr, val, err) = (results_pipe.expr, eval(results_pipe.expr), abs(eval(results_pipe.expr)-π))"
   ]
  },
  {
   "cell_type": "code",
   "execution_count": 18,
   "metadata": {},
   "outputs": [
    {
     "data": {
      "image/svg+xml": [
       "<?xml version=\"1.0\" encoding=\"UTF-8\"?>\n",
       "<svg xmlns=\"http://www.w3.org/2000/svg\" xmlns:xlink=\"http://www.w3.org/1999/xlink\" width=\"54.391pt\" height=\"127.05pt\" viewBox=\"0 0 54.391 127.05\" version=\"1.1\">\n",
       "<defs>\n",
       "<g>\n",
       "<symbol overflow=\"visible\" id=\"glyph-1506981941267959-0-0\">\n",
       "<path style=\"stroke:none;\" d=\"\"/>\n",
       "</symbol>\n",
       "<symbol overflow=\"visible\" id=\"glyph-1506981941267959-0-1\">\n",
       "<path style=\"stroke:none;\" d=\"M 4.640625 -6.5625 C 4.640625 -6.75 4.5 -6.921875 4.296875 -6.921875 C 4.078125 -6.921875 4 -6.765625 3.953125 -6.640625 L 0.65625 0.234375 C 0.59375 0.40625 0.578125 0.40625 0.578125 0.484375 C 0.578125 0.65625 0.734375 0.828125 0.921875 0.828125 C 1.140625 0.828125 1.21875 0.671875 1.28125 0.546875 L 4.5625 -6.328125 C 4.640625 -6.484375 4.640625 -6.484375 4.640625 -6.5625 Z M 4.640625 -6.5625 \"/>\n",
       "</symbol>\n",
       "<symbol overflow=\"visible\" id=\"glyph-1506981941267959-0-2\">\n",
       "<path style=\"stroke:none;\" d=\"M 4.671875 -3.046875 C 4.671875 -3.40625 4.3125 -3.40625 4.203125 -3.40625 L 1.03125 -3.40625 C 0.90625 -3.40625 0.5625 -3.40625 0.5625 -3.046875 C 0.5625 -2.703125 0.90625 -2.703125 1.03125 -2.703125 L 4.203125 -2.703125 C 4.3125 -2.703125 4.671875 -2.703125 4.671875 -3.046875 Z M 4.671875 -3.046875 \"/>\n",
       "</symbol>\n",
       "<symbol overflow=\"visible\" id=\"glyph-1506981941267959-0-3\">\n",
       "<path style=\"stroke:none;\" d=\"M 4.6875 -3.109375 C 4.6875 -5.515625 3.59375 -6.203125 2.640625 -6.203125 C 1.53125 -6.203125 0.53125 -5.375 0.53125 -4.171875 C 0.53125 -3.03125 1.40625 -2.140625 2.5 -2.140625 C 3.015625 -2.140625 3.53125 -2.3125 3.984375 -2.71875 C 3.890625 -1.484375 3.109375 -0.5 2.15625 -0.5 C 2.0625 -0.5 1.703125 -0.515625 1.5 -0.671875 C 1.53125 -0.71875 1.578125 -0.78125 1.578125 -0.953125 C 1.578125 -1.1875 1.40625 -1.390625 1.140625 -1.390625 C 0.890625 -1.390625 0.703125 -1.21875 0.703125 -0.921875 C 0.703125 -0.59375 0.875 0.109375 2.15625 0.109375 C 3.46875 0.109375 4.6875 -1.140625 4.6875 -3.109375 Z M 3.921875 -3.875 C 3.921875 -3.328125 3.375 -2.765625 2.546875 -2.765625 C 1.75 -2.765625 1.21875 -3.421875 1.21875 -4.171875 C 1.21875 -5.03125 1.921875 -5.59375 2.640625 -5.59375 C 3.078125 -5.59375 3.34375 -5.359375 3.515625 -5.15625 C 3.828125 -4.78125 3.921875 -4.578125 3.921875 -3.875 Z M 3.921875 -3.875 \"/>\n",
       "</symbol>\n",
       "<symbol overflow=\"visible\" id=\"glyph-1506981941267959-0-4\">\n",
       "<path style=\"stroke:none;\" d=\"M 4.703125 -0.40625 L 4.703125 -0.671875 C 4.703125 -0.859375 4.703125 -1.078125 4.359375 -1.078125 C 4.015625 -1.078125 4.015625 -0.890625 4.015625 -0.609375 L 1.640625 -0.609375 C 2.234375 -1.109375 3.1875 -1.859375 3.625 -2.265625 C 4.25 -2.828125 4.703125 -3.453125 4.703125 -4.25 C 4.703125 -5.453125 3.703125 -6.203125 2.484375 -6.203125 C 1.3125 -6.203125 0.515625 -5.390625 0.515625 -4.53125 C 0.515625 -4.171875 0.796875 -4.0625 0.96875 -4.0625 C 1.171875 -4.0625 1.40625 -4.234375 1.40625 -4.5 C 1.40625 -4.625 1.359375 -4.75 1.265625 -4.828125 C 1.421875 -5.28125 1.890625 -5.59375 2.4375 -5.59375 C 3.25 -5.59375 4.015625 -5.140625 4.015625 -4.25 C 4.015625 -3.5625 3.53125 -2.984375 2.875 -2.4375 L 0.671875 -0.578125 C 0.578125 -0.5 0.515625 -0.453125 0.515625 -0.3125 C 0.515625 0 0.765625 0 0.921875 0 L 4.3125 0 C 4.640625 0 4.703125 -0.09375 4.703125 -0.40625 Z M 4.703125 -0.40625 \"/>\n",
       "</symbol>\n",
       "<symbol overflow=\"visible\" id=\"glyph-1506981941267959-0-5\">\n",
       "<path style=\"stroke:none;\" d=\"M 4.6875 -1.921875 C 4.6875 -3.0625 3.8125 -3.953125 2.71875 -3.953125 C 2.203125 -3.953125 1.6875 -3.78125 1.234375 -3.375 C 1.375 -4.78125 2.3125 -5.59375 3.1875 -5.59375 C 3.53125 -5.59375 3.6875 -5.484375 3.734375 -5.4375 C 3.6875 -5.390625 3.640625 -5.328125 3.640625 -5.140625 C 3.640625 -4.90625 3.8125 -4.703125 4.078125 -4.703125 C 4.328125 -4.703125 4.53125 -4.875 4.53125 -5.171875 C 4.53125 -5.65625 4.171875 -6.203125 3.203125 -6.203125 C 1.859375 -6.203125 0.53125 -5 0.53125 -2.984375 C 0.53125 -0.625 1.640625 0.109375 2.625 0.109375 C 3.71875 0.109375 4.6875 -0.734375 4.6875 -1.921875 Z M 4 -1.921875 C 4 -1.0625 3.34375 -0.5 2.625 -0.5 C 1.984375 -0.5 1.59375 -0.984375 1.390625 -1.59375 C 1.296875 -1.828125 1.3125 -2.078125 1.3125 -2.21875 C 1.3125 -2.828125 1.90625 -3.328125 2.671875 -3.328125 C 3.484375 -3.328125 4 -2.65625 4 -1.921875 Z M 4 -1.921875 \"/>\n",
       "</symbol>\n",
       "<symbol overflow=\"visible\" id=\"glyph-1506981941267959-0-6\">\n",
       "<path style=\"stroke:none;\" d=\"M 4.78125 -5.78125 C 4.78125 -6.09375 4.546875 -6.09375 4.390625 -6.09375 L 1.09375 -6.09375 C 1.03125 -6.25 0.859375 -6.25 0.78125 -6.25 C 0.4375 -6.25 0.4375 -6.03125 0.4375 -5.84375 L 0.4375 -5.421875 C 0.4375 -5.234375 0.4375 -5.015625 0.78125 -5.015625 C 1.125 -5.015625 1.125 -5.203125 1.125 -5.484375 L 3.765625 -5.484375 C 2.03125 -3.65625 1.6875 -1.453125 1.6875 -0.359375 C 1.6875 -0.21875 1.6875 0.109375 2.046875 0.109375 C 2.21875 0.109375 2.375 0 2.375 -0.296875 C 2.4375 -3.125 3.953125 -4.859375 4.5625 -5.4375 C 4.765625 -5.625 4.78125 -5.640625 4.78125 -5.78125 Z M 4.78125 -5.78125 \"/>\n",
       "</symbol>\n",
       "</g>\n",
       "</defs>\n",
       "<g id=\"surface1\">\n",
       "<path style=\"fill:none;stroke-width:0.3985;stroke-linecap:butt;stroke-linejoin:miter;stroke:rgb(0%,0%,0%);stroke-opacity:1;stroke-miterlimit:10;\" d=\"M -3.696063 -7.391031 L -11.360125 -22.71525 \" transform=\"matrix(1,0,0,-1,34.282,7.191)\"/>\n",
       "<path style=\"fill:none;stroke-width:0.31879;stroke-linecap:round;stroke-linejoin:round;stroke:rgb(0%,0%,0%);stroke-opacity:1;stroke-miterlimit:10;\" d=\"M -1.194215 1.593395 C -1.095051 0.994832 0.0011257 0.0987017 0.298663 -0.000486274 C -0.000619552 -0.0979183 -1.095104 -0.99747 -1.19604 -1.596027 \" transform=\"matrix(-0.44897,0.898,0.898,0.44897,22.92359,29.9078)\"/>\n",
       "<path style=\"fill:none;stroke-width:0.3985;stroke-linecap:butt;stroke-linejoin:miter;stroke:rgb(0%,0%,0%);stroke-opacity:1;stroke-miterlimit:10;\" d=\"M 3.694562 -7.391031 L 10.620344 -21.238687 \" transform=\"matrix(1,0,0,-1,34.282,7.191)\"/>\n",
       "<path style=\"fill:none;stroke-width:0.31879;stroke-linecap:round;stroke-linejoin:round;stroke:rgb(0%,0%,0%);stroke-opacity:1;stroke-miterlimit:10;\" d=\"M -1.194799 1.594098 C -1.096964 0.994895 0.00187519 0.100466 0.300605 -0.000854295 C -0.00161693 -0.0986862 -1.096947 -0.996628 -1.19477 -1.594086 \" transform=\"matrix(0.4472,0.89442,0.89442,-0.4472,44.90149,28.42997)\"/>\n",
       "<path style=\"fill:none;stroke-width:0.3985;stroke-linecap:butt;stroke-linejoin:miter;stroke:rgb(0%,0%,0%);stroke-opacity:1;stroke-miterlimit:10;\" d=\"M -16.782 -33.566812 L -24.805438 -49.609781 \" transform=\"matrix(1,0,0,-1,34.282,7.191)\"/>\n",
       "<path style=\"fill:none;stroke-width:0.31879;stroke-linecap:round;stroke-linejoin:round;stroke:rgb(0%,0%,0%);stroke-opacity:1;stroke-miterlimit:10;\" d=\"M -1.195664 1.594447 C -1.097831 0.996996 0.000999183 0.100829 0.299726 0.001256 C 0.00100098 -0.100069 -1.096066 -0.998003 -1.195636 -1.593708 \" transform=\"matrix(-0.44722,0.89442,0.89442,0.44722,9.47667,56.80167)\"/>\n",
       "<path style=\"fill:none;stroke-width:0.3985;stroke-linecap:butt;stroke-linejoin:miter;stroke:rgb(0%,0%,0%);stroke-opacity:1;stroke-miterlimit:10;\" d=\"M -11.56325 -33.566812 L -2.81325 -51.066812 \" transform=\"matrix(1,0,0,-1,34.282,7.191)\"/>\n",
       "<path style=\"fill:none;stroke-width:0.31879;stroke-linecap:round;stroke-linejoin:round;stroke:rgb(0%,0%,0%);stroke-opacity:1;stroke-miterlimit:10;\" d=\"M -1.196551 1.595086 C -1.095235 0.99414 0.0000853192 0.101446 0.29881 0.00012143 C 0.0000835223 -0.0994512 -1.095252 -0.997366 -1.19658 -1.593069 \" transform=\"matrix(0.44722,0.89442,0.89442,-0.44722,31.46782,58.25623)\"/>\n",
       "<path style=\"fill:none;stroke-width:0.3985;stroke-linecap:butt;stroke-linejoin:miter;stroke:rgb(0%,0%,0%);stroke-opacity:1;stroke-miterlimit:10;\" d=\"M -2.610125 -61.910562 L -11.360125 -79.410562 \" transform=\"matrix(1,0,0,-1,34.282,7.191)\"/>\n",
       "<path style=\"fill:none;stroke-width:0.31879;stroke-linecap:round;stroke-linejoin:round;stroke:rgb(0%,0%,0%);stroke-opacity:1;stroke-miterlimit:10;\" d=\"M -1.19583 1.593439 C -1.094502 0.997735 0.000833723 0.0998207 0.29956 0.000248089 C 0.000835519 -0.101077 -1.097978 -0.995517 -1.195801 -1.594716 \" transform=\"matrix(-0.44722,0.89442,0.89442,0.44722,22.92281,86.60305)\"/>\n",
       "<path style=\"fill:none;stroke-width:0.3985;stroke-linecap:butt;stroke-linejoin:miter;stroke:rgb(0%,0%,0%);stroke-opacity:1;stroke-miterlimit:10;\" d=\"M 2.608625 -61.910562 L 10.632062 -77.957437 \" transform=\"matrix(1,0,0,-1,34.282,7.191)\"/>\n",
       "<path style=\"fill:none;stroke-width:0.31879;stroke-linecap:round;stroke-linejoin:round;stroke:rgb(0%,0%,0%);stroke-opacity:1;stroke-miterlimit:10;\" d=\"M -1.194877 1.593357 C -1.095307 0.997651 0.00176012 0.0997172 0.296991 0.000139334 C -0.00173553 -0.0994333 -1.097071 -0.997348 -1.194905 -1.594798 \" transform=\"matrix(0.44722,0.89442,0.89442,-0.44722,44.91393,85.14849)\"/>\n",
       "<path style=\"fill:none;stroke-width:0.3985;stroke-linecap:butt;stroke-linejoin:miter;stroke:rgb(0%,0%,0%);stroke-opacity:1;stroke-miterlimit:10;\" d=\"M -16.782 -90.258219 L -24.832781 -106.359781 \" transform=\"matrix(1,0,0,-1,34.282,7.191)\"/>\n",
       "<path style=\"fill:none;stroke-width:0.31879;stroke-linecap:round;stroke-linejoin:round;stroke:rgb(0%,0%,0%);stroke-opacity:1;stroke-miterlimit:10;\" d=\"M -1.194294 1.595168 C -1.096451 0.997724 -0.00110841 0.0998376 0.297617 0.000271281 C -0.00110302 -0.101058 -1.09465 -0.997257 -1.194208 -1.592959 \" transform=\"matrix(-0.44724,0.89442,0.89442,0.44724,9.44927,113.55009)\"/>\n",
       "<path style=\"fill:none;stroke-width:0.3985;stroke-linecap:butt;stroke-linejoin:miter;stroke:rgb(0%,0%,0%);stroke-opacity:1;stroke-miterlimit:10;\" d=\"M -11.56325 -90.258219 L -3.539813 -106.305094 \" transform=\"matrix(1,0,0,-1,34.282,7.191)\"/>\n",
       "<path style=\"fill:none;stroke-width:0.31879;stroke-linecap:round;stroke-linejoin:round;stroke:rgb(0%,0%,0%);stroke-opacity:1;stroke-miterlimit:10;\" d=\"M -1.193433 1.594329 C -1.09561 0.99513 -0.0020373 0.0989425 0.298435 0.00111146 C -0.00029213 -0.0984611 -1.095628 -0.996376 -1.193462 -1.593826 \" transform=\"matrix(0.44722,0.89442,0.89442,-0.44722,30.74054,113.49529)\"/>\n",
       "<g style=\"fill:rgb(0%,0%,0%);fill-opacity:1;\">\n",
       "  <use xlink:href=\"#glyph-1506981941267959-0-1\" x=\"31.667\" y=\"10.234\"/>\n",
       "</g>\n",
       "<g style=\"fill:rgb(0%,0%,0%);fill-opacity:1;\">\n",
       "  <use xlink:href=\"#glyph-1506981941267959-0-2\" x=\"17.494\" y=\"37.236\"/>\n",
       "</g>\n",
       "<g style=\"fill:rgb(0%,0%,0%);fill-opacity:1;\">\n",
       "  <use xlink:href=\"#glyph-1506981941267959-0-3\" x=\"3.321\" y=\"66.927\"/>\n",
       "</g>\n",
       "<g style=\"fill:rgb(0%,0%,0%);fill-opacity:1;\">\n",
       "  <use xlink:href=\"#glyph-1506981941267959-0-2\" x=\"31.667\" y=\"65.582\"/>\n",
       "</g>\n",
       "<g style=\"fill:rgb(0%,0%,0%);fill-opacity:1;\">\n",
       "  <use xlink:href=\"#glyph-1506981941267959-0-2\" x=\"17.494\" y=\"93.928\"/>\n",
       "</g>\n",
       "<g style=\"fill:rgb(0%,0%,0%);fill-opacity:1;\">\n",
       "  <use xlink:href=\"#glyph-1506981941267959-0-4\" x=\"3.321\" y=\"123.675\"/>\n",
       "</g>\n",
       "<g style=\"fill:rgb(0%,0%,0%);fill-opacity:1;\">\n",
       "  <use xlink:href=\"#glyph-1506981941267959-0-3\" x=\"31.667\" y=\"123.62\"/>\n",
       "</g>\n",
       "<g style=\"fill:rgb(0%,0%,0%);fill-opacity:1;\">\n",
       "  <use xlink:href=\"#glyph-1506981941267959-0-5\" x=\"45.84\" y=\"95.273\"/>\n",
       "</g>\n",
       "<g style=\"fill:rgb(0%,0%,0%);fill-opacity:1;\">\n",
       "  <use xlink:href=\"#glyph-1506981941267959-0-6\" x=\"45.84\" y=\"38.605\"/>\n",
       "</g>\n",
       "</g>\n",
       "</svg>\n",
       "\n"
      ],
      "text/plain": [
       "TreeView.LabelledTree({9, 8} directed simple Int64 graph, Any[:/, :-, 9, :-, :-, 2, 9, 6, 7])"
      ]
     },
     "execution_count": 18,
     "metadata": {},
     "output_type": "execute_result"
    }
   ],
   "source": [
    "display(results_pipe.tree, grammar)"
   ]
  },
  {
   "cell_type": "code",
   "execution_count": null,
   "metadata": {
    "collapsed": true
   },
   "outputs": [],
   "source": []
  }
 ],
 "metadata": {
  "kernelspec": {
   "display_name": "Julia 0.6.0",
   "language": "julia",
   "name": "julia-0.6"
  },
  "language_info": {
   "file_extension": ".jl",
   "mimetype": "application/julia",
   "name": "julia",
   "version": "0.6.0"
  }
 },
 "nbformat": 4,
 "nbformat_minor": 2
}
