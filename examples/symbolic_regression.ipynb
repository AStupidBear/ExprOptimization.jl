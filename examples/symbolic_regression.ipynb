{
 "cells": [
  {
   "cell_type": "code",
   "execution_count": 1,
   "metadata": {},
   "outputs": [
    {
     "name": "stderr",
     "output_type": "stream",
     "text": [
      "\u001b[1m\u001b[36mINFO: \u001b[39m\u001b[22m\u001b[36mRecompiling stale cache file C:\\Users\\rcnlee\\.julia\\lib\\v0.6\\ExprRules.ji for module ExprRules.\n",
      "\u001b[39m\u001b[1m\u001b[36mINFO: \u001b[39m\u001b[22m\u001b[36mRecompiling stale cache file C:\\Users\\rcnlee\\.julia\\lib\\v0.6\\ExprOptimization.ji for module ExprOptimization.\n",
      "\u001b[39m"
     ]
    }
   ],
   "source": [
    "using ExprOptimization"
   ]
  },
  {
   "cell_type": "code",
   "execution_count": 2,
   "metadata": {},
   "outputs": [
    {
     "data": {
      "text/plain": [
       "ExprRules.RuleSet(Any[:x, :(Real * Real), :(Real + Real), :(Real - Real), :(_(Base.rand(1.0:5.0)))], Symbol[:Real, :Real, :Real, :Real, :Real], Bool[true, false, false, false, true], Bool[false, false, false, false, true], Dict(:Real=>[1, 2, 3, 4, 5]))"
      ]
     },
     "execution_count": 2,
     "metadata": {},
     "output_type": "execute_result"
    }
   ],
   "source": [
    "ruleset = @ruleset begin\n",
    "    Real = x\n",
    "    Real = Real * Real\n",
    "    Real = Real + Real\n",
    "    Real = Real - Real\n",
    "    Real = _(Base.rand(1.0:5.0))\n",
    "end"
   ]
  },
  {
   "cell_type": "code",
   "execution_count": 47,
   "metadata": {},
   "outputs": [
    {
     "data": {
      "text/plain": [
       "ExprRules.RuleNode(3, Nullable{Any}(), ExprRules.RuleNode[ExprRules.RuleNode(5, 5.0, ExprRules.RuleNode[]), ExprRules.RuleNode(3, #NULL, ExprRules.RuleNode[ExprRules.RuleNode(1, #NULL, ExprRules.RuleNode[]), ExprRules.RuleNode(4, #NULL, ExprRules.RuleNode[ExprRules.RuleNode(1, #NULL, ExprRules.RuleNode[]), ExprRules.RuleNode(5, 3.0, ExprRules.RuleNode[])])])])"
      ]
     },
     "execution_count": 47,
     "metadata": {},
     "output_type": "execute_result"
    }
   ],
   "source": [
    "srand(0)\n",
    "tree = rand(RuleNode, ruleset, :Real, 4)"
   ]
  },
  {
   "cell_type": "code",
   "execution_count": 48,
   "metadata": {},
   "outputs": [
    {
     "data": {
      "image/svg+xml": [
       "<?xml version=\"1.0\" encoding=\"UTF-8\"?>\n",
       "<svg xmlns=\"http://www.w3.org/2000/svg\" xmlns:xlink=\"http://www.w3.org/1999/xlink\" width=\"79.025pt\" height=\"97.479pt\" viewBox=\"0 0 79.025 97.479\" version=\"1.1\">\n",
       "<defs>\n",
       "<g>\n",
       "<symbol overflow=\"visible\" id=\"glyph-1500925822269007-0-0\">\n",
       "<path style=\"stroke:none;\" d=\"\"/>\n",
       "</symbol>\n",
       "<symbol overflow=\"visible\" id=\"glyph-1500925822269007-0-1\">\n",
       "<path style=\"stroke:none;\" d=\"M 5.015625 -3.1875 C 5.015625 -3.53125 4.5 -3.671875 4.375 -3.671875 L 3.125 -3.671875 L 3.125 -4.953125 C 3.125 -5.078125 2.953125 -5.5625 2.609375 -5.5625 C 2.265625 -5.5625 2.078125 -5.078125 2.078125 -4.953125 L 2.078125 -3.671875 L 0.84375 -3.671875 C 0.734375 -3.671875 0.203125 -3.53125 0.203125 -3.1875 C 0.203125 -2.828125 0.734375 -2.703125 0.84375 -2.703125 L 2.078125 -2.703125 L 2.078125 -1.40625 C 2.078125 -1.28125 2.265625 -0.8125 2.609375 -0.8125 C 2.953125 -0.8125 3.125 -1.28125 3.125 -1.40625 L 3.125 -2.703125 L 4.375 -2.703125 C 4.5 -2.703125 5.015625 -2.828125 5.015625 -3.1875 Z M 5.015625 -3.1875 \"/>\n",
       "</symbol>\n",
       "<symbol overflow=\"visible\" id=\"glyph-1500925822269007-0-2\">\n",
       "<path style=\"stroke:none;\" d=\"M 4.875 -2.03125 C 4.875 -3.03125 3.9375 -4.140625 2.765625 -4.140625 C 2.40625 -4.140625 1.84375 -4.03125 1.734375 -3.984375 L 1.734375 -5.484375 L 3.953125 -5.484375 C 4.109375 -5.484375 4.53125 -5.609375 4.53125 -5.90625 C 4.53125 -6.21875 4.109375 -6.359375 3.953125 -6.359375 L 1.28125 -6.359375 C 0.953125 -6.359375 0.703125 -6.125 0.703125 -5.8125 L 0.703125 -3.15625 C 0.703125 -2.984375 0.875 -2.625 1.203125 -2.625 C 1.375 -2.625 1.53125 -2.71875 1.609375 -2.8125 C 1.890625 -3.125 2.171875 -3.265625 2.75 -3.265625 C 3.5625 -3.265625 3.84375 -2.671875 3.84375 -2.03125 C 3.84375 -1.21875 3.3125 -0.765625 2.46875 -0.765625 C 2.1875 -0.765625 1.671875 -0.8125 1.453125 -1.21875 C 1.453125 -1.21875 1.578125 -1.375 1.578125 -1.578125 C 1.578125 -1.859375 1.171875 -2.15625 0.96875 -2.15625 C 0.8125 -2.15625 0.34375 -1.9375 0.34375 -1.546875 C 0.34375 -0.71875 1.359375 0.109375 2.46875 0.109375 C 3.71875 0.109375 4.875 -0.921875 4.875 -2.03125 Z M 4.875 -2.03125 \"/>\n",
       "</symbol>\n",
       "<symbol overflow=\"visible\" id=\"glyph-1500925822269007-0-3\">\n",
       "<path style=\"stroke:none;\" d=\"M 3.40625 -0.75 C 3.40625 -1.109375 2.9375 -1.515625 2.625 -1.515625 C 2.25 -1.515625 1.8125 -1.0625 1.8125 -0.75 C 1.8125 -0.390625 2.296875 0 2.609375 0 C 2.984375 0 3.40625 -0.4375 3.40625 -0.75 Z M 3.40625 -0.75 \"/>\n",
       "</symbol>\n",
       "<symbol overflow=\"visible\" id=\"glyph-1500925822269007-0-4\">\n",
       "<path style=\"stroke:none;\" d=\"M 4.890625 -3.171875 C 4.890625 -5.03125 3.703125 -6.46875 2.609375 -6.46875 C 1.5 -6.46875 0.3125 -5 0.3125 -3.1875 C 0.3125 -1.328125 1.515625 0.109375 2.609375 0.109375 C 3.734375 0.109375 4.890625 -1.359375 4.890625 -3.171875 Z M 3.859375 -3.28125 C 3.859375 -1.796875 3.390625 -0.765625 2.609375 -0.765625 C 1.828125 -0.765625 1.359375 -1.796875 1.359375 -3.28125 C 1.359375 -4.734375 1.875 -5.59375 2.609375 -5.59375 C 3.34375 -5.59375 3.859375 -4.75 3.859375 -3.28125 Z M 3.859375 -3.28125 \"/>\n",
       "</symbol>\n",
       "<symbol overflow=\"visible\" id=\"glyph-1500925822269007-0-5\">\n",
       "<path style=\"stroke:none;\" d=\"M 5.109375 -0.421875 C 5.109375 -0.734375 4.6875 -0.875 4.53125 -0.875 L 4.234375 -0.875 L 3.046875 -2.34375 L 4.09375 -3.6875 L 4.390625 -3.6875 C 4.53125 -3.6875 4.96875 -3.8125 4.96875 -4.109375 C 4.96875 -4.421875 4.546875 -4.5625 4.390625 -4.5625 L 3.234375 -4.5625 C 3.078125 -4.5625 2.65625 -4.421875 2.65625 -4.125 C 2.65625 -3.8125 3.046875 -3.6875 3.015625 -3.6875 L 2.578125 -3.078125 L 2.109375 -3.6875 C 2.078125 -3.6875 2.46875 -3.8125 2.46875 -4.125 C 2.46875 -4.421875 2.046875 -4.5625 1.90625 -4.5625 L 0.734375 -4.5625 C 0.59375 -4.5625 0.15625 -4.421875 0.15625 -4.109375 C 0.15625 -3.8125 0.59375 -3.6875 0.734375 -3.6875 L 1.03125 -3.6875 L 2.109375 -2.34375 L 0.984375 -0.875 L 0.671875 -0.875 C 0.53125 -0.875 0.09375 -0.734375 0.09375 -0.421875 C 0.09375 -0.125 0.53125 0 0.671875 0 L 1.84375 0 C 2 0 2.40625 -0.125 2.40625 -0.421875 C 2.40625 -0.734375 2.03125 -0.875 2 -0.875 L 2.578125 -1.6875 L 3.171875 -0.875 C 3.1875 -0.875 2.796875 -0.734375 2.796875 -0.421875 C 2.796875 -0.125 3.21875 0 3.375 0 L 4.53125 0 C 4.671875 0 5.109375 -0.125 5.109375 -0.421875 Z M 5.109375 -0.421875 \"/>\n",
       "</symbol>\n",
       "<symbol overflow=\"visible\" id=\"glyph-1500925822269007-0-6\">\n",
       "<path style=\"stroke:none;\" d=\"M 4.828125 -3.1875 C 4.828125 -3.53125 4.3125 -3.671875 4.203125 -3.671875 L 1.03125 -3.671875 C 0.90625 -3.671875 0.375 -3.53125 0.375 -3.1875 C 0.375 -2.828125 0.90625 -2.703125 1.03125 -2.703125 L 4.203125 -2.703125 C 4.3125 -2.703125 4.828125 -2.828125 4.828125 -3.1875 Z M 4.828125 -3.1875 \"/>\n",
       "</symbol>\n",
       "<symbol overflow=\"visible\" id=\"glyph-1500925822269007-0-7\">\n",
       "<path style=\"stroke:none;\" d=\"M 4.953125 -1.859375 C 4.953125 -2.578125 4.3125 -3.296875 3.9375 -3.46875 C 4.34375 -3.734375 4.671875 -4.390625 4.671875 -4.921875 C 4.671875 -5.65625 3.765625 -6.46875 2.625 -6.46875 C 1.421875 -6.46875 0.546875 -5.859375 0.546875 -5.15625 C 0.546875 -4.828125 0.984375 -4.5625 1.171875 -4.5625 C 1.390625 -4.5625 1.78125 -4.859375 1.78125 -5.140625 C 1.78125 -5.28125 1.671875 -5.484375 1.734375 -5.40625 C 1.953125 -5.625 2.546875 -5.59375 2.625 -5.59375 C 3.3125 -5.59375 3.625 -5.359375 3.625 -4.921875 C 3.625 -4.609375 3.53125 -4.359375 3.265625 -4.140625 C 2.9375 -3.890625 2.828125 -3.90625 2.46875 -3.890625 C 1.890625 -3.84375 1.5625 -3.703125 1.5625 -3.421875 C 1.5625 -3.109375 1.984375 -2.984375 2.140625 -2.984375 L 2.609375 -2.984375 C 3.59375 -2.984375 3.921875 -2.4375 3.921875 -1.859375 C 3.921875 -1.25 3.53125 -0.765625 2.625 -0.765625 C 2.234375 -0.765625 1.578125 -0.84375 1.390625 -1.171875 C 1.375 -1.171875 1.5 -1.3125 1.5 -1.515625 C 1.5 -1.75 1.140625 -2.09375 0.890625 -2.09375 C 0.65625 -2.09375 0.265625 -1.796875 0.265625 -1.484375 C 0.265625 -0.59375 1.40625 0.109375 2.625 0.109375 C 3.9375 0.109375 4.953125 -0.9375 4.953125 -1.859375 Z M 4.953125 -1.859375 \"/>\n",
       "</symbol>\n",
       "</g>\n",
       "</defs>\n",
       "<g id=\"surface1\">\n",
       "<path style=\"fill:none;stroke-width:0.3985;stroke-linecap:butt;stroke-linejoin:miter;stroke:rgb(0%,0%,0%);stroke-opacity:1;stroke-miterlimit:10;\" d=\"M -3.081188 -6.166813 L -10.631969 -21.260563 \" transform=\"matrix(1,0,0,-1,25.339,5.966)\"/>\n",
       "<path style=\"fill:none;stroke-width:0.31879;stroke-linecap:round;stroke-linejoin:round;stroke:rgb(0%,0%,0%);stroke-opacity:1;stroke-miterlimit:10;\" d=\"M -1.194732 1.594038 C -1.095553 0.995486 0.000632517 0.0993976 0.298169 0.00021882 C 0.000632517 -0.1007 -1.095553 -0.996788 -1.196472 -1.595341 \" transform=\"matrix(-0.449,0.898,0.898,0.449,14.7079,27.22824)\"/>\n",
       "<path style=\"fill:none;stroke-width:0.3985;stroke-linecap:butt;stroke-linejoin:miter;stroke:rgb(0%,0%,0%);stroke-opacity:1;stroke-miterlimit:10;\" d=\"M 3.082875 -6.166813 L 10.883656 -21.772281 \" transform=\"matrix(1,0,0,-1,25.339,5.966)\"/>\n",
       "<path style=\"fill:none;stroke-width:0.31879;stroke-linecap:round;stroke-linejoin:round;stroke:rgb(0%,0%,0%);stroke-opacity:1;stroke-miterlimit:10;\" d=\"M -1.197814 1.593334 C -1.096889 0.99478 -0.000690192 0.098697 0.298588 0.00126046 C -0.000688409 -0.101401 -1.096871 -0.997504 -1.194305 -1.59258 \" transform=\"matrix(0.44899,0.898,0.898,-0.44899,36.22418,27.73634)\"/>\n",
       "<path style=\"fill:none;stroke-width:0.3985;stroke-linecap:butt;stroke-linejoin:miter;stroke:rgb(0%,0%,0%);stroke-opacity:1;stroke-miterlimit:10;\" d=\"M 11.090687 -34.510563 L 3.039906 -50.616031 \" transform=\"matrix(1,0,0,-1,25.339,5.966)\"/>\n",
       "<path style=\"fill:none;stroke-width:0.31879;stroke-linecap:round;stroke-linejoin:round;stroke:rgb(0%,0%,0%);stroke-opacity:1;stroke-miterlimit:10;\" d=\"M -1.196768 1.594855 C -1.097594 0.996299 -0.00141114 0.100196 0.301345 -0.000725405 C -0.00141292 -0.0999019 -1.097612 -0.995985 -1.195056 -1.592799 \" transform=\"matrix(-0.44899,0.898,0.898,0.44899,28.37814,56.58128)\"/>\n",
       "<path style=\"fill:none;stroke-width:0.3985;stroke-linecap:butt;stroke-linejoin:miter;stroke:rgb(0%,0%,0%);stroke-opacity:1;stroke-miterlimit:10;\" d=\"M 17.25475 -34.510563 L 25.532094 -51.06525 \" transform=\"matrix(1,0,0,-1,25.339,5.966)\"/>\n",
       "<path style=\"fill:none;stroke-width:0.31879;stroke-linecap:round;stroke-linejoin:round;stroke:rgb(0%,0%,0%);stroke-opacity:1;stroke-miterlimit:10;\" d=\"M -1.195063 1.592751 C -1.095504 0.997049 0.00153659 0.0991036 0.296763 -0.000478653 C -0.00196259 -0.100045 -1.095558 -0.994438 -1.195148 -1.595375 \" transform=\"matrix(0.44724,0.89442,0.89442,-0.44724,50.87161,57.03123)\"/>\n",
       "<path style=\"fill:none;stroke-width:0.3985;stroke-linecap:butt;stroke-linejoin:miter;stroke:rgb(0%,0%,0%);stroke-opacity:1;stroke-miterlimit:10;\" d=\"M 25.739125 -61.912906 L 17.211781 -78.963688 \" transform=\"matrix(1,0,0,-1,25.339,5.966)\"/>\n",
       "<path style=\"fill:none;stroke-width:0.31879;stroke-linecap:round;stroke-linejoin:round;stroke:rgb(0%,0%,0%);stroke-opacity:1;stroke-miterlimit:10;\" d=\"M -1.195357 1.593789 C -1.096168 0.995243 0.0000238451 0.0991823 0.297559 0.00000975598 C 0.0000274102 -0.100913 -1.096133 -0.997013 -1.19356 -1.593822 \" transform=\"matrix(-0.44902,0.898,0.898,0.44902,42.55157,84.9281)\"/>\n",
       "<path style=\"fill:none;stroke-width:0.3985;stroke-linecap:butt;stroke-linejoin:miter;stroke:rgb(0%,0%,0%);stroke-opacity:1;stroke-miterlimit:10;\" d=\"M 30.957875 -61.912906 L 38.977406 -77.955875 \" transform=\"matrix(1,0,0,-1,25.339,5.966)\"/>\n",
       "<path style=\"fill:none;stroke-width:0.31879;stroke-linecap:round;stroke-linejoin:round;stroke:rgb(0%,0%,0%);stroke-opacity:1;stroke-miterlimit:10;\" d=\"M -1.196925 1.592753 C -1.097355 0.997048 -0.000288685 0.0991135 0.300183 0.0012825 C 0.00145648 -0.0982901 -1.093879 -0.996205 -1.196954 -1.595402 \" transform=\"matrix(0.44722,0.89442,0.89442,-0.44722,64.31773,83.92349)\"/>\n",
       "<g style=\"fill:rgb(0%,0%,0%);fill-opacity:1;\">\n",
       "  <use xlink:href=\"#glyph-1500925822269007-0-1\" x=\"22.724\" y=\"8.611\"/>\n",
       "</g>\n",
       "<g style=\"fill:rgb(0%,0%,0%);fill-opacity:1;\">\n",
       "  <use xlink:href=\"#glyph-1500925822269007-0-2\" x=\"3.321\" y=\"37.356\"/>\n",
       "  <use xlink:href=\"#glyph-1500925822269007-0-3\" x=\"8.551386\" y=\"37.356\"/>\n",
       "  <use xlink:href=\"#glyph-1500925822269007-0-4\" x=\"13.781772\" y=\"37.356\"/>\n",
       "</g>\n",
       "<g style=\"fill:rgb(0%,0%,0%);fill-opacity:1;\">\n",
       "  <use xlink:href=\"#glyph-1500925822269007-0-1\" x=\"36.897\" y=\"36.957\"/>\n",
       "</g>\n",
       "<g style=\"fill:rgb(0%,0%,0%);fill-opacity:1;\">\n",
       "  <use xlink:href=\"#glyph-1500925822269007-0-5\" x=\"22.724\" y=\"64.806\"/>\n",
       "</g>\n",
       "<g style=\"fill:rgb(0%,0%,0%);fill-opacity:1;\">\n",
       "  <use xlink:href=\"#glyph-1500925822269007-0-6\" x=\"51.071\" y=\"64.357\"/>\n",
       "</g>\n",
       "<g style=\"fill:rgb(0%,0%,0%);fill-opacity:1;\">\n",
       "  <use xlink:href=\"#glyph-1500925822269007-0-5\" x=\"36.897\" y=\"93.152\"/>\n",
       "</g>\n",
       "<g style=\"fill:rgb(0%,0%,0%);fill-opacity:1;\">\n",
       "  <use xlink:href=\"#glyph-1500925822269007-0-7\" x=\"60.013\" y=\"94.049\"/>\n",
       "  <use xlink:href=\"#glyph-1500925822269007-0-3\" x=\"65.243386\" y=\"94.049\"/>\n",
       "  <use xlink:href=\"#glyph-1500925822269007-0-4\" x=\"70.473772\" y=\"94.049\"/>\n",
       "</g>\n",
       "</g>\n",
       "</svg>\n",
       "\n"
      ],
      "text/plain": [
       "TreeView.LabelledTree({7, 6} directed simple Int64 graph, Any[:+, 5.0, :+, :x, :-, :x, 3.0])"
      ]
     },
     "execution_count": 48,
     "metadata": {},
     "output_type": "execute_result"
    }
   ],
   "source": [
    "display(tree, ruleset)"
   ]
  },
  {
   "cell_type": "code",
   "execution_count": 33,
   "metadata": {},
   "outputs": [
    {
     "data": {
      "text/plain": [
       ":((x - (x + 1.0)) + (x * 5.0 - (x - 2.0)))"
      ]
     },
     "execution_count": 33,
     "metadata": {},
     "output_type": "execute_result"
    }
   ],
   "source": [
    "ex = get_executable(tree, ruleset)"
   ]
  },
  {
   "cell_type": "code",
   "execution_count": 6,
   "metadata": {
    "collapsed": true
   },
   "outputs": [],
   "source": [
    "ground_truth(x) = x + 2\n",
    "function ExprOptimization.loss(tree::RuleNode)\n",
    "    ex = get_executable(tree, ruleset)\n",
    "    los = 0.0\n",
    "    global x\n",
    "    for x = -5.0:0.1:5.0\n",
    "        los += abs2(eval(ex) - ground_truth(x))\n",
    "    end\n",
    "    los\n",
    "end"
   ]
  },
  {
   "cell_type": "code",
   "execution_count": 9,
   "metadata": {
    "scrolled": true
   },
   "outputs": [
    {
     "data": {
      "text/plain": [
       "ExprRules.RuleNode(1, Nullable{Any}(), ExprRules.RuleNode[])"
      ]
     },
     "execution_count": 9,
     "metadata": {},
     "output_type": "execute_result"
    }
   ],
   "source": [
    "trees = RuleNode[]\n",
    "push!(trees, RuleNode(5, 0.0))\n",
    "push!(trees, RuleNode(5, 2.0))\n",
    "push!(trees, RuleNode(1))\n",
    "push!(trees, RuleNode(3, [RuleNode(1), RuleNode(5, 2.0)]))\n",
    "\n",
    "trees[3]"
   ]
  },
  {
   "cell_type": "code",
   "execution_count": 10,
   "metadata": {},
   "outputs": [
    {
     "name": "stdout",
     "output_type": "stream",
     "text": [
      " 1              0.0  1262.500000\n",
      " 2              2.0  858.500000\n",
      " 3                x  404.000000\n",
      " 4          x + 2.0  0.000000\n"
     ]
    }
   ],
   "source": [
    "i = 0\n",
    "for t in trees\n",
    "    ex = get_executable(t, ruleset)\n",
    "    @printf(\"%2d  %15s  %5f\\n\", i+=1, string(ex), loss(t))\n",
    "end"
   ]
  },
  {
   "cell_type": "code",
   "execution_count": 45,
   "metadata": {},
   "outputs": [
    {
     "data": {
      "text/plain": [
       "ExprOptimization.ExprOptResults(ExprRules.RuleNode(3, Nullable{Any}(), ExprRules.RuleNode[ExprRules.RuleNode(5, 2.0, ExprRules.RuleNode[]), ExprRules.RuleNode(1, #NULL, ExprRules.RuleNode[])]), 0.0, :(2.0 + x), nothing)"
      ]
     },
     "execution_count": 45,
     "metadata": {},
     "output_type": "execute_result"
    }
   ],
   "source": [
    "srand(0)\n",
    "p = MonteCarloParams(500, 4)\n",
    "results = optimize(p, ruleset, :Real)"
   ]
  },
  {
   "cell_type": "code",
   "execution_count": 46,
   "metadata": {},
   "outputs": [
    {
     "data": {
      "text/plain": [
       "(:(2.0 + x), 0.0)"
      ]
     },
     "execution_count": 46,
     "metadata": {},
     "output_type": "execute_result"
    }
   ],
   "source": [
    "(results.expr, results.loss)"
   ]
  },
  {
   "cell_type": "code",
   "execution_count": null,
   "metadata": {
    "collapsed": true
   },
   "outputs": [],
   "source": []
  },
  {
   "cell_type": "code",
   "execution_count": null,
   "metadata": {
    "collapsed": true
   },
   "outputs": [],
   "source": []
  }
 ],
 "metadata": {
  "kernelspec": {
   "display_name": "Julia 0.6.0",
   "language": "julia",
   "name": "julia-0.6"
  },
  "language_info": {
   "file_extension": ".jl",
   "mimetype": "application/julia",
   "name": "julia",
   "version": "0.6.0"
  }
 },
 "nbformat": 4,
 "nbformat_minor": 2
}
