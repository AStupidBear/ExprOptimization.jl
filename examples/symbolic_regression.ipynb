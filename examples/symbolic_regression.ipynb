{
 "cells": [
  {
   "cell_type": "code",
   "execution_count": 1,
   "metadata": {
    "collapsed": true
   },
   "outputs": [],
   "source": [
    "using ExprOptimization\n",
    "using TikzPictures\n",
    "TikzPictures.standaloneWorkaround(true)"
   ]
  },
  {
   "cell_type": "code",
   "execution_count": 2,
   "metadata": {},
   "outputs": [
    {
     "data": {
      "text/plain": [
       "ExprRules.Grammar(Any[:x, :(Real * Real), :(Real + Real), :(Real - Real), :(_(Base.rand(1.0:5.0)))], Symbol[:Real, :Real, :Real, :Real, :Real], Bool[true, false, false, false, true], Bool[false, false, false, false, true], Dict(:Real=>[1, 2, 3, 4, 5]), Array{Symbol,1}[Symbol[], Symbol[:Real, :Real], Symbol[:Real, :Real], Symbol[:Real, :Real], Symbol[]])"
      ]
     },
     "execution_count": 2,
     "metadata": {},
     "output_type": "execute_result"
    }
   ],
   "source": [
    "grammar = @grammar begin\n",
    "    Real = x\n",
    "    Real = Real * Real\n",
    "    Real = Real + Real\n",
    "    Real = Real - Real\n",
    "    Real = _(Base.rand(1.0:5.0))\n",
    "end"
   ]
  },
  {
   "cell_type": "markdown",
   "metadata": {},
   "source": [
    "Sample a random derivation tree"
   ]
  },
  {
   "cell_type": "code",
   "execution_count": 3,
   "metadata": {},
   "outputs": [
    {
     "name": "stderr",
     "output_type": "stream",
     "text": [
      "WARNING: Compat.ASCIIString is deprecated, use String instead.\n",
      "  likely near /Users/rlee18/.julia/v0.6/IJulia/src/kernel.jl:31\n",
      "WARNING: Compat.ASCIIString is deprecated, use String instead.\n",
      "  likely near /Users/rlee18/.julia/v0.6/IJulia/src/kernel.jl:31\n",
      "WARNING: Compat.ASCIIString is deprecated, use String instead.\n",
      "  likely near /Users/rlee18/.julia/v0.6/IJulia/src/kernel.jl:31\n",
      "WARNING: Compat.ASCIIString is deprecated, use String instead.\n",
      "  likely near /Users/rlee18/.julia/v0.6/IJulia/src/kernel.jl:31\n",
      "WARNING: Compat.ASCIIString is deprecated, use String instead.\n",
      "  likely near /Users/rlee18/.julia/v0.6/IJulia/src/kernel.jl:31\n",
      "WARNING: Compat.ASCIIString is deprecated, use String instead.\n",
      "  likely near /Users/rlee18/.julia/v0.6/IJulia/src/kernel.jl:31\n",
      "WARNING: Compat.ASCIIString is deprecated, use String instead.\n",
      "  likely near /Users/rlee18/.julia/v0.6/IJulia/src/kernel.jl:31\n",
      "WARNING: Compat.ASCIIString is deprecated, use String instead.\n",
      "  likely near /Users/rlee18/.julia/v0.6/IJulia/src/kernel.jl:31\n",
      "WARNING: Compat.ASCIIString is deprecated, use String instead.\n",
      "  likely near /Users/rlee18/.julia/v0.6/IJulia/src/kernel.jl:31\n",
      "WARNING: Compat.ASCIIString is deprecated, use String instead.\n",
      "  likely near /Users/rlee18/.julia/v0.6/IJulia/src/kernel.jl:31\n",
      "WARNING: Compat.ASCIIString is deprecated, use String instead.\n",
      "  likely near /Users/rlee18/.julia/v0.6/IJulia/src/kernel.jl:31\n",
      "WARNING: Compat.ASCIIString is deprecated, use String instead.\n",
      "  likely near /Users/rlee18/.julia/v0.6/IJulia/src/kernel.jl:31\n",
      "WARNING: Compat.ASCIIString is deprecated, use String instead.\n",
      "  likely near /Users/rlee18/.julia/v0.6/IJulia/src/kernel.jl:31\n"
     ]
    },
    {
     "data": {
      "image/svg+xml": [
       "<?xml version=\"1.0\" encoding=\"UTF-8\"?>\n",
       "<svg xmlns=\"http://www.w3.org/2000/svg\" xmlns:xlink=\"http://www.w3.org/1999/xlink\" width=\"107.372pt\" height=\"96.532pt\" viewBox=\"0 0 107.372 96.532\" version=\"1.1\">\n",
       "<defs>\n",
       "<g>\n",
       "<symbol overflow=\"visible\" id=\"glyph-1504656102193957-0-0\">\n",
       "<path style=\"stroke:none;\" d=\"\"/>\n",
       "</symbol>\n",
       "<symbol overflow=\"visible\" id=\"glyph-1504656102193957-0-1\">\n",
       "<path style=\"stroke:none;\" d=\"M 4.671875 -3.046875 C 4.671875 -3.40625 4.3125 -3.40625 4.203125 -3.40625 L 1.03125 -3.40625 C 0.90625 -3.40625 0.5625 -3.40625 0.5625 -3.046875 C 0.5625 -2.703125 0.90625 -2.703125 1.03125 -2.703125 L 4.203125 -2.703125 C 4.3125 -2.703125 4.671875 -2.703125 4.671875 -3.046875 Z M 4.671875 -3.046875 \"/>\n",
       "</symbol>\n",
       "<symbol overflow=\"visible\" id=\"glyph-1504656102193957-0-2\">\n",
       "<path style=\"stroke:none;\" d=\"M 4.546875 -2.140625 C 4.546875 -2.296875 4.421875 -2.390625 4.40625 -2.40625 C 4.15625 -2.578125 3.484375 -2.90625 3.21875 -3.046875 L 4.296875 -3.625 C 4.421875 -3.703125 4.546875 -3.765625 4.546875 -3.953125 C 4.546875 -4 4.546875 -4.28125 4.140625 -4.28125 L 2.90625 -3.5625 C 2.9375 -3.828125 2.9375 -4.484375 2.9375 -4.78125 C 2.9375 -4.859375 2.9375 -5.1875 2.609375 -5.1875 C 2.28125 -5.1875 2.28125 -4.859375 2.28125 -4.78125 C 2.28125 -4.484375 2.296875 -3.828125 2.3125 -3.5625 L 1.234375 -4.203125 C 1.09375 -4.28125 1.078125 -4.28125 1 -4.28125 C 0.8125 -4.28125 0.671875 -4.109375 0.671875 -3.953125 C 0.671875 -3.765625 0.78125 -3.703125 0.921875 -3.640625 L 2 -3.046875 L 0.921875 -2.46875 C 0.8125 -2.390625 0.671875 -2.328125 0.671875 -2.140625 C 0.671875 -2.09375 0.671875 -1.796875 1.078125 -1.796875 L 2.3125 -2.515625 C 2.296875 -2.265625 2.28125 -1.609375 2.28125 -1.3125 C 2.28125 -1.21875 2.28125 -0.890625 2.609375 -0.890625 C 2.9375 -0.890625 2.9375 -1.21875 2.9375 -1.3125 C 2.9375 -1.609375 2.9375 -2.265625 2.90625 -2.515625 C 3.515625 -2.1875 3.15625 -2.375 3.84375 -1.96875 C 4.109375 -1.796875 4.140625 -1.796875 4.21875 -1.796875 C 4.421875 -1.796875 4.546875 -1.984375 4.546875 -2.140625 Z M 4.546875 -2.140625 \"/>\n",
       "</symbol>\n",
       "<symbol overflow=\"visible\" id=\"glyph-1504656102193957-0-3\">\n",
       "<path style=\"stroke:none;\" d=\"M 4.703125 -1.890625 C 4.703125 -2.90625 3.9375 -3.875 2.765625 -3.875 C 2.40625 -3.875 1.96875 -3.8125 1.5625 -3.59375 L 1.5625 -5.484375 L 3.953125 -5.484375 C 4.109375 -5.484375 4.359375 -5.484375 4.359375 -5.78125 C 4.359375 -6.09375 4.109375 -6.09375 3.953125 -6.09375 L 1.28125 -6.09375 C 0.953125 -6.09375 0.875 -6 0.875 -5.6875 L 0.875 -3.03125 C 0.875 -2.84375 0.875 -2.625 1.203125 -2.625 C 1.375 -2.625 1.421875 -2.671875 1.5 -2.765625 C 1.765625 -3.09375 2.171875 -3.265625 2.75 -3.265625 C 3.5625 -3.265625 4.015625 -2.546875 4.015625 -1.890625 C 4.015625 -1.09375 3.3125 -0.5 2.46875 -0.5 C 2.1875 -0.5 1.5625 -0.578125 1.28125 -1.125 C 1.328125 -1.171875 1.40625 -1.25 1.40625 -1.453125 C 1.40625 -1.734375 1.171875 -1.890625 0.96875 -1.890625 C 0.8125 -1.890625 0.515625 -1.796875 0.515625 -1.421875 C 0.515625 -0.59375 1.359375 0.109375 2.46875 0.109375 C 3.71875 0.109375 4.703125 -0.78125 4.703125 -1.890625 Z M 4.703125 -1.890625 \"/>\n",
       "</symbol>\n",
       "<symbol overflow=\"visible\" id=\"glyph-1504656102193957-0-4\">\n",
       "<path style=\"stroke:none;\" d=\"M 3.234375 -0.625 C 3.234375 -0.984375 2.9375 -1.25 2.625 -1.25 C 2.25 -1.25 2 -0.9375 2 -0.625 C 2 -0.265625 2.296875 0 2.609375 0 C 2.984375 0 3.234375 -0.3125 3.234375 -0.625 Z M 3.234375 -0.625 \"/>\n",
       "</symbol>\n",
       "<symbol overflow=\"visible\" id=\"glyph-1504656102193957-0-5\">\n",
       "<path style=\"stroke:none;\" d=\"M 4.71875 -3.046875 C 4.71875 -4.890625 3.703125 -6.203125 2.609375 -6.203125 C 1.5 -6.203125 0.5 -4.859375 0.5 -3.046875 C 0.5 -1.203125 1.515625 0.109375 2.609375 0.109375 C 3.734375 0.109375 4.71875 -1.21875 4.71875 -3.046875 Z M 4.03125 -3.15625 C 4.03125 -1.671875 3.390625 -0.5 2.609375 -0.5 C 1.828125 -0.5 1.1875 -1.671875 1.1875 -3.15625 C 1.1875 -4.609375 1.875 -5.59375 2.609375 -5.59375 C 3.34375 -5.59375 4.03125 -4.609375 4.03125 -3.15625 Z M 4.03125 -3.15625 \"/>\n",
       "</symbol>\n",
       "<symbol overflow=\"visible\" id=\"glyph-1504656102193957-0-6\">\n",
       "<path style=\"stroke:none;\" d=\"M 4.9375 -0.296875 C 4.9375 -0.609375 4.6875 -0.609375 4.53125 -0.609375 L 4.140625 -0.609375 L 2.859375 -2.21875 L 4 -3.6875 L 4.390625 -3.6875 C 4.53125 -3.6875 4.8125 -3.6875 4.8125 -3.984375 C 4.8125 -4.296875 4.546875 -4.296875 4.390625 -4.296875 L 3.234375 -4.296875 C 3.078125 -4.296875 2.828125 -4.296875 2.828125 -4 C 2.828125 -3.6875 3.046875 -3.6875 3.3125 -3.6875 L 2.578125 -2.6875 L 1.828125 -3.6875 C 2.078125 -3.6875 2.296875 -3.6875 2.296875 -4 C 2.296875 -4.296875 2.046875 -4.296875 1.90625 -4.296875 L 0.734375 -4.296875 C 0.59375 -4.296875 0.328125 -4.296875 0.328125 -3.984375 C 0.328125 -3.6875 0.59375 -3.6875 0.734375 -3.6875 L 1.140625 -3.6875 L 2.3125 -2.21875 L 1.078125 -0.609375 L 0.671875 -0.609375 C 0.53125 -0.609375 0.265625 -0.609375 0.265625 -0.296875 C 0.265625 0 0.53125 0 0.671875 0 L 1.84375 0 C 2 0 2.25 0 2.25 -0.296875 C 2.25 -0.609375 2.03125 -0.609375 1.71875 -0.609375 L 2.578125 -1.828125 L 3.46875 -0.609375 C 3.1875 -0.609375 2.96875 -0.609375 2.96875 -0.296875 C 2.96875 0 3.21875 0 3.375 0 L 4.53125 0 C 4.671875 0 4.9375 0 4.9375 -0.296875 Z M 4.9375 -0.296875 \"/>\n",
       "</symbol>\n",
       "<symbol overflow=\"visible\" id=\"glyph-1504656102193957-0-7\">\n",
       "<path style=\"stroke:none;\" d=\"M 4.40625 -0.296875 C 4.40625 -0.609375 4.171875 -0.609375 4 -0.609375 L 3.09375 -0.609375 L 3.09375 -5.796875 C 3.09375 -5.953125 3.09375 -6.203125 2.796875 -6.203125 C 2.609375 -6.203125 2.546875 -6.078125 2.5 -5.96875 C 2.125 -5.109375 1.609375 -5 1.421875 -4.984375 C 1.25 -4.96875 1.046875 -4.953125 1.046875 -4.671875 C 1.046875 -4.421875 1.21875 -4.375 1.375 -4.375 C 1.5625 -4.375 1.96875 -4.4375 2.40625 -4.8125 L 2.40625 -0.609375 L 1.5 -0.609375 C 1.34375 -0.609375 1.109375 -0.609375 1.109375 -0.296875 C 1.109375 0 1.359375 0 1.5 0 L 4 0 C 4.15625 0 4.40625 0 4.40625 -0.296875 Z M 4.40625 -0.296875 \"/>\n",
       "</symbol>\n",
       "</g>\n",
       "</defs>\n",
       "<g id=\"surface1\">\n",
       "<path style=\"fill:none;stroke-width:0.3985;stroke-linecap:butt;stroke-linejoin:miter;stroke:rgb(0%,0%,0%);stroke-opacity:1;stroke-miterlimit:10;\" d=\"M -2.607875 -5.219281 L -10.908656 -21.820844 \" transform=\"matrix(1,0,0,-1,53.686,5.019)\"/>\n",
       "<path style=\"fill:none;stroke-width:0.31879;stroke-linecap:round;stroke-linejoin:round;stroke:rgb(0%,0%,0%);stroke-opacity:1;stroke-miterlimit:10;\" d=\"M -1.195336 1.591979 C -1.097912 0.996896 -0.00173564 0.100766 0.301022 -0.000161722 C -0.00174099 -0.0993337 -1.097966 -0.995405 -1.195422 -1.592223 \" transform=\"matrix(-0.44897,0.898,0.898,0.44897,42.77592,26.83913)\"/>\n",
       "<path style=\"fill:none;stroke-width:0.3985;stroke-linecap:butt;stroke-linejoin:miter;stroke:rgb(0%,0%,0%);stroke-opacity:1;stroke-miterlimit:10;\" d=\"M 2.610875 -5.219281 L 11.360875 -22.719281 \" transform=\"matrix(1,0,0,-1,53.686,5.019)\"/>\n",
       "<path style=\"fill:none;stroke-width:0.31879;stroke-linecap:round;stroke-linejoin:round;stroke:rgb(0%,0%,0%);stroke-opacity:1;stroke-miterlimit:10;\" d=\"M -1.193374 1.594341 C -1.095551 0.995142 -0.00197804 0.0989548 0.298494 0.00112375 C -0.000232873 -0.0984488 -1.095569 -0.996363 -1.193402 -1.593814 \" transform=\"matrix(0.44722,0.89442,0.89442,-0.44722,65.04519,27.73743)\"/>\n",
       "<path style=\"fill:none;stroke-width:0.3985;stroke-linecap:butt;stroke-linejoin:miter;stroke:rgb(0%,0%,0%);stroke-opacity:1;stroke-miterlimit:10;\" d=\"M -20.287562 -34.461469 L -35.521937 -49.695844 \" transform=\"matrix(1,0,0,-1,53.686,5.019)\"/>\n",
       "<path style=\"fill:none;stroke-width:0.31879;stroke-linecap:round;stroke-linejoin:round;stroke:rgb(0%,0%,0%);stroke-opacity:1;stroke-miterlimit:10;\" d=\"M -1.19723 1.594136 C -1.09505 0.99476 -0.00129027 0.0998142 0.297012 0.000370778 C -0.0012959 -0.0990558 -1.097869 -0.996702 -1.197321 -1.59331 \" transform=\"matrix(-0.7071,0.70714,0.70714,0.7071,18.16288,54.71549)\"/>\n",
       "<path style=\"fill:none;stroke-width:0.3985;stroke-linecap:butt;stroke-linejoin:miter;stroke:rgb(0%,0%,0%);stroke-opacity:1;stroke-miterlimit:10;\" d=\"M -14.174281 -34.461469 L -14.174281 -51.016156 \" transform=\"matrix(1,0,0,-1,53.686,5.019)\"/>\n",
       "<path style=\"fill:none;stroke-width:0.31879;stroke-linecap:round;stroke-linejoin:round;stroke:rgb(0%,0%,0%);stroke-opacity:1;stroke-miterlimit:10;\" d=\"M -1.196006 1.592859 C -1.094444 0.995202 -0.00069375 0.100671 0.300088 -0.00089125 C -0.00069375 -0.0985475 -1.094444 -0.996985 -1.196006 -1.594641 \" transform=\"matrix(0,1,1,0,39.51261,56.03585)\"/>\n",
       "<path style=\"fill:none;stroke-width:0.3985;stroke-linecap:butt;stroke-linejoin:miter;stroke:rgb(0%,0%,0%);stroke-opacity:1;stroke-miterlimit:10;\" d=\"M -19.393031 -61.910688 L -36.52975 -79.051313 \" transform=\"matrix(1,0,0,-1,53.686,5.019)\"/>\n",
       "<path style=\"fill:none;stroke-width:0.31879;stroke-linecap:round;stroke-linejoin:round;stroke:rgb(0%,0%,0%);stroke-opacity:1;stroke-miterlimit:10;\" d=\"M -1.194508 1.594597 C -1.095053 0.997995 0.00151846 0.100362 0.299825 0.000938654 C 0.00152549 -0.0985062 -1.094982 -0.996216 -1.194396 -1.592826 \" transform=\"matrix(-0.70715,0.7071,0.7071,0.70715,17.15667,84.06858)\"/>\n",
       "<path style=\"fill:none;stroke-width:0.3985;stroke-linecap:butt;stroke-linejoin:miter;stroke:rgb(0%,0%,0%);stroke-opacity:1;stroke-miterlimit:10;\" d=\"M -14.174281 -61.910688 L -14.174281 -78.914594 \" transform=\"matrix(1,0,0,-1,53.686,5.019)\"/>\n",
       "<path style=\"fill:none;stroke-width:0.31879;stroke-linecap:round;stroke-linejoin:round;stroke:rgb(0%,0%,0%);stroke-opacity:1;stroke-miterlimit:10;\" d=\"M -1.196059 1.592859 C -1.094496 0.995202 -0.00074625 0.100671 0.300035 -0.00089125 C -0.00074625 -0.0985475 -1.094496 -0.996985 -1.196059 -1.594641 \" transform=\"matrix(0,1,1,0,39.51261,83.93434)\"/>\n",
       "<path style=\"fill:none;stroke-width:0.3985;stroke-linecap:butt;stroke-linejoin:miter;stroke:rgb(0%,0%,0%);stroke-opacity:1;stroke-miterlimit:10;\" d=\"M 14.173375 -33.566938 L 14.173375 -51.016156 \" transform=\"matrix(1,0,0,-1,53.686,5.019)\"/>\n",
       "<path style=\"fill:none;stroke-width:0.31879;stroke-linecap:round;stroke-linejoin:round;stroke:rgb(0%,0%,0%);stroke-opacity:1;stroke-miterlimit:10;\" d=\"M -1.196006 1.593735 C -1.094444 0.996079 -0.00069375 0.101547 0.300088 -0.000015 C -0.00069375 -0.0976713 -1.094444 -0.996109 -1.196006 -1.593765 \" transform=\"matrix(0,1,1,0,67.85939,56.03585)\"/>\n",
       "<path style=\"fill:none;stroke-width:0.3985;stroke-linecap:butt;stroke-linejoin:miter;stroke:rgb(0%,0%,0%);stroke-opacity:1;stroke-miterlimit:10;\" d=\"M 19.392125 -33.566938 L 35.524938 -49.695844 \" transform=\"matrix(1,0,0,-1,53.686,5.019)\"/>\n",
       "<path style=\"fill:none;stroke-width:0.31879;stroke-linecap:round;stroke-linejoin:round;stroke:rgb(0%,0%,0%);stroke-opacity:1;stroke-miterlimit:10;\" d=\"M -1.195156 1.59554 C -1.09849 0.996157 0.000822555 0.101214 0.29913 0.00177325 C -0.00194242 -0.100421 -1.095756 -0.995334 -1.195201 -1.591951 \" transform=\"matrix(0.70712,0.7071,0.7071,-0.70712,89.2091,54.71552)\"/>\n",
       "<path style=\"fill:none;stroke-width:0.3985;stroke-linecap:butt;stroke-linejoin:miter;stroke:rgb(0%,0%,0%);stroke-opacity:1;stroke-miterlimit:10;\" d=\"M 14.173375 -61.910688 L 14.173375 -77.910688 \" transform=\"matrix(1,0,0,-1,53.686,5.019)\"/>\n",
       "<path style=\"fill:none;stroke-width:0.31879;stroke-linecap:round;stroke-linejoin:round;stroke:rgb(0%,0%,0%);stroke-opacity:1;stroke-miterlimit:10;\" d=\"M -1.193725 1.593735 C -1.096069 0.996079 0.0015875 0.101547 0.298462 -0.000015 C 0.0015875 -0.0976713 -1.096069 -0.996109 -1.193725 -1.593765 \" transform=\"matrix(0,1,1,0,67.85939,82.9281)\"/>\n",
       "<path style=\"fill:none;stroke-width:0.3985;stroke-linecap:butt;stroke-linejoin:miter;stroke:rgb(0%,0%,0%);stroke-opacity:1;stroke-miterlimit:10;\" d=\"M 19.392125 -61.910688 L 36.528844 -79.051313 \" transform=\"matrix(1,0,0,-1,53.686,5.019)\"/>\n",
       "<path style=\"fill:none;stroke-width:0.31879;stroke-linecap:round;stroke-linejoin:round;stroke:rgb(0%,0%,0%);stroke-opacity:1;stroke-miterlimit:10;\" d=\"M -1.195037 1.592185 C -1.095623 0.995575 0.000884669 0.0978654 0.299184 -0.00157943 C 0.000877638 -0.101003 -1.095694 -0.998635 -1.195149 -1.595238 \" transform=\"matrix(0.70715,0.7071,0.7071,-0.70715,90.21533,84.06858)\"/>\n",
       "<g style=\"fill:rgb(0%,0%,0%);fill-opacity:1;\">\n",
       "  <use xlink:href=\"#glyph-1504656102193957-0-1\" x=\"51.071\" y=\"6.718\"/>\n",
       "</g>\n",
       "<g style=\"fill:rgb(0%,0%,0%);fill-opacity:1;\">\n",
       "  <use xlink:href=\"#glyph-1504656102193957-0-2\" x=\"36.897\" y=\"35.961\"/>\n",
       "</g>\n",
       "<g style=\"fill:rgb(0%,0%,0%);fill-opacity:1;\">\n",
       "  <use xlink:href=\"#glyph-1504656102193957-0-3\" x=\"3.321\" y=\"64.755\"/>\n",
       "  <use xlink:href=\"#glyph-1504656102193957-0-4\" x=\"8.551386\" y=\"64.755\"/>\n",
       "  <use xlink:href=\"#glyph-1504656102193957-0-5\" x=\"13.781772\" y=\"64.755\"/>\n",
       "</g>\n",
       "<g style=\"fill:rgb(0%,0%,0%);fill-opacity:1;\">\n",
       "  <use xlink:href=\"#glyph-1504656102193957-0-1\" x=\"36.897\" y=\"63.41\"/>\n",
       "</g>\n",
       "<g style=\"fill:rgb(0%,0%,0%);fill-opacity:1;\">\n",
       "  <use xlink:href=\"#glyph-1504656102193957-0-6\" x=\"8.551\" y=\"92.205\"/>\n",
       "</g>\n",
       "<g style=\"fill:rgb(0%,0%,0%);fill-opacity:1;\">\n",
       "  <use xlink:href=\"#glyph-1504656102193957-0-6\" x=\"36.897\" y=\"92.205\"/>\n",
       "</g>\n",
       "<g style=\"fill:rgb(0%,0%,0%);fill-opacity:1;\">\n",
       "  <use xlink:href=\"#glyph-1504656102193957-0-1\" x=\"65.244\" y=\"35.064\"/>\n",
       "</g>\n",
       "<g style=\"fill:rgb(0%,0%,0%);fill-opacity:1;\">\n",
       "  <use xlink:href=\"#glyph-1504656102193957-0-1\" x=\"65.244\" y=\"63.41\"/>\n",
       "</g>\n",
       "<g style=\"fill:rgb(0%,0%,0%);fill-opacity:1;\">\n",
       "  <use xlink:href=\"#glyph-1504656102193957-0-7\" x=\"60.013\" y=\"93.102\"/>\n",
       "  <use xlink:href=\"#glyph-1504656102193957-0-4\" x=\"65.243386\" y=\"93.102\"/>\n",
       "  <use xlink:href=\"#glyph-1504656102193957-0-5\" x=\"70.473772\" y=\"93.102\"/>\n",
       "</g>\n",
       "<g style=\"fill:rgb(0%,0%,0%);fill-opacity:1;\">\n",
       "  <use xlink:href=\"#glyph-1504656102193957-0-6\" x=\"93.59\" y=\"92.205\"/>\n",
       "</g>\n",
       "<g style=\"fill:rgb(0%,0%,0%);fill-opacity:1;\">\n",
       "  <use xlink:href=\"#glyph-1504656102193957-0-3\" x=\"88.36\" y=\"64.755\"/>\n",
       "  <use xlink:href=\"#glyph-1504656102193957-0-4\" x=\"93.590386\" y=\"64.755\"/>\n",
       "  <use xlink:href=\"#glyph-1504656102193957-0-5\" x=\"98.820772\" y=\"64.755\"/>\n",
       "</g>\n",
       "</g>\n",
       "</svg>\n",
       "\n"
      ],
      "text/plain": [
       "TreeView.LabelledTree({11, 10} directed simple Int64 graph, Any[:-, :*, 5.0, :-, :x, :x, :-, :-, 1.0, :x, 5.0])"
      ]
     },
     "execution_count": 3,
     "metadata": {},
     "output_type": "execute_result"
    }
   ],
   "source": [
    "srand(1)\n",
    "tree = rand(RuleNode, grammar, :Real, 4)\n",
    "display(tree, grammar)"
   ]
  },
  {
   "cell_type": "markdown",
   "metadata": {},
   "source": [
    "Get the expression encoded by the tree"
   ]
  },
  {
   "cell_type": "code",
   "execution_count": 4,
   "metadata": {},
   "outputs": [
    {
     "data": {
      "text/plain": [
       ":(5.0 * (x - x) - ((1.0 - x) - 5.0))"
      ]
     },
     "execution_count": 4,
     "metadata": {},
     "output_type": "execute_result"
    }
   ],
   "source": [
    "ex = get_executable(tree, grammar)"
   ]
  },
  {
   "cell_type": "markdown",
   "metadata": {},
   "source": [
    "Define ground truth expression for symbolic regression and the loss function."
   ]
  },
  {
   "cell_type": "code",
   "execution_count": 5,
   "metadata": {
    "collapsed": true
   },
   "outputs": [],
   "source": [
    "ground_truth(x) = x + 2\n",
    "function ExprOptimization.loss(tree::RuleNode)\n",
    "    ex = get_executable(tree, grammar)\n",
    "    los = 0.0\n",
    "    global x\n",
    "    for x = -5.0:0.1:5.0\n",
    "        los += abs2(eval(ex) - ground_truth(x))\n",
    "    end\n",
    "    los\n",
    "end"
   ]
  },
  {
   "cell_type": "markdown",
   "metadata": {},
   "source": [
    "Evaluate the loss function for a few test expressions.  Verify that the loss function is at a minimum when the expression matches ground truth."
   ]
  },
  {
   "cell_type": "code",
   "execution_count": 6,
   "metadata": {},
   "outputs": [
    {
     "data": {
      "image/svg+xml": [
       "<?xml version=\"1.0\" encoding=\"UTF-8\"?>\n",
       "<svg xmlns=\"http://www.w3.org/2000/svg\" xmlns:xlink=\"http://www.w3.org/1999/xlink\" width=\"45.448pt\" height=\"40.786pt\" viewBox=\"0 0 45.448 40.786\" version=\"1.1\">\n",
       "<defs>\n",
       "<g>\n",
       "<symbol overflow=\"visible\" id=\"glyph-1504656102193958-0-0\">\n",
       "<path style=\"stroke:none;\" d=\"\"/>\n",
       "</symbol>\n",
       "<symbol overflow=\"visible\" id=\"glyph-1504656102193958-0-1\">\n",
       "<path style=\"stroke:none;\" d=\"M 4.84375 -3.046875 C 4.84375 -3.40625 4.5 -3.40625 4.375 -3.40625 L 2.953125 -3.40625 L 2.953125 -4.828125 C 2.953125 -4.9375 2.953125 -5.296875 2.609375 -5.296875 C 2.265625 -5.296875 2.265625 -4.9375 2.265625 -4.828125 L 2.265625 -3.40625 L 0.84375 -3.40625 C 0.734375 -3.40625 0.375 -3.40625 0.375 -3.046875 C 0.375 -2.703125 0.734375 -2.703125 0.84375 -2.703125 L 2.265625 -2.703125 L 2.265625 -1.28125 C 2.265625 -1.15625 2.265625 -0.8125 2.609375 -0.8125 C 2.953125 -0.8125 2.953125 -1.15625 2.953125 -1.28125 L 2.953125 -2.703125 L 4.375 -2.703125 C 4.5 -2.703125 4.84375 -2.703125 4.84375 -3.046875 Z M 4.84375 -3.046875 \"/>\n",
       "</symbol>\n",
       "<symbol overflow=\"visible\" id=\"glyph-1504656102193958-0-2\">\n",
       "<path style=\"stroke:none;\" d=\"M 4.9375 -0.296875 C 4.9375 -0.609375 4.6875 -0.609375 4.53125 -0.609375 L 4.140625 -0.609375 L 2.859375 -2.21875 L 4 -3.6875 L 4.390625 -3.6875 C 4.53125 -3.6875 4.8125 -3.6875 4.8125 -3.984375 C 4.8125 -4.296875 4.546875 -4.296875 4.390625 -4.296875 L 3.234375 -4.296875 C 3.078125 -4.296875 2.828125 -4.296875 2.828125 -4 C 2.828125 -3.6875 3.046875 -3.6875 3.3125 -3.6875 L 2.578125 -2.6875 L 1.828125 -3.6875 C 2.078125 -3.6875 2.296875 -3.6875 2.296875 -4 C 2.296875 -4.296875 2.046875 -4.296875 1.90625 -4.296875 L 0.734375 -4.296875 C 0.59375 -4.296875 0.328125 -4.296875 0.328125 -3.984375 C 0.328125 -3.6875 0.59375 -3.6875 0.734375 -3.6875 L 1.140625 -3.6875 L 2.3125 -2.21875 L 1.078125 -0.609375 L 0.671875 -0.609375 C 0.53125 -0.609375 0.265625 -0.609375 0.265625 -0.296875 C 0.265625 0 0.53125 0 0.671875 0 L 1.84375 0 C 2 0 2.25 0 2.25 -0.296875 C 2.25 -0.609375 2.03125 -0.609375 1.71875 -0.609375 L 2.578125 -1.828125 L 3.46875 -0.609375 C 3.1875 -0.609375 2.96875 -0.609375 2.96875 -0.296875 C 2.96875 0 3.21875 0 3.375 0 L 4.53125 0 C 4.671875 0 4.9375 0 4.9375 -0.296875 Z M 4.9375 -0.296875 \"/>\n",
       "</symbol>\n",
       "<symbol overflow=\"visible\" id=\"glyph-1504656102193958-0-3\">\n",
       "<path style=\"stroke:none;\" d=\"M 4.703125 -0.40625 L 4.703125 -0.671875 C 4.703125 -0.859375 4.703125 -1.078125 4.359375 -1.078125 C 4.015625 -1.078125 4.015625 -0.890625 4.015625 -0.609375 L 1.640625 -0.609375 C 2.234375 -1.109375 3.1875 -1.859375 3.625 -2.265625 C 4.25 -2.828125 4.703125 -3.453125 4.703125 -4.25 C 4.703125 -5.453125 3.703125 -6.203125 2.484375 -6.203125 C 1.3125 -6.203125 0.515625 -5.390625 0.515625 -4.53125 C 0.515625 -4.171875 0.796875 -4.0625 0.96875 -4.0625 C 1.171875 -4.0625 1.40625 -4.234375 1.40625 -4.5 C 1.40625 -4.625 1.359375 -4.75 1.265625 -4.828125 C 1.421875 -5.28125 1.890625 -5.59375 2.4375 -5.59375 C 3.25 -5.59375 4.015625 -5.140625 4.015625 -4.25 C 4.015625 -3.5625 3.53125 -2.984375 2.875 -2.4375 L 0.671875 -0.578125 C 0.578125 -0.5 0.515625 -0.453125 0.515625 -0.3125 C 0.515625 0 0.765625 0 0.921875 0 L 4.3125 0 C 4.640625 0 4.703125 -0.09375 4.703125 -0.40625 Z M 4.703125 -0.40625 \"/>\n",
       "</symbol>\n",
       "<symbol overflow=\"visible\" id=\"glyph-1504656102193958-0-4\">\n",
       "<path style=\"stroke:none;\" d=\"M 3.234375 -0.625 C 3.234375 -0.984375 2.9375 -1.25 2.625 -1.25 C 2.25 -1.25 2 -0.9375 2 -0.625 C 2 -0.265625 2.296875 0 2.609375 0 C 2.984375 0 3.234375 -0.3125 3.234375 -0.625 Z M 3.234375 -0.625 \"/>\n",
       "</symbol>\n",
       "<symbol overflow=\"visible\" id=\"glyph-1504656102193958-0-5\">\n",
       "<path style=\"stroke:none;\" d=\"M 4.71875 -3.046875 C 4.71875 -4.890625 3.703125 -6.203125 2.609375 -6.203125 C 1.5 -6.203125 0.5 -4.859375 0.5 -3.046875 C 0.5 -1.203125 1.515625 0.109375 2.609375 0.109375 C 3.734375 0.109375 4.71875 -1.21875 4.71875 -3.046875 Z M 4.03125 -3.15625 C 4.03125 -1.671875 3.390625 -0.5 2.609375 -0.5 C 1.828125 -0.5 1.1875 -1.671875 1.1875 -3.15625 C 1.1875 -4.609375 1.875 -5.59375 2.609375 -5.59375 C 3.34375 -5.59375 4.03125 -4.609375 4.03125 -3.15625 Z M 4.03125 -3.15625 \"/>\n",
       "</symbol>\n",
       "</g>\n",
       "</defs>\n",
       "<g id=\"surface1\">\n",
       "<path style=\"fill:none;stroke-width:0.3985;stroke-linecap:butt;stroke-linejoin:miter;stroke:rgb(0%,0%,0%);stroke-opacity:1;stroke-miterlimit:10;\" d=\"M -3.081656 -6.166812 L -11.132438 -22.268375 \" transform=\"matrix(1,0,0,-1,20.109,5.966)\"/>\n",
       "<path style=\"fill:none;stroke-width:0.31879;stroke-linecap:round;stroke-linejoin:round;stroke:rgb(0%,0%,0%);stroke-opacity:1;stroke-miterlimit:10;\" d=\"M -1.196257 1.591925 C -1.095343 0.998589 -0.000900028 0.0972671 0.300117 -0.000174723 C 0.000838221 -0.0976112 -1.093621 -0.997174 -1.196285 -1.592248 \" transform=\"matrix(-0.44899,0.898,0.898,0.44899,8.97475,28.23448)\"/>\n",
       "<path style=\"fill:none;stroke-width:0.3985;stroke-linecap:butt;stroke-linejoin:miter;stroke:rgb(0%,0%,0%);stroke-opacity:1;stroke-miterlimit:10;\" d=\"M 3.082406 -6.166812 L 10.629281 -21.260562 \" transform=\"matrix(1,0,0,-1,20.109,5.966)\"/>\n",
       "<path style=\"fill:none;stroke-width:0.31879;stroke-linecap:round;stroke-linejoin:round;stroke:rgb(0%,0%,0%);stroke-opacity:1;stroke-miterlimit:10;\" d=\"M -1.197669 1.592947 C -1.095011 0.997874 -0.000564588 0.0983057 0.298712 0.000866927 C 0.00117539 -0.0983118 -1.096751 -0.99788 -1.194189 -1.592953 \" transform=\"matrix(0.449,0.898,0.898,-0.449,30.7401,27.22824)\"/>\n",
       "<g style=\"fill:rgb(0%,0%,0%);fill-opacity:1;\">\n",
       "  <use xlink:href=\"#glyph-1504656102193958-0-1\" x=\"17.494\" y=\"8.611\"/>\n",
       "</g>\n",
       "<g style=\"fill:rgb(0%,0%,0%);fill-opacity:1;\">\n",
       "  <use xlink:href=\"#glyph-1504656102193958-0-2\" x=\"3.321\" y=\"36.459\"/>\n",
       "</g>\n",
       "<g style=\"fill:rgb(0%,0%,0%);fill-opacity:1;\">\n",
       "  <use xlink:href=\"#glyph-1504656102193958-0-3\" x=\"26.437\" y=\"37.356\"/>\n",
       "  <use xlink:href=\"#glyph-1504656102193958-0-4\" x=\"31.667386\" y=\"37.356\"/>\n",
       "  <use xlink:href=\"#glyph-1504656102193958-0-5\" x=\"36.897772\" y=\"37.356\"/>\n",
       "</g>\n",
       "</g>\n",
       "</svg>\n",
       "\n"
      ],
      "text/plain": [
       "TreeView.LabelledTree({3, 2} directed simple Int64 graph, Any[:+, :x, 2.0])"
      ]
     },
     "execution_count": 6,
     "metadata": {},
     "output_type": "execute_result"
    }
   ],
   "source": [
    "trees = RuleNode[]\n",
    "push!(trees, RuleNode(5, 0.0))\n",
    "push!(trees, RuleNode(5, 2.0))\n",
    "push!(trees, RuleNode(1))\n",
    "push!(trees, RuleNode(3, [RuleNode(1), RuleNode(5, 2.0)]))\n",
    "display(trees[4], grammar)"
   ]
  },
  {
   "cell_type": "code",
   "execution_count": 7,
   "metadata": {},
   "outputs": [
    {
     "name": "stdout",
     "output_type": "stream",
     "text": [
      " 1              0.0  1262.500000\n",
      " 2              2.0  858.500000\n",
      " 3                x  404.000000\n",
      " 4          x + 2.0  0.000000\n"
     ]
    }
   ],
   "source": [
    "i = 0\n",
    "for t in trees\n",
    "    ex = get_executable(t, grammar)\n",
    "    @printf(\"%2d  %15s  %5f\\n\", i+=1, string(ex), loss(t))\n",
    "end"
   ]
  },
  {
   "cell_type": "markdown",
   "metadata": {},
   "source": [
    "Monte Carlo optimization"
   ]
  },
  {
   "cell_type": "code",
   "execution_count": 8,
   "metadata": {},
   "outputs": [
    {
     "data": {
      "text/plain": [
       "(:(2.0 + x), 0.0)"
      ]
     },
     "execution_count": 8,
     "metadata": {},
     "output_type": "execute_result"
    }
   ],
   "source": [
    "srand(1)\n",
    "p = MonteCarloParams(1000, 4)\n",
    "results1 = optimize(p, grammar, :Real)\n",
    "(results1.expr, results1.loss)"
   ]
  },
  {
   "cell_type": "markdown",
   "metadata": {},
   "source": [
    "Genetic Programming optimization"
   ]
  },
  {
   "cell_type": "code",
   "execution_count": 9,
   "metadata": {},
   "outputs": [
    {
     "data": {
      "text/plain": [
       "(:(x + 2.0), 0.0)"
      ]
     },
     "execution_count": 9,
     "metadata": {},
     "output_type": "execute_result"
    }
   ],
   "source": [
    "srand(4)\n",
    "p = GeneticProgramParams(100,10,4,0.3,0.3,0.4)\n",
    "results2 = optimize(p, grammar, :Real)\n",
    "(results2.expr, results2.loss)"
   ]
  },
  {
   "cell_type": "code",
   "execution_count": 10,
   "metadata": {},
   "outputs": [
    {
     "data": {
      "text/plain": [
       "(:(2.0 + x), 0.0)"
      ]
     },
     "execution_count": 10,
     "metadata": {},
     "output_type": "execute_result"
    }
   ],
   "source": [
    "srand(2)\n",
    "p = CrossEntropyParams(100,10,10,50)\n",
    "results3 = optimize(p, grammar, :Real)\n",
    "(results3.expr, results3.loss)"
   ]
  },
  {
   "cell_type": "code",
   "execution_count": 11,
   "metadata": {},
   "outputs": [
    {
     "name": "stdout",
     "output_type": "stream",
     "text": [
      "search: \u001b[1mC\u001b[22m\u001b[1mr\u001b[22m\u001b[1mo\u001b[22m\u001b[1ms\u001b[22m\u001b[1ms\u001b[22m\u001b[1mE\u001b[22m\u001b[1mn\u001b[22m\u001b[1mt\u001b[22m\u001b[1mr\u001b[22m\u001b[1mo\u001b[22m\u001b[1mp\u001b[22m\u001b[1my\u001b[22m\u001b[1mP\u001b[22m\u001b[1ma\u001b[22m\u001b[1mr\u001b[22m\u001b[1ma\u001b[22m\u001b[1mm\u001b[22m\u001b[1ms\u001b[22m\n",
      "\n"
     ]
    },
    {
     "data": {
      "text/markdown": [
       "```\n",
       "CrossEntropyParams(pop_size::Int, iterations::Int, max_depth::Int, top_k::Int,\n",
       "    init_method::InitializationMethod=RandomInit())\n",
       "```\n",
       "\n",
       "Parameters for Cross Entropy method.     pop_size: population size     iterations: number of iterations     max_depth: maximum depth of derivation tree     top_k: top k elite samples used in selection     init_method: Initialization method\n"
      ],
      "text/plain": [
       "```\n",
       "CrossEntropyParams(pop_size::Int, iterations::Int, max_depth::Int, top_k::Int,\n",
       "    init_method::InitializationMethod=RandomInit())\n",
       "```\n",
       "\n",
       "Parameters for Cross Entropy method.     pop_size: population size     iterations: number of iterations     max_depth: maximum depth of derivation tree     top_k: top k elite samples used in selection     init_method: Initialization method\n"
      ]
     },
     "execution_count": 11,
     "metadata": {},
     "output_type": "execute_result"
    }
   ],
   "source": [
    "?CrossEntropyParams"
   ]
  },
  {
   "cell_type": "code",
   "execution_count": 14,
   "metadata": {},
   "outputs": [
    {
     "data": {
      "text/plain": [
       "(:(x + 2.0), 0.0)"
      ]
     },
     "execution_count": 14,
     "metadata": {},
     "output_type": "execute_result"
    }
   ],
   "source": [
    "srand(0)\n",
    "p = PIPEParams(PIPE.PPTParams(0.8),100,10,0.2,0.1,0.05,1,0.2,0.6,0.999,10)\n",
    "results4 = optimize(p, grammar, :Real)\n",
    "(results4.expr, results3.loss)"
   ]
  },
  {
   "cell_type": "code",
   "execution_count": null,
   "metadata": {
    "collapsed": true
   },
   "outputs": [],
   "source": []
  }
 ],
 "metadata": {
  "kernelspec": {
   "display_name": "Julia 0.6.0",
   "language": "julia",
   "name": "julia-0.6"
  },
  "language_info": {
   "file_extension": ".jl",
   "mimetype": "application/julia",
   "name": "julia",
   "version": "0.6.0"
  }
 },
 "nbformat": 4,
 "nbformat_minor": 2
}
