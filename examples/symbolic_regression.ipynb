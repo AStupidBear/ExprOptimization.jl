{
 "cells": [
  {
   "cell_type": "code",
   "execution_count": 10,
   "metadata": {},
   "outputs": [],
   "source": [
    "using ExprOptimization"
   ]
  },
  {
   "cell_type": "code",
   "execution_count": 11,
   "metadata": {},
   "outputs": [
    {
     "data": {
      "text/plain": [
       "ExprRules.RuleSet(Any[:x, :(Real * Real), :(Real + Real), :(Real - Real), 0.0, 1.0, 2.0, 3.0, 4.0, 5.0], Symbol[:Real, :Real, :Real, :Real, :Real, :Real, :Real, :Real, :Real, :Real], Bool[true, false, false, false, true, true, true, true, true, true], Dict(:Real=>[1, 2, 3, 4, 5, 6, 7, 8, 9, 10]))"
      ]
     },
     "execution_count": 11,
     "metadata": {},
     "output_type": "execute_result"
    }
   ],
   "source": [
    "ruleset = @ruleset begin\n",
    "    Real = x\n",
    "    Real = Real * Real\n",
    "    Real = Real + Real\n",
    "    Real = Real - Real\n",
    "    Real = 0.0\n",
    "    Real = 1.0\n",
    "    Real = 2.0\n",
    "    Real = 3.0\n",
    "    Real = 4.0\n",
    "    Real = 5.0\n",
    "end"
   ]
  },
  {
   "cell_type": "code",
   "execution_count": 12,
   "metadata": {},
   "outputs": [],
   "source": [
    "ground_truth(x) = x + 2\n",
    "function ExprOptimization.loss(tree::RuleNode)\n",
    "    ex = get_executable(tree, ruleset)\n",
    "    los = 0.0\n",
    "    global x\n",
    "    for x = -5.0:0.1:5.0\n",
    "        los += abs2(eval(ex) - ground_truth(x))\n",
    "    end\n",
    "    los\n",
    "end"
   ]
  },
  {
   "cell_type": "code",
   "execution_count": 13,
   "metadata": {
    "scrolled": true
   },
   "outputs": [
    {
     "data": {
      "image/svg+xml": [
       "<?xml version=\"1.0\" encoding=\"UTF-8\"?>\n",
       "<svg xmlns=\"http://www.w3.org/2000/svg\" xmlns:xlink=\"http://www.w3.org/1999/xlink\" width=\"45.448pt\" height=\"40.786pt\" viewBox=\"0 0 45.448 40.786\" version=\"1.1\">\n",
       "<defs>\n",
       "<g>\n",
       "<symbol overflow=\"visible\" id=\"glyph-1500925822269001-0-0\">\n",
       "<path style=\"stroke:none;\" d=\"\"/>\n",
       "</symbol>\n",
       "<symbol overflow=\"visible\" id=\"glyph-1500925822269001-0-1\">\n",
       "<path style=\"stroke:none;\" d=\"M 5.015625 -3.1875 C 5.015625 -3.53125 4.5 -3.671875 4.375 -3.671875 L 3.125 -3.671875 L 3.125 -4.953125 C 3.125 -5.078125 2.953125 -5.5625 2.609375 -5.5625 C 2.265625 -5.5625 2.078125 -5.078125 2.078125 -4.953125 L 2.078125 -3.671875 L 0.84375 -3.671875 C 0.734375 -3.671875 0.203125 -3.53125 0.203125 -3.1875 C 0.203125 -2.828125 0.734375 -2.703125 0.84375 -2.703125 L 2.078125 -2.703125 L 2.078125 -1.40625 C 2.078125 -1.28125 2.265625 -0.8125 2.609375 -0.8125 C 2.953125 -0.8125 3.125 -1.28125 3.125 -1.40625 L 3.125 -2.703125 L 4.375 -2.703125 C 4.5 -2.703125 5.015625 -2.828125 5.015625 -3.1875 Z M 5.015625 -3.1875 \"/>\n",
       "</symbol>\n",
       "<symbol overflow=\"visible\" id=\"glyph-1500925822269001-0-2\">\n",
       "<path style=\"stroke:none;\" d=\"M 5.109375 -0.421875 C 5.109375 -0.734375 4.6875 -0.875 4.53125 -0.875 L 4.234375 -0.875 L 3.046875 -2.34375 L 4.09375 -3.6875 L 4.390625 -3.6875 C 4.53125 -3.6875 4.96875 -3.8125 4.96875 -4.109375 C 4.96875 -4.421875 4.546875 -4.5625 4.390625 -4.5625 L 3.234375 -4.5625 C 3.078125 -4.5625 2.65625 -4.421875 2.65625 -4.125 C 2.65625 -3.8125 3.046875 -3.6875 3.015625 -3.6875 L 2.578125 -3.078125 L 2.109375 -3.6875 C 2.078125 -3.6875 2.46875 -3.8125 2.46875 -4.125 C 2.46875 -4.421875 2.046875 -4.5625 1.90625 -4.5625 L 0.734375 -4.5625 C 0.59375 -4.5625 0.15625 -4.421875 0.15625 -4.109375 C 0.15625 -3.8125 0.59375 -3.6875 0.734375 -3.6875 L 1.03125 -3.6875 L 2.109375 -2.34375 L 0.984375 -0.875 L 0.671875 -0.875 C 0.53125 -0.875 0.09375 -0.734375 0.09375 -0.421875 C 0.09375 -0.125 0.53125 0 0.671875 0 L 1.84375 0 C 2 0 2.40625 -0.125 2.40625 -0.421875 C 2.40625 -0.734375 2.03125 -0.875 2 -0.875 L 2.578125 -1.6875 L 3.171875 -0.875 C 3.1875 -0.875 2.796875 -0.734375 2.796875 -0.421875 C 2.796875 -0.125 3.21875 0 3.375 0 L 4.53125 0 C 4.671875 0 5.109375 -0.125 5.109375 -0.421875 Z M 5.109375 -0.421875 \"/>\n",
       "</symbol>\n",
       "<symbol overflow=\"visible\" id=\"glyph-1500925822269001-0-3\">\n",
       "<path style=\"stroke:none;\" d=\"M 4.875 -0.53125 L 4.875 -0.796875 C 4.875 -0.984375 4.703125 -1.34375 4.359375 -1.34375 C 4.015625 -1.34375 3.84375 -1.015625 3.84375 -0.875 L 2.03125 -0.875 C 2.359375 -1.15625 3.3125 -1.90625 3.734375 -2.296875 C 4.359375 -2.859375 4.875 -3.59375 4.875 -4.390625 C 4.875 -5.578125 3.703125 -6.46875 2.484375 -6.46875 C 1.3125 -6.46875 0.34375 -5.515625 0.34375 -4.671875 C 0.34375 -4.296875 0.796875 -4.0625 0.96875 -4.0625 C 1.171875 -4.0625 1.578125 -4.359375 1.578125 -4.640625 C 1.578125 -4.75 1.46875 -4.984375 1.453125 -5 C 1.578125 -5.40625 1.890625 -5.59375 2.4375 -5.59375 C 3.25 -5.59375 3.84375 -5.265625 3.84375 -4.390625 C 3.84375 -3.6875 3.40625 -3.203125 2.734375 -2.65625 L 0.53125 -0.8125 C 0.453125 -0.734375 0.34375 -0.578125 0.34375 -0.4375 C 0.34375 -0.125 0.765625 0 0.921875 0 L 4.3125 0 C 4.640625 0 4.875 -0.21875 4.875 -0.53125 Z M 4.875 -0.53125 \"/>\n",
       "</symbol>\n",
       "<symbol overflow=\"visible\" id=\"glyph-1500925822269001-0-4\">\n",
       "<path style=\"stroke:none;\" d=\"M 3.40625 -0.75 C 3.40625 -1.109375 2.9375 -1.515625 2.625 -1.515625 C 2.25 -1.515625 1.8125 -1.0625 1.8125 -0.75 C 1.8125 -0.390625 2.296875 0 2.609375 0 C 2.984375 0 3.40625 -0.4375 3.40625 -0.75 Z M 3.40625 -0.75 \"/>\n",
       "</symbol>\n",
       "<symbol overflow=\"visible\" id=\"glyph-1500925822269001-0-5\">\n",
       "<path style=\"stroke:none;\" d=\"M 4.890625 -3.171875 C 4.890625 -5.03125 3.703125 -6.46875 2.609375 -6.46875 C 1.5 -6.46875 0.3125 -5 0.3125 -3.1875 C 0.3125 -1.328125 1.515625 0.109375 2.609375 0.109375 C 3.734375 0.109375 4.890625 -1.359375 4.890625 -3.171875 Z M 3.859375 -3.28125 C 3.859375 -1.796875 3.390625 -0.765625 2.609375 -0.765625 C 1.828125 -0.765625 1.359375 -1.796875 1.359375 -3.28125 C 1.359375 -4.734375 1.875 -5.59375 2.609375 -5.59375 C 3.34375 -5.59375 3.859375 -4.75 3.859375 -3.28125 Z M 3.859375 -3.28125 \"/>\n",
       "</symbol>\n",
       "</g>\n",
       "</defs>\n",
       "<g id=\"surface1\">\n",
       "<path style=\"fill:none;stroke-width:0.3985;stroke-linecap:butt;stroke-linejoin:miter;stroke:rgb(0%,0%,0%);stroke-opacity:1;stroke-miterlimit:10;\" d=\"M -3.081656 -6.166812 L -11.132438 -22.268375 \" transform=\"matrix(1,0,0,-1,20.109,5.966)\"/>\n",
       "<path style=\"fill:none;stroke-width:0.31879;stroke-linecap:round;stroke-linejoin:round;stroke:rgb(0%,0%,0%);stroke-opacity:1;stroke-miterlimit:10;\" d=\"M -1.196257 1.591925 C -1.095343 0.998589 -0.000900028 0.0972671 0.300117 -0.000174723 C 0.000838221 -0.0976112 -1.093621 -0.997174 -1.196285 -1.592248 \" transform=\"matrix(-0.44899,0.898,0.898,0.44899,8.97475,28.23448)\"/>\n",
       "<path style=\"fill:none;stroke-width:0.3985;stroke-linecap:butt;stroke-linejoin:miter;stroke:rgb(0%,0%,0%);stroke-opacity:1;stroke-miterlimit:10;\" d=\"M 3.082406 -6.166812 L 10.629281 -21.260562 \" transform=\"matrix(1,0,0,-1,20.109,5.966)\"/>\n",
       "<path style=\"fill:none;stroke-width:0.31879;stroke-linecap:round;stroke-linejoin:round;stroke:rgb(0%,0%,0%);stroke-opacity:1;stroke-miterlimit:10;\" d=\"M -1.197669 1.592947 C -1.095011 0.997874 -0.000564588 0.0983057 0.298712 0.000866927 C 0.00117539 -0.0983118 -1.096751 -0.99788 -1.194189 -1.592953 \" transform=\"matrix(0.449,0.898,0.898,-0.449,30.7401,27.22824)\"/>\n",
       "<g style=\"fill:rgb(0%,0%,0%);fill-opacity:1;\">\n",
       "  <use xlink:href=\"#glyph-1500925822269001-0-1\" x=\"17.494\" y=\"8.611\"/>\n",
       "</g>\n",
       "<g style=\"fill:rgb(0%,0%,0%);fill-opacity:1;\">\n",
       "  <use xlink:href=\"#glyph-1500925822269001-0-2\" x=\"3.321\" y=\"36.459\"/>\n",
       "</g>\n",
       "<g style=\"fill:rgb(0%,0%,0%);fill-opacity:1;\">\n",
       "  <use xlink:href=\"#glyph-1500925822269001-0-3\" x=\"26.437\" y=\"37.356\"/>\n",
       "  <use xlink:href=\"#glyph-1500925822269001-0-4\" x=\"31.667386\" y=\"37.356\"/>\n",
       "  <use xlink:href=\"#glyph-1500925822269001-0-5\" x=\"36.897772\" y=\"37.356\"/>\n",
       "</g>\n",
       "</g>\n",
       "</svg>\n",
       "\n"
      ],
      "text/plain": [
       "TreeView.LabelledTree({3, 2} directed simple Int64 graph, Any[:+, :x, 2.0])"
      ]
     },
     "execution_count": 13,
     "metadata": {},
     "output_type": "execute_result"
    }
   ],
   "source": [
    "trees = RuleNode[]\n",
    "push!(trees, RuleNode(5))\n",
    "push!(trees, RuleNode(7))\n",
    "push!(trees, RuleNode(1))\n",
    "push!(trees, RuleNode(3, [RuleNode(1), RuleNode(7)]))\n",
    "\n",
    "display(trees[4], ruleset)"
   ]
  },
  {
   "cell_type": "code",
   "execution_count": 14,
   "metadata": {},
   "outputs": [
    {
     "name": "stdout",
     "output_type": "stream",
     "text": [
      " 1              0.0  1262.500000\n",
      " 2              2.0  858.500000\n",
      " 3                x  404.000000\n",
      " 4          x + 2.0  0.000000\n"
     ]
    }
   ],
   "source": [
    "i = 0\n",
    "for t in trees\n",
    "    ex = get_executable(t, ruleset)\n",
    "    @printf(\"%2d  %15s  %5f\\n\", i+=1, string(ex), loss(t))\n",
    "end"
   ]
  },
  {
   "cell_type": "code",
   "execution_count": 16,
   "metadata": {},
   "outputs": [
    {
     "data": {
      "text/plain": [
       "ExprOptimization.ExprOptResults(ExprRules.RuleNode(3, ExprRules.RuleNode[ExprRules.RuleNode(1, ExprRules.RuleNode[]), ExprRules.RuleNode(7, ExprRules.RuleNode[])]), 0.0, :(x + 2.0), nothing)"
      ]
     },
     "execution_count": 16,
     "metadata": {},
     "output_type": "execute_result"
    }
   ],
   "source": [
    "p = MonteCarloParams(500, 5)\n",
    "srand(10)\n",
    "results = optimize(p, ruleset, :Real)"
   ]
  },
  {
   "cell_type": "code",
   "execution_count": 20,
   "metadata": {},
   "outputs": [
    {
     "data": {
      "text/plain": [
       "(:(x + 2.0), 0.0)"
      ]
     },
     "execution_count": 20,
     "metadata": {},
     "output_type": "execute_result"
    }
   ],
   "source": [
    "(results.expr, results.loss)"
   ]
  },
  {
   "cell_type": "code",
   "execution_count": null,
   "metadata": {
    "collapsed": true
   },
   "outputs": [],
   "source": []
  },
  {
   "cell_type": "code",
   "execution_count": null,
   "metadata": {
    "collapsed": true
   },
   "outputs": [],
   "source": []
  }
 ],
 "metadata": {
  "kernelspec": {
   "display_name": "Julia 0.6.0",
   "language": "julia",
   "name": "julia-0.6"
  },
  "language_info": {
   "file_extension": ".jl",
   "mimetype": "application/julia",
   "name": "julia",
   "version": "0.6.0"
  }
 },
 "nbformat": 4,
 "nbformat_minor": 2
}
